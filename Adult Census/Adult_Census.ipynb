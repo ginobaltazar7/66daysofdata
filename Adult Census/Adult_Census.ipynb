{
 "cells": [
  {
   "cell_type": "code",
   "execution_count": 6,
   "metadata": {},
   "outputs": [],
   "source": [
    "import time\n",
    "import sys\n",
    "import numpy as np\n",
    "import pandas as pd\n",
    "import xgboost as xgb\n",
    "from sklearn.metrics import *\n",
    "from sklearn.model_selection import train_test_split\n",
    "from sklearn.preprocessing import StandardScaler\n",
    "from sklearn.cluster import KMeans  \n",
    "import seaborn as sns\n",
    "sns.set_style('whitegrid')\n",
    "\n",
    "import matplotlib.pyplot as plt\n",
    "%matplotlib inline\n",
    "\n",
    "np.set_printoptions(suppress=True)\n",
    "np.set_printoptions(threshold=sys.maxsize)\n",
    "\n",
    "pd.set_option('display.max_rows', 500)\n",
    "pd.set_option('display.max_columns', 500)\n",
    "pd.set_option('display.width', 1000)"
   ]
  },
  {
   "cell_type": "markdown",
   "metadata": {},
   "source": [
    "## Read data\n",
    "source: https://archive.ics.uci.edu/ml/datasets/census+income"
   ]
  },
  {
   "cell_type": "code",
   "execution_count": 10,
   "metadata": {},
   "outputs": [],
   "source": [
    "import csv\n",
    "import pandas as pd\n",
    "from urllib.request import urlopen\n",
    "\n",
    "url = 'https://archive.ics.uci.edu/ml/machine-learning-databases/adult/adult.data'\n",
    "response = urlopen(url)\n",
    "print(response.read())\n",
    "cr = csv.reader(response)"
   ]
  },
  {
   "cell_type": "code",
   "execution_count": 8,
   "metadata": {},
   "outputs": [
    {
     "data": {
      "text/plain": [
       "<_csv.reader at 0x10eef9828>"
      ]
     },
     "execution_count": 8,
     "metadata": {},
     "output_type": "execute_result"
    }
   ],
   "source": [
    "dircr\n"
   ]
  },
  {
   "cell_type": "code",
   "execution_count": 5,
   "metadata": {},
   "outputs": [
    {
     "name": "stdout",
     "output_type": "stream",
     "text": [
      "(32561, 15)\n"
     ]
    }
   ],
   "source": [
    "col = ['age','workclass','fnlwgt','education','edu_code','marital_status','occupation',\n",
    "       'relationship','race','gender','capital_gain','capital_loss','hours_per_week',\n",
    "       'country','income']\n",
    "\n",
    "adult_df = pd.read_csv(\"umass_adult.data\", names=col)\n",
    "print(adult_df.shape)"
   ]
  },
  {
   "cell_type": "markdown",
   "metadata": {},
   "source": [
    "## Create numerical label: income_level"
   ]
  },
  {
   "cell_type": "code",
   "execution_count": 4,
   "metadata": {},
   "outputs": [
    {
     "name": "stdout",
     "output_type": "stream",
     "text": [
      "income_level  income\n",
      "0             <=50K     0.75919\n",
      "1             >50K      0.24081\n",
      "dtype: float64\n"
     ]
    }
   ],
   "source": [
    "adult_df[\"income\"] = adult_df.income.str.strip()\n",
    "cond = (adult_df.income==\">50K\")\n",
    "adult_df[\"income_level\"] = 0\n",
    "adult_df.loc[cond, \"income_level\"] = 1\n",
    "\n",
    "print(adult_df.groupby([\"income_level\",\"income\"]).size()/len(adult_df))"
   ]
  },
  {
   "cell_type": "markdown",
   "metadata": {},
   "source": [
    "# Data Exploration & Visualization"
   ]
  },
  {
   "cell_type": "code",
   "execution_count": 239,
   "metadata": {},
   "outputs": [
    {
     "name": "stdout",
     "output_type": "stream",
     "text": [
      "age               0\n",
      "workclass         0\n",
      "fnlwgt            0\n",
      "education         0\n",
      "edu_code          0\n",
      "marital_status    0\n",
      "occupation        0\n",
      "relationship      0\n",
      "race              0\n",
      "gender            0\n",
      "capital_gain      0\n",
      "capital_loss      0\n",
      "hours_per_week    0\n",
      "country           0\n",
      "income            0\n",
      "income_level      0\n",
      "dtype: int64\n"
     ]
    }
   ],
   "source": [
    "# check missing values\n",
    "print(adult_df.isnull().sum())"
   ]
  },
  {
   "cell_type": "code",
   "execution_count": 240,
   "metadata": {},
   "outputs": [
    {
     "name": "stdout",
     "output_type": "stream",
     "text": [
      "age                int64\n",
      "workclass         object\n",
      "fnlwgt             int64\n",
      "education         object\n",
      "edu_code           int64\n",
      "marital_status    object\n",
      "occupation        object\n",
      "relationship      object\n",
      "race              object\n",
      "gender            object\n",
      "capital_gain       int64\n",
      "capital_loss       int64\n",
      "hours_per_week     int64\n",
      "country           object\n",
      "income            object\n",
      "income_level       int64\n",
      "dtype: object\n"
     ]
    }
   ],
   "source": [
    "# print data types\n",
    "print(adult_df.dtypes)"
   ]
  },
  {
   "cell_type": "markdown",
   "metadata": {},
   "source": [
    "#num_feats = train_df.dtypes[train_df.dtypes != \"object\"].index\n",
    "num_feats = ['age', 'fnlwgt', 'capital_gain', 'capital_loss', 'hours_per_week', 'income_level']\n",
    "colormap = plt.cm.RdBu\n",
    "plt.figure(figsize=(14,12))\n",
    "plt.title('Pearson Correlation of Features', y=1.05, size=15)\n",
    "sns.heatmap(adult_df[num_feats].astype(float).corr(),linewidths=0.1,vmax=1.0, \n",
    "            square=True, cmap=colormap, linecolor='white', annot=True)"
   ]
  },
  {
   "cell_type": "markdown",
   "metadata": {},
   "source": [
    "## Age"
   ]
  },
  {
   "cell_type": "code",
   "execution_count": 316,
   "metadata": {},
   "outputs": [
    {
     "name": "stdout",
     "output_type": "stream",
     "text": [
      "count    32561.000000\n",
      "mean        38.581647\n",
      "std         13.640433\n",
      "min         17.000000\n",
      "25%         28.000000\n",
      "50%         37.000000\n",
      "75%         48.000000\n",
      "max         90.000000\n",
      "Name: age, dtype: float64\n",
      "\n"
     ]
    },
    {
     "data": {
      "text/html": [
       "<div>\n",
       "<style scoped>\n",
       "    .dataframe tbody tr th:only-of-type {\n",
       "        vertical-align: middle;\n",
       "    }\n",
       "\n",
       "    .dataframe tbody tr th {\n",
       "        vertical-align: top;\n",
       "    }\n",
       "\n",
       "    .dataframe thead th {\n",
       "        text-align: right;\n",
       "    }\n",
       "</style>\n",
       "<table border=\"1\" class=\"dataframe\">\n",
       "  <thead>\n",
       "    <tr style=\"text-align: right;\">\n",
       "      <th></th>\n",
       "      <th>income_level</th>\n",
       "      <th>age</th>\n",
       "    </tr>\n",
       "  </thead>\n",
       "  <tbody>\n",
       "    <tr>\n",
       "      <th>0</th>\n",
       "      <td>0</td>\n",
       "      <td>36.783738</td>\n",
       "    </tr>\n",
       "    <tr>\n",
       "      <th>1</th>\n",
       "      <td>1</td>\n",
       "      <td>44.249841</td>\n",
       "    </tr>\n",
       "  </tbody>\n",
       "</table>\n",
       "</div>"
      ],
      "text/plain": [
       "   income_level        age\n",
       "0             0  36.783738\n",
       "1             1  44.249841"
      ]
     },
     "execution_count": 316,
     "metadata": {},
     "output_type": "execute_result"
    }
   ],
   "source": [
    "print(adult_df.age.describe())\n",
    "print()\n",
    "adult_df.groupby([\"income_level\"], as_index=False)[\"age\"].mean()"
   ]
  },
  {
   "cell_type": "code",
   "execution_count": 313,
   "metadata": {},
   "outputs": [
    {
     "name": "stderr",
     "output_type": "stream",
     "text": [
      "/anaconda3/lib/python3.5/site-packages/scipy/stats/stats.py:1713: FutureWarning: Using a non-tuple sequence for multidimensional indexing is deprecated; use `arr[tuple(seq)]` instead of `arr[seq]`. In the future this will be interpreted as an array index, `arr[np.array(seq)]`, which will result either in an error or a different result.\n",
      "  return np.add.reduce(sorted[indexer] * weights, axis=axis) / sumval\n"
     ]
    },
    {
     "data": {
      "text/plain": [
       "<seaborn.axisgrid.FacetGrid at 0x1a23ac7be0>"
      ]
     },
     "execution_count": 313,
     "metadata": {},
     "output_type": "execute_result"
    },
    {
     "data": {
      "image/png": "[encoded data removed]",
      "text/plain": [
       "<Figure size 930.5x216 with 1 Axes>"
      ]
     },
     "metadata": {},
     "output_type": "display_data"
    }
   ],
   "source": [
    "sns.FacetGrid(adult_df, hue=\"income_level\", aspect=4)\\\n",
    "   .map(sns.kdeplot, 'age', shade= True)\\\n",
    "   .add_legend()"
   ]
  },
  {
   "cell_type": "markdown",
   "metadata": {},
   "source": [
    "## workclass: categorical"
   ]
  },
  {
   "cell_type": "code",
   "execution_count": 6,
   "metadata": {},
   "outputs": [
    {
     "name": "stdout",
     "output_type": "stream",
     "text": [
      "Private             22696\n",
      "Self-emp-not-inc     2541\n",
      "Local-gov            2093\n",
      "?                    1836\n",
      "State-gov            1298\n",
      "Self-emp-inc         1116\n",
      "Federal-gov           960\n",
      "Without-pay            14\n",
      "Never-worked            7\n",
      "Name: workclass, dtype: int64\n"
     ]
    }
   ],
   "source": [
    "adult_df[\"workclass\"] = adult_df.workclass.str.strip()\n",
    "work_cnt = adult_df.workclass.value_counts()\n",
    "print(work_cnt)"
   ]
  },
  {
   "cell_type": "code",
   "execution_count": 7,
   "metadata": {},
   "outputs": [
    {
     "data": {
      "text/plain": [
       "(array([0, 1, 2, 3, 4, 5, 6, 7, 8]), <a list of 9 Text xticklabel objects>)"
      ]
     },
     "execution_count": 7,
     "metadata": {},
     "output_type": "execute_result"
    },
    {
     "data": {
      "image/png": "[encoded data removed]",
      "text/plain": [
       "<Figure size 432x288 with 1 Axes>"
      ]
     },
     "metadata": {},
     "output_type": "display_data"
    }
   ],
   "source": [
    "work_perc = adult_df.groupby([\"workclass\"], as_index=False)[\"income_level\"].mean()\n",
    "sns.barplot(x=\"workclass\", y=\"income_level\", data=work_perc, order=list(work_cnt.index))  \n",
    "plt.xticks(rotation=45)"
   ]
  },
  {
   "cell_type": "markdown",
   "metadata": {},
   "source": [
    "## fnlwgt"
   ]
  },
  {
   "cell_type": "code",
   "execution_count": 317,
   "metadata": {},
   "outputs": [
    {
     "name": "stdout",
     "output_type": "stream",
     "text": [
      "count    3.256100e+04\n",
      "mean     1.897784e+05\n",
      "std      1.055500e+05\n",
      "min      1.228500e+04\n",
      "25%      1.178270e+05\n",
      "50%      1.783560e+05\n",
      "75%      2.370510e+05\n",
      "max      1.484705e+06\n",
      "Name: fnlwgt, dtype: float64\n",
      "\n"
     ]
    },
    {
     "data": {
      "text/html": [
       "<div>\n",
       "<style scoped>\n",
       "    .dataframe tbody tr th:only-of-type {\n",
       "        vertical-align: middle;\n",
       "    }\n",
       "\n",
       "    .dataframe tbody tr th {\n",
       "        vertical-align: top;\n",
       "    }\n",
       "\n",
       "    .dataframe thead th {\n",
       "        text-align: right;\n",
       "    }\n",
       "</style>\n",
       "<table border=\"1\" class=\"dataframe\">\n",
       "  <thead>\n",
       "    <tr style=\"text-align: right;\">\n",
       "      <th></th>\n",
       "      <th>income_level</th>\n",
       "      <th>fnlwgt</th>\n",
       "    </tr>\n",
       "  </thead>\n",
       "  <tbody>\n",
       "    <tr>\n",
       "      <th>0</th>\n",
       "      <td>0</td>\n",
       "      <td>190340.86517</td>\n",
       "    </tr>\n",
       "    <tr>\n",
       "      <th>1</th>\n",
       "      <td>1</td>\n",
       "      <td>188005.00000</td>\n",
       "    </tr>\n",
       "  </tbody>\n",
       "</table>\n",
       "</div>"
      ],
      "text/plain": [
       "   income_level        fnlwgt\n",
       "0             0  190340.86517\n",
       "1             1  188005.00000"
      ]
     },
     "execution_count": 317,
     "metadata": {},
     "output_type": "execute_result"
    }
   ],
   "source": [
    "print(adult_df.fnlwgt.describe())\n",
    "print()\n",
    "adult_df.groupby([\"income_level\"], as_index=False)[\"fnlwgt\"].mean()"
   ]
  },
  {
   "cell_type": "markdown",
   "metadata": {},
   "source": [
    "## education & edu_code: categorical"
   ]
  },
  {
   "cell_type": "code",
   "execution_count": 291,
   "metadata": {},
   "outputs": [
    {
     "name": "stdout",
     "output_type": "stream",
     "text": [
      "education     edu_code\n",
      "HS-grad       9           10501\n",
      "Some-college  10           7291\n",
      "Bachelors     13           5355\n",
      "Masters       14           1723\n",
      "Assoc-voc     11           1382\n",
      "11th          7            1175\n",
      "Assoc-acdm    12           1067\n",
      "10th          6             933\n",
      "7th-8th       4             646\n",
      "Prof-school   15            576\n",
      "9th           5             514\n",
      "12th          8             433\n",
      "Doctorate     16            413\n",
      "5th-6th       3             333\n",
      "1st-4th       2             168\n",
      "Preschool     1              51\n",
      "dtype: int64\n"
     ]
    }
   ],
   "source": [
    "adult_df[\"education\"] = adult_df.education.str.strip()\n",
    "print(adult_df.groupby([\"education\",\"edu_code\"]).size().sort_values(ascending=False))"
   ]
  },
  {
   "cell_type": "code",
   "execution_count": null,
   "metadata": {},
   "outputs": [],
   "source": [
    "marital_perc = adult_df.groupby([\"marital_status\"], as_index=False)[\"income_level\"].mean()\n",
    "sns.barplot(x=\"marital_status\", y=\"income_level\", data=marital_perc, order=list(marital_cnt.index))  "
   ]
  },
  {
   "cell_type": "markdown",
   "metadata": {},
   "source": [
    "## maritial_status: categorical"
   ]
  },
  {
   "cell_type": "code",
   "execution_count": 288,
   "metadata": {},
   "outputs": [
    {
     "name": "stdout",
     "output_type": "stream",
     "text": [
      "Married-civ-spouse       14976\n",
      "Never-married            10683\n",
      "Divorced                  4443\n",
      "Separated                 1025\n",
      "Widowed                    993\n",
      "Married-spouse-absent      418\n",
      "Married-AF-spouse           23\n",
      "Name: marital_status, dtype: int64\n"
     ]
    }
   ],
   "source": [
    "adult_df[\"marital_status\"] = adult_df.marital_status.str.strip()\n",
    "marital_cnt = adult_df.marital_status.value_counts()\n",
    "print(marital_cnt)"
   ]
  },
  {
   "cell_type": "code",
   "execution_count": 338,
   "metadata": {},
   "outputs": [
    {
     "data": {
      "text/plain": [
       "(array([0, 1, 2, 3, 4, 5, 6]), <a list of 7 Text xticklabel objects>)"
      ]
     },
     "execution_count": 338,
     "metadata": {},
     "output_type": "execute_result"
    },
    {
     "data": {
      "image/png": "[encoded data removed]",
      "text/plain": [
       "<Figure size 1440x360 with 1 Axes>"
      ]
     },
     "metadata": {},
     "output_type": "display_data"
    }
   ],
   "source": [
    "marital_perc = adult_df.groupby([\"marital_status\"], as_index=False)[\"income_level\"].mean()\n",
    "g = sns.barplot(x=\"marital_status\", y=\"income_level\", data=marital_perc, order=list(marital_cnt.index)) \n",
    "#g.set_xticklabels(g.get_xticklabels(), rotation=30)\n",
    "plt.xticks(rotation=45)"
   ]
  },
  {
   "cell_type": "markdown",
   "metadata": {},
   "source": [
    "## occupation: categorical"
   ]
  },
  {
   "cell_type": "code",
   "execution_count": 294,
   "metadata": {},
   "outputs": [
    {
     "name": "stdout",
     "output_type": "stream",
     "text": [
      "Prof-specialty       4140\n",
      "Craft-repair         4099\n",
      "Exec-managerial      4066\n",
      "Adm-clerical         3770\n",
      "Sales                3650\n",
      "Other-service        3295\n",
      "Machine-op-inspct    2002\n",
      "?                    1843\n",
      "Transport-moving     1597\n",
      "Handlers-cleaners    1370\n",
      "Farming-fishing       994\n",
      "Tech-support          928\n",
      "Protective-serv       649\n",
      "Priv-house-serv       149\n",
      "Armed-Forces            9\n",
      "Name: occupation, dtype: int64\n"
     ]
    }
   ],
   "source": [
    "adult_df[\"occupation\"] = adult_df.occupation.str.strip()\n",
    "occu_cnt = adult_df.occupation.value_counts()\n",
    "print(occu_cnt)"
   ]
  },
  {
   "cell_type": "code",
   "execution_count": 299,
   "metadata": {},
   "outputs": [
    {
     "name": "stdout",
     "output_type": "stream",
     "text": [
      "           occupation  income_level\n",
      "4     Exec-managerial      0.484014\n",
      "10     Prof-specialty      0.449034\n",
      "11    Protective-serv      0.325116\n",
      "13       Tech-support      0.304957\n",
      "12              Sales      0.269315\n",
      "3        Craft-repair      0.226641\n",
      "14   Transport-moving      0.200376\n",
      "1        Adm-clerical      0.134483\n",
      "7   Machine-op-inspct      0.124875\n",
      "5     Farming-fishing      0.115694\n",
      "2        Armed-Forces      0.111111\n",
      "0                   ?      0.103635\n",
      "6   Handlers-cleaners      0.062774\n",
      "8       Other-service      0.041578\n",
      "9     Priv-house-serv      0.006711\n"
     ]
    }
   ],
   "source": [
    "occu_perc = adult_df.groupby([\"occupation\"], as_index=False)[\"income_level\"].mean()\n",
    "print(occu_perc.sort_values(\"income_level\", ascending=False))\n",
    "#sns.barplot(x=\"occupation\", y=\"income_level\", data=occu_perc, order=list(occu_cnt.index))                                                                          "
   ]
  },
  {
   "cell_type": "markdown",
   "metadata": {},
   "source": [
    "## relationship: categorical"
   ]
  },
  {
   "cell_type": "code",
   "execution_count": 284,
   "metadata": {},
   "outputs": [
    {
     "name": "stdout",
     "output_type": "stream",
     "text": [
      "Husband           13193\n",
      "Not-in-family      8305\n",
      "Own-child          5068\n",
      "Unmarried          3446\n",
      "Wife               1568\n",
      "Other-relative      981\n",
      "Name: relationship, dtype: int64\n"
     ]
    }
   ],
   "source": [
    "adult_df[\"relationship\"] = adult_df.relationship.str.strip()\n",
    "relation_cnt = adult_df.relationship.value_counts()\n",
    "print(relation_cnt)"
   ]
  },
  {
   "cell_type": "code",
   "execution_count": 285,
   "metadata": {},
   "outputs": [
    {
     "data": {
      "text/plain": [
       "<matplotlib.axes._subplots.AxesSubplot at 0x10f9088d0>"
      ]
     },
     "execution_count": 285,
     "metadata": {},
     "output_type": "execute_result"
    },
    {
     "data": {
      "image/png": "[encoded data removed]",
      "text/plain": [
       "<Figure size 432x288 with 1 Axes>"
      ]
     },
     "metadata": {},
     "output_type": "display_data"
    }
   ],
   "source": [
    "relation_perc = adult_df.groupby([\"relationship\"], as_index=False)[\"income_level\"].mean()\n",
    "sns.barplot(x=\"relationship\", y=\"income_level\", data=relation_perc, order=list(relation_cnt.index))                                                                          "
   ]
  },
  {
   "cell_type": "markdown",
   "metadata": {},
   "source": [
    "## race: categorical"
   ]
  },
  {
   "cell_type": "code",
   "execution_count": 280,
   "metadata": {},
   "outputs": [
    {
     "name": "stdout",
     "output_type": "stream",
     "text": [
      "White                 27816\n",
      "Black                  3124\n",
      "Asian-Pac-Islander     1039\n",
      "Amer-Indian-Eskimo      311\n",
      "Other                   271\n",
      "Name: race, dtype: int64\n"
     ]
    }
   ],
   "source": [
    "adult_df[\"race\"] = adult_df.race.str.strip()\n",
    "race_cnt = adult_df.race.value_counts()\n",
    "print(race_cnt)"
   ]
  },
  {
   "cell_type": "code",
   "execution_count": 283,
   "metadata": {},
   "outputs": [
    {
     "data": {
      "text/plain": [
       "<matplotlib.axes._subplots.AxesSubplot at 0x1a2a3ce860>"
      ]
     },
     "execution_count": 283,
     "metadata": {},
     "output_type": "execute_result"
    },
    {
     "data": {
      "image/png": "[encoded data removed]",
      "text/plain": [
       "<Figure size 432x288 with 1 Axes>"
      ]
     },
     "metadata": {},
     "output_type": "display_data"
    }
   ],
   "source": [
    "race_perc = adult_df.groupby([\"race\"], as_index=False)[\"income_level\"].mean()\n",
    "sns.barplot(x=\"race\", y=\"income_level\", data=race_perc, order=list(race_cnt.index))"
   ]
  },
  {
   "cell_type": "markdown",
   "metadata": {},
   "source": [
    "## gender: categorical"
   ]
  },
  {
   "cell_type": "code",
   "execution_count": 243,
   "metadata": {},
   "outputs": [
    {
     "name": "stdout",
     "output_type": "stream",
     "text": [
      "Male      21790\n",
      "Female    10771\n",
      "Name: gender, dtype: int64\n"
     ]
    }
   ],
   "source": [
    "adult_df[\"gender\"] = adult_df.gender.str.strip()\n",
    "print(adult_df.gender.value_counts())"
   ]
  },
  {
   "cell_type": "code",
   "execution_count": 259,
   "metadata": {},
   "outputs": [
    {
     "data": {
      "text/plain": [
       "<matplotlib.axes._subplots.AxesSubplot at 0x1a20bd2a58>"
      ]
     },
     "execution_count": 259,
     "metadata": {},
     "output_type": "execute_result"
    },
    {
     "data": {
      "image/png": "[encoded data removed]",
      "text/plain": [
       "<Figure size 432x288 with 1 Axes>"
      ]
     },
     "metadata": {},
     "output_type": "display_data"
    }
   ],
   "source": [
    "gender_perc = adult_df.groupby([\"gender\"], as_index=False)[\"income_level\"].mean()\n",
    "sns.barplot(x=\"gender\", y=\"income_level\", data=gender_perc)"
   ]
  },
  {
   "cell_type": "markdown",
   "metadata": {},
   "source": [
    "## capital_gain: numerical"
   ]
  },
  {
   "cell_type": "code",
   "execution_count": 318,
   "metadata": {},
   "outputs": [
    {
     "name": "stdout",
     "output_type": "stream",
     "text": [
      "count    32561.000000\n",
      "mean      1077.648844\n",
      "std       7385.292085\n",
      "min          0.000000\n",
      "25%          0.000000\n",
      "50%          0.000000\n",
      "75%          0.000000\n",
      "max      99999.000000\n",
      "Name: capital_gain, dtype: float64\n",
      "\n"
     ]
    },
    {
     "data": {
      "text/html": [
       "<div>\n",
       "<style scoped>\n",
       "    .dataframe tbody tr th:only-of-type {\n",
       "        vertical-align: middle;\n",
       "    }\n",
       "\n",
       "    .dataframe tbody tr th {\n",
       "        vertical-align: top;\n",
       "    }\n",
       "\n",
       "    .dataframe thead th {\n",
       "        text-align: right;\n",
       "    }\n",
       "</style>\n",
       "<table border=\"1\" class=\"dataframe\">\n",
       "  <thead>\n",
       "    <tr style=\"text-align: right;\">\n",
       "      <th></th>\n",
       "      <th>income_level</th>\n",
       "      <th>capital_gain</th>\n",
       "    </tr>\n",
       "  </thead>\n",
       "  <tbody>\n",
       "    <tr>\n",
       "      <th>0</th>\n",
       "      <td>0</td>\n",
       "      <td>148.752468</td>\n",
       "    </tr>\n",
       "    <tr>\n",
       "      <th>1</th>\n",
       "      <td>1</td>\n",
       "      <td>4006.142456</td>\n",
       "    </tr>\n",
       "  </tbody>\n",
       "</table>\n",
       "</div>"
      ],
      "text/plain": [
       "   income_level  capital_gain\n",
       "0             0    148.752468\n",
       "1             1   4006.142456"
      ]
     },
     "execution_count": 318,
     "metadata": {},
     "output_type": "execute_result"
    }
   ],
   "source": [
    "print(adult_df.capital_gain.describe())\n",
    "print()\n",
    "adult_df.groupby([\"income_level\"], as_index=False)[\"capital_gain\"].mean()"
   ]
  },
  {
   "cell_type": "code",
   "execution_count": 334,
   "metadata": {},
   "outputs": [
    {
     "name": "stderr",
     "output_type": "stream",
     "text": [
      "/anaconda3/lib/python3.5/site-packages/scipy/stats/stats.py:1713: FutureWarning: Using a non-tuple sequence for multidimensional indexing is deprecated; use `arr[tuple(seq)]` instead of `arr[seq]`. In the future this will be interpreted as an array index, `arr[np.array(seq)]`, which will result either in an error or a different result.\n",
      "  return np.add.reduce(sorted[indexer] * weights, axis=axis) / sumval\n"
     ]
    },
    {
     "data": {
      "text/plain": [
       "<seaborn.axisgrid.FacetGrid at 0x1a35041400>"
      ]
     },
     "execution_count": 334,
     "metadata": {},
     "output_type": "execute_result"
    },
    {
     "data": {
      "image/png": "[encoded data removed]",
      "text/plain": [
       "<Figure size 932.05x216 with 1 Axes>"
      ]
     },
     "metadata": {},
     "output_type": "display_data"
    }
   ],
   "source": [
    "sns.FacetGrid(adult_df, hue=\"income_level\", aspect=4)\\\n",
    "   .map(sns.kdeplot, 'capital_gain', shade= True)\\\n",
    "   .add_legend()"
   ]
  },
  {
   "cell_type": "markdown",
   "metadata": {},
   "source": [
    "## capital_loss: numerical"
   ]
  },
  {
   "cell_type": "code",
   "execution_count": 319,
   "metadata": {},
   "outputs": [
    {
     "name": "stdout",
     "output_type": "stream",
     "text": [
      "count    32561.000000\n",
      "mean        87.303830\n",
      "std        402.960219\n",
      "min          0.000000\n",
      "25%          0.000000\n",
      "50%          0.000000\n",
      "75%          0.000000\n",
      "max       4356.000000\n",
      "Name: capital_loss, dtype: float64\n",
      "\n"
     ]
    },
    {
     "data": {
      "text/html": [
       "<div>\n",
       "<style scoped>\n",
       "    .dataframe tbody tr th:only-of-type {\n",
       "        vertical-align: middle;\n",
       "    }\n",
       "\n",
       "    .dataframe tbody tr th {\n",
       "        vertical-align: top;\n",
       "    }\n",
       "\n",
       "    .dataframe thead th {\n",
       "        text-align: right;\n",
       "    }\n",
       "</style>\n",
       "<table border=\"1\" class=\"dataframe\">\n",
       "  <thead>\n",
       "    <tr style=\"text-align: right;\">\n",
       "      <th></th>\n",
       "      <th>income_level</th>\n",
       "      <th>capital_loss</th>\n",
       "    </tr>\n",
       "  </thead>\n",
       "  <tbody>\n",
       "    <tr>\n",
       "      <th>0</th>\n",
       "      <td>0</td>\n",
       "      <td>53.142921</td>\n",
       "    </tr>\n",
       "    <tr>\n",
       "      <th>1</th>\n",
       "      <td>1</td>\n",
       "      <td>195.001530</td>\n",
       "    </tr>\n",
       "  </tbody>\n",
       "</table>\n",
       "</div>"
      ],
      "text/plain": [
       "   income_level  capital_loss\n",
       "0             0     53.142921\n",
       "1             1    195.001530"
      ]
     },
     "execution_count": 319,
     "metadata": {},
     "output_type": "execute_result"
    }
   ],
   "source": [
    "print(adult_df.capital_loss.describe())\n",
    "print()\n",
    "adult_df.groupby([\"income_level\"], as_index=False)[\"capital_loss\"].mean()"
   ]
  },
  {
   "cell_type": "code",
   "execution_count": 335,
   "metadata": {},
   "outputs": [
    {
     "name": "stderr",
     "output_type": "stream",
     "text": [
      "/anaconda3/lib/python3.5/site-packages/scipy/stats/stats.py:1713: FutureWarning: Using a non-tuple sequence for multidimensional indexing is deprecated; use `arr[tuple(seq)]` instead of `arr[seq]`. In the future this will be interpreted as an array index, `arr[np.array(seq)]`, which will result either in an error or a different result.\n",
      "  return np.add.reduce(sorted[indexer] * weights, axis=axis) / sumval\n"
     ]
    },
    {
     "data": {
      "text/plain": [
       "<seaborn.axisgrid.FacetGrid at 0x1a35217828>"
      ]
     },
     "execution_count": 335,
     "metadata": {},
     "output_type": "execute_result"
    },
    {
     "data": {
      "image/png": "[encoded data removed]",
      "text/plain": [
       "<Figure size 932.05x216 with 1 Axes>"
      ]
     },
     "metadata": {},
     "output_type": "display_data"
    }
   ],
   "source": [
    "sns.FacetGrid(adult_df, hue=\"income_level\", aspect=4)\\\n",
    "   .map(sns.kdeplot, 'capital_loss', shade= True)\\\n",
    "   .add_legend()"
   ]
  },
  {
   "cell_type": "markdown",
   "metadata": {},
   "source": [
    "## hours_per_week: numerical"
   ]
  },
  {
   "cell_type": "code",
   "execution_count": 321,
   "metadata": {},
   "outputs": [
    {
     "name": "stdout",
     "output_type": "stream",
     "text": [
      "count    32561.000000\n",
      "mean        40.437456\n",
      "std         12.347429\n",
      "min          1.000000\n",
      "25%         40.000000\n",
      "50%         40.000000\n",
      "75%         45.000000\n",
      "max         99.000000\n",
      "Name: hours_per_week, dtype: float64\n",
      "\n"
     ]
    },
    {
     "data": {
      "text/html": [
       "<div>\n",
       "<style scoped>\n",
       "    .dataframe tbody tr th:only-of-type {\n",
       "        vertical-align: middle;\n",
       "    }\n",
       "\n",
       "    .dataframe tbody tr th {\n",
       "        vertical-align: top;\n",
       "    }\n",
       "\n",
       "    .dataframe thead th {\n",
       "        text-align: right;\n",
       "    }\n",
       "</style>\n",
       "<table border=\"1\" class=\"dataframe\">\n",
       "  <thead>\n",
       "    <tr style=\"text-align: right;\">\n",
       "      <th></th>\n",
       "      <th>hours_per_week</th>\n",
       "      <th>income_level</th>\n",
       "    </tr>\n",
       "  </thead>\n",
       "  <tbody>\n",
       "    <tr>\n",
       "      <th>0</th>\n",
       "      <td>1</td>\n",
       "      <td>0.100000</td>\n",
       "    </tr>\n",
       "    <tr>\n",
       "      <th>1</th>\n",
       "      <td>2</td>\n",
       "      <td>0.250000</td>\n",
       "    </tr>\n",
       "    <tr>\n",
       "      <th>2</th>\n",
       "      <td>3</td>\n",
       "      <td>0.025641</td>\n",
       "    </tr>\n",
       "    <tr>\n",
       "      <th>3</th>\n",
       "      <td>4</td>\n",
       "      <td>0.055556</td>\n",
       "    </tr>\n",
       "    <tr>\n",
       "      <th>4</th>\n",
       "      <td>5</td>\n",
       "      <td>0.116667</td>\n",
       "    </tr>\n",
       "    <tr>\n",
       "      <th>5</th>\n",
       "      <td>6</td>\n",
       "      <td>0.125000</td>\n",
       "    </tr>\n",
       "    <tr>\n",
       "      <th>6</th>\n",
       "      <td>7</td>\n",
       "      <td>0.153846</td>\n",
       "    </tr>\n",
       "    <tr>\n",
       "      <th>7</th>\n",
       "      <td>8</td>\n",
       "      <td>0.075862</td>\n",
       "    </tr>\n",
       "    <tr>\n",
       "      <th>8</th>\n",
       "      <td>9</td>\n",
       "      <td>0.055556</td>\n",
       "    </tr>\n",
       "    <tr>\n",
       "      <th>9</th>\n",
       "      <td>10</td>\n",
       "      <td>0.071942</td>\n",
       "    </tr>\n",
       "    <tr>\n",
       "      <th>10</th>\n",
       "      <td>11</td>\n",
       "      <td>0.000000</td>\n",
       "    </tr>\n",
       "    <tr>\n",
       "      <th>11</th>\n",
       "      <td>12</td>\n",
       "      <td>0.069364</td>\n",
       "    </tr>\n",
       "    <tr>\n",
       "      <th>12</th>\n",
       "      <td>13</td>\n",
       "      <td>0.086957</td>\n",
       "    </tr>\n",
       "    <tr>\n",
       "      <th>13</th>\n",
       "      <td>14</td>\n",
       "      <td>0.058824</td>\n",
       "    </tr>\n",
       "    <tr>\n",
       "      <th>14</th>\n",
       "      <td>15</td>\n",
       "      <td>0.037129</td>\n",
       "    </tr>\n",
       "    <tr>\n",
       "      <th>15</th>\n",
       "      <td>16</td>\n",
       "      <td>0.063415</td>\n",
       "    </tr>\n",
       "    <tr>\n",
       "      <th>16</th>\n",
       "      <td>17</td>\n",
       "      <td>0.034483</td>\n",
       "    </tr>\n",
       "    <tr>\n",
       "      <th>17</th>\n",
       "      <td>18</td>\n",
       "      <td>0.093333</td>\n",
       "    </tr>\n",
       "    <tr>\n",
       "      <th>18</th>\n",
       "      <td>19</td>\n",
       "      <td>0.000000</td>\n",
       "    </tr>\n",
       "    <tr>\n",
       "      <th>19</th>\n",
       "      <td>20</td>\n",
       "      <td>0.063725</td>\n",
       "    </tr>\n",
       "    <tr>\n",
       "      <th>20</th>\n",
       "      <td>21</td>\n",
       "      <td>0.083333</td>\n",
       "    </tr>\n",
       "    <tr>\n",
       "      <th>21</th>\n",
       "      <td>22</td>\n",
       "      <td>0.090909</td>\n",
       "    </tr>\n",
       "    <tr>\n",
       "      <th>22</th>\n",
       "      <td>23</td>\n",
       "      <td>0.000000</td>\n",
       "    </tr>\n",
       "    <tr>\n",
       "      <th>23</th>\n",
       "      <td>24</td>\n",
       "      <td>0.091270</td>\n",
       "    </tr>\n",
       "    <tr>\n",
       "      <th>24</th>\n",
       "      <td>25</td>\n",
       "      <td>0.051929</td>\n",
       "    </tr>\n",
       "    <tr>\n",
       "      <th>25</th>\n",
       "      <td>26</td>\n",
       "      <td>0.133333</td>\n",
       "    </tr>\n",
       "    <tr>\n",
       "      <th>26</th>\n",
       "      <td>27</td>\n",
       "      <td>0.033333</td>\n",
       "    </tr>\n",
       "    <tr>\n",
       "      <th>27</th>\n",
       "      <td>28</td>\n",
       "      <td>0.058140</td>\n",
       "    </tr>\n",
       "    <tr>\n",
       "      <th>28</th>\n",
       "      <td>29</td>\n",
       "      <td>0.142857</td>\n",
       "    </tr>\n",
       "    <tr>\n",
       "      <th>29</th>\n",
       "      <td>30</td>\n",
       "      <td>0.072237</td>\n",
       "    </tr>\n",
       "    <tr>\n",
       "      <th>30</th>\n",
       "      <td>31</td>\n",
       "      <td>0.000000</td>\n",
       "    </tr>\n",
       "    <tr>\n",
       "      <th>31</th>\n",
       "      <td>32</td>\n",
       "      <td>0.105263</td>\n",
       "    </tr>\n",
       "    <tr>\n",
       "      <th>32</th>\n",
       "      <td>33</td>\n",
       "      <td>0.102564</td>\n",
       "    </tr>\n",
       "    <tr>\n",
       "      <th>33</th>\n",
       "      <td>34</td>\n",
       "      <td>0.071429</td>\n",
       "    </tr>\n",
       "    <tr>\n",
       "      <th>34</th>\n",
       "      <td>35</td>\n",
       "      <td>0.150347</td>\n",
       "    </tr>\n",
       "    <tr>\n",
       "      <th>35</th>\n",
       "      <td>36</td>\n",
       "      <td>0.195455</td>\n",
       "    </tr>\n",
       "    <tr>\n",
       "      <th>36</th>\n",
       "      <td>37</td>\n",
       "      <td>0.134228</td>\n",
       "    </tr>\n",
       "    <tr>\n",
       "      <th>37</th>\n",
       "      <td>38</td>\n",
       "      <td>0.180672</td>\n",
       "    </tr>\n",
       "    <tr>\n",
       "      <th>38</th>\n",
       "      <td>39</td>\n",
       "      <td>0.184211</td>\n",
       "    </tr>\n",
       "    <tr>\n",
       "      <th>39</th>\n",
       "      <td>40</td>\n",
       "      <td>0.213380</td>\n",
       "    </tr>\n",
       "    <tr>\n",
       "      <th>40</th>\n",
       "      <td>41</td>\n",
       "      <td>0.194444</td>\n",
       "    </tr>\n",
       "    <tr>\n",
       "      <th>41</th>\n",
       "      <td>42</td>\n",
       "      <td>0.319635</td>\n",
       "    </tr>\n",
       "    <tr>\n",
       "      <th>42</th>\n",
       "      <td>43</td>\n",
       "      <td>0.258278</td>\n",
       "    </tr>\n",
       "    <tr>\n",
       "      <th>43</th>\n",
       "      <td>44</td>\n",
       "      <td>0.349057</td>\n",
       "    </tr>\n",
       "    <tr>\n",
       "      <th>44</th>\n",
       "      <td>45</td>\n",
       "      <td>0.375548</td>\n",
       "    </tr>\n",
       "    <tr>\n",
       "      <th>45</th>\n",
       "      <td>46</td>\n",
       "      <td>0.341463</td>\n",
       "    </tr>\n",
       "    <tr>\n",
       "      <th>46</th>\n",
       "      <td>47</td>\n",
       "      <td>0.306122</td>\n",
       "    </tr>\n",
       "    <tr>\n",
       "      <th>47</th>\n",
       "      <td>48</td>\n",
       "      <td>0.294004</td>\n",
       "    </tr>\n",
       "    <tr>\n",
       "      <th>48</th>\n",
       "      <td>49</td>\n",
       "      <td>0.206897</td>\n",
       "    </tr>\n",
       "    <tr>\n",
       "      <th>49</th>\n",
       "      <td>50</td>\n",
       "      <td>0.452643</td>\n",
       "    </tr>\n",
       "    <tr>\n",
       "      <th>50</th>\n",
       "      <td>51</td>\n",
       "      <td>0.230769</td>\n",
       "    </tr>\n",
       "    <tr>\n",
       "      <th>51</th>\n",
       "      <td>52</td>\n",
       "      <td>0.347826</td>\n",
       "    </tr>\n",
       "    <tr>\n",
       "      <th>52</th>\n",
       "      <td>53</td>\n",
       "      <td>0.240000</td>\n",
       "    </tr>\n",
       "    <tr>\n",
       "      <th>53</th>\n",
       "      <td>54</td>\n",
       "      <td>0.341463</td>\n",
       "    </tr>\n",
       "    <tr>\n",
       "      <th>54</th>\n",
       "      <td>55</td>\n",
       "      <td>0.465418</td>\n",
       "    </tr>\n",
       "    <tr>\n",
       "      <th>55</th>\n",
       "      <td>56</td>\n",
       "      <td>0.412371</td>\n",
       "    </tr>\n",
       "    <tr>\n",
       "      <th>56</th>\n",
       "      <td>57</td>\n",
       "      <td>0.411765</td>\n",
       "    </tr>\n",
       "    <tr>\n",
       "      <th>57</th>\n",
       "      <td>58</td>\n",
       "      <td>0.321429</td>\n",
       "    </tr>\n",
       "    <tr>\n",
       "      <th>58</th>\n",
       "      <td>59</td>\n",
       "      <td>0.400000</td>\n",
       "    </tr>\n",
       "    <tr>\n",
       "      <th>59</th>\n",
       "      <td>60</td>\n",
       "      <td>0.439322</td>\n",
       "    </tr>\n",
       "    <tr>\n",
       "      <th>60</th>\n",
       "      <td>61</td>\n",
       "      <td>1.000000</td>\n",
       "    </tr>\n",
       "    <tr>\n",
       "      <th>61</th>\n",
       "      <td>62</td>\n",
       "      <td>0.222222</td>\n",
       "    </tr>\n",
       "    <tr>\n",
       "      <th>62</th>\n",
       "      <td>63</td>\n",
       "      <td>0.300000</td>\n",
       "    </tr>\n",
       "    <tr>\n",
       "      <th>63</th>\n",
       "      <td>64</td>\n",
       "      <td>0.357143</td>\n",
       "    </tr>\n",
       "    <tr>\n",
       "      <th>64</th>\n",
       "      <td>65</td>\n",
       "      <td>0.426230</td>\n",
       "    </tr>\n",
       "    <tr>\n",
       "      <th>65</th>\n",
       "      <td>66</td>\n",
       "      <td>0.117647</td>\n",
       "    </tr>\n",
       "    <tr>\n",
       "      <th>66</th>\n",
       "      <td>67</td>\n",
       "      <td>0.750000</td>\n",
       "    </tr>\n",
       "    <tr>\n",
       "      <th>67</th>\n",
       "      <td>68</td>\n",
       "      <td>0.416667</td>\n",
       "    </tr>\n",
       "    <tr>\n",
       "      <th>68</th>\n",
       "      <td>70</td>\n",
       "      <td>0.364261</td>\n",
       "    </tr>\n",
       "    <tr>\n",
       "      <th>69</th>\n",
       "      <td>72</td>\n",
       "      <td>0.352113</td>\n",
       "    </tr>\n",
       "    <tr>\n",
       "      <th>70</th>\n",
       "      <td>73</td>\n",
       "      <td>0.500000</td>\n",
       "    </tr>\n",
       "    <tr>\n",
       "      <th>71</th>\n",
       "      <td>74</td>\n",
       "      <td>0.000000</td>\n",
       "    </tr>\n",
       "    <tr>\n",
       "      <th>72</th>\n",
       "      <td>75</td>\n",
       "      <td>0.303030</td>\n",
       "    </tr>\n",
       "    <tr>\n",
       "      <th>73</th>\n",
       "      <td>76</td>\n",
       "      <td>0.666667</td>\n",
       "    </tr>\n",
       "    <tr>\n",
       "      <th>74</th>\n",
       "      <td>77</td>\n",
       "      <td>0.000000</td>\n",
       "    </tr>\n",
       "    <tr>\n",
       "      <th>75</th>\n",
       "      <td>78</td>\n",
       "      <td>0.250000</td>\n",
       "    </tr>\n",
       "    <tr>\n",
       "      <th>76</th>\n",
       "      <td>80</td>\n",
       "      <td>0.428571</td>\n",
       "    </tr>\n",
       "    <tr>\n",
       "      <th>77</th>\n",
       "      <td>81</td>\n",
       "      <td>0.000000</td>\n",
       "    </tr>\n",
       "    <tr>\n",
       "      <th>78</th>\n",
       "      <td>82</td>\n",
       "      <td>0.000000</td>\n",
       "    </tr>\n",
       "    <tr>\n",
       "      <th>79</th>\n",
       "      <td>84</td>\n",
       "      <td>0.377778</td>\n",
       "    </tr>\n",
       "    <tr>\n",
       "      <th>80</th>\n",
       "      <td>85</td>\n",
       "      <td>0.307692</td>\n",
       "    </tr>\n",
       "    <tr>\n",
       "      <th>81</th>\n",
       "      <td>86</td>\n",
       "      <td>0.000000</td>\n",
       "    </tr>\n",
       "    <tr>\n",
       "      <th>82</th>\n",
       "      <td>87</td>\n",
       "      <td>0.000000</td>\n",
       "    </tr>\n",
       "    <tr>\n",
       "      <th>83</th>\n",
       "      <td>88</td>\n",
       "      <td>0.000000</td>\n",
       "    </tr>\n",
       "    <tr>\n",
       "      <th>84</th>\n",
       "      <td>89</td>\n",
       "      <td>0.500000</td>\n",
       "    </tr>\n",
       "    <tr>\n",
       "      <th>85</th>\n",
       "      <td>90</td>\n",
       "      <td>0.344828</td>\n",
       "    </tr>\n",
       "    <tr>\n",
       "      <th>86</th>\n",
       "      <td>91</td>\n",
       "      <td>0.000000</td>\n",
       "    </tr>\n",
       "    <tr>\n",
       "      <th>87</th>\n",
       "      <td>92</td>\n",
       "      <td>0.000000</td>\n",
       "    </tr>\n",
       "    <tr>\n",
       "      <th>88</th>\n",
       "      <td>94</td>\n",
       "      <td>0.000000</td>\n",
       "    </tr>\n",
       "    <tr>\n",
       "      <th>89</th>\n",
       "      <td>95</td>\n",
       "      <td>0.500000</td>\n",
       "    </tr>\n",
       "    <tr>\n",
       "      <th>90</th>\n",
       "      <td>96</td>\n",
       "      <td>0.200000</td>\n",
       "    </tr>\n",
       "    <tr>\n",
       "      <th>91</th>\n",
       "      <td>97</td>\n",
       "      <td>0.500000</td>\n",
       "    </tr>\n",
       "    <tr>\n",
       "      <th>92</th>\n",
       "      <td>98</td>\n",
       "      <td>0.272727</td>\n",
       "    </tr>\n",
       "    <tr>\n",
       "      <th>93</th>\n",
       "      <td>99</td>\n",
       "      <td>0.294118</td>\n",
       "    </tr>\n",
       "  </tbody>\n",
       "</table>\n",
       "</div>"
      ],
      "text/plain": [
       "    hours_per_week  income_level\n",
       "0                1      0.100000\n",
       "1                2      0.250000\n",
       "2                3      0.025641\n",
       "3                4      0.055556\n",
       "4                5      0.116667\n",
       "5                6      0.125000\n",
       "6                7      0.153846\n",
       "7                8      0.075862\n",
       "8                9      0.055556\n",
       "9               10      0.071942\n",
       "10              11      0.000000\n",
       "11              12      0.069364\n",
       "12              13      0.086957\n",
       "13              14      0.058824\n",
       "14              15      0.037129\n",
       "15              16      0.063415\n",
       "16              17      0.034483\n",
       "17              18      0.093333\n",
       "18              19      0.000000\n",
       "19              20      0.063725\n",
       "20              21      0.083333\n",
       "21              22      0.090909\n",
       "22              23      0.000000\n",
       "23              24      0.091270\n",
       "24              25      0.051929\n",
       "25              26      0.133333\n",
       "26              27      0.033333\n",
       "27              28      0.058140\n",
       "28              29      0.142857\n",
       "29              30      0.072237\n",
       "30              31      0.000000\n",
       "31              32      0.105263\n",
       "32              33      0.102564\n",
       "33              34      0.071429\n",
       "34              35      0.150347\n",
       "35              36      0.195455\n",
       "36              37      0.134228\n",
       "37              38      0.180672\n",
       "38              39      0.184211\n",
       "39              40      0.213380\n",
       "40              41      0.194444\n",
       "41              42      0.319635\n",
       "42              43      0.258278\n",
       "43              44      0.349057\n",
       "44              45      0.375548\n",
       "45              46      0.341463\n",
       "46              47      0.306122\n",
       "47              48      0.294004\n",
       "48              49      0.206897\n",
       "49              50      0.452643\n",
       "50              51      0.230769\n",
       "51              52      0.347826\n",
       "52              53      0.240000\n",
       "53              54      0.341463\n",
       "54              55      0.465418\n",
       "55              56      0.412371\n",
       "56              57      0.411765\n",
       "57              58      0.321429\n",
       "58              59      0.400000\n",
       "59              60      0.439322\n",
       "60              61      1.000000\n",
       "61              62      0.222222\n",
       "62              63      0.300000\n",
       "63              64      0.357143\n",
       "64              65      0.426230\n",
       "65              66      0.117647\n",
       "66              67      0.750000\n",
       "67              68      0.416667\n",
       "68              70      0.364261\n",
       "69              72      0.352113\n",
       "70              73      0.500000\n",
       "71              74      0.000000\n",
       "72              75      0.303030\n",
       "73              76      0.666667\n",
       "74              77      0.000000\n",
       "75              78      0.250000\n",
       "76              80      0.428571\n",
       "77              81      0.000000\n",
       "78              82      0.000000\n",
       "79              84      0.377778\n",
       "80              85      0.307692\n",
       "81              86      0.000000\n",
       "82              87      0.000000\n",
       "83              88      0.000000\n",
       "84              89      0.500000\n",
       "85              90      0.344828\n",
       "86              91      0.000000\n",
       "87              92      0.000000\n",
       "88              94      0.000000\n",
       "89              95      0.500000\n",
       "90              96      0.200000\n",
       "91              97      0.500000\n",
       "92              98      0.272727\n",
       "93              99      0.294118"
      ]
     },
     "execution_count": 321,
     "metadata": {},
     "output_type": "execute_result"
    }
   ],
   "source": [
    "print(adult_df.hours_per_week.describe())\n",
    "print()\n",
    "adult_df.groupby([\"hours_per_week\"], as_index=False)[\"income_level\"].mean()"
   ]
  },
  {
   "cell_type": "code",
   "execution_count": 333,
   "metadata": {},
   "outputs": [
    {
     "data": {
      "text/plain": [
       "<matplotlib.axes._subplots.AxesSubplot at 0x1a32e94cc0>"
      ]
     },
     "execution_count": 333,
     "metadata": {},
     "output_type": "execute_result"
    },
    {
     "data": {
      "image/png": "[encoded data removed]",
      "text/plain": [
       "<Figure size 1440x360 with 1 Axes>"
      ]
     },
     "metadata": {},
     "output_type": "display_data"
    }
   ],
   "source": [
    "hour_perc = adult_df.groupby([\"hours_per_week\"], as_index=False)[\"income_level\"].mean()\n",
    "sns.set(rc={'figure.figsize':(20,5)})\n",
    "sns.barplot(x=\"hours_per_week\", y=\"income_level\", data=hour_perc)"
   ]
  },
  {
   "cell_type": "markdown",
   "metadata": {},
   "source": [
    "## country: categorical"
   ]
  },
  {
   "cell_type": "code",
   "execution_count": 142,
   "metadata": {},
   "outputs": [
    {
     "name": "stdout",
     "output_type": "stream",
     "text": [
      "42 coutries in the dataset\n",
      "\n",
      "Top 10 countries in terms of record count\n",
      "United-States    29170\n",
      "Mexico             643\n",
      "?                  583\n",
      "Philippines        198\n",
      "Germany            137\n",
      "Canada             121\n",
      "Puerto-Rico        114\n",
      "El-Salvador        106\n",
      "India              100\n",
      "Cuba                95\n",
      "Name: country, dtype: int64\n",
      "\n",
      "US account for 0.90%\n"
     ]
    }
   ],
   "source": [
    "adult_df[\"country\"] = adult_df.country.str.strip()\n",
    "print(\"{} coutries in the dataset\".format(adult_df.country.nunique()))\n",
    "print()\n",
    "print(\"Top 10 countries in terms of record count\")\n",
    "print(adult_df.country.value_counts().head(10))\n",
    "print()\n",
    "print(\"US account for {:.2f}%\".format(len(adult_df.loc[adult_df.country==\"United-States\"])/len(adult_df)))"
   ]
  },
  {
   "cell_type": "code",
   "execution_count": 307,
   "metadata": {},
   "outputs": [
    {
     "data": {
      "text/html": [
       "<div>\n",
       "<style scoped>\n",
       "    .dataframe tbody tr th:only-of-type {\n",
       "        vertical-align: middle;\n",
       "    }\n",
       "\n",
       "    .dataframe tbody tr th {\n",
       "        vertical-align: top;\n",
       "    }\n",
       "\n",
       "    .dataframe thead th {\n",
       "        text-align: right;\n",
       "    }\n",
       "</style>\n",
       "<table border=\"1\" class=\"dataframe\">\n",
       "  <thead>\n",
       "    <tr style=\"text-align: right;\">\n",
       "      <th></th>\n",
       "      <th>country</th>\n",
       "      <th>income_level</th>\n",
       "    </tr>\n",
       "  </thead>\n",
       "  <tbody>\n",
       "    <tr>\n",
       "      <th>20</th>\n",
       "      <td>Iran</td>\n",
       "      <td>0.418605</td>\n",
       "    </tr>\n",
       "    <tr>\n",
       "      <th>10</th>\n",
       "      <td>France</td>\n",
       "      <td>0.413793</td>\n",
       "    </tr>\n",
       "    <tr>\n",
       "      <th>19</th>\n",
       "      <td>India</td>\n",
       "      <td>0.400000</td>\n",
       "    </tr>\n",
       "    <tr>\n",
       "      <th>36</th>\n",
       "      <td>Taiwan</td>\n",
       "      <td>0.392157</td>\n",
       "    </tr>\n",
       "    <tr>\n",
       "      <th>24</th>\n",
       "      <td>Japan</td>\n",
       "      <td>0.387097</td>\n",
       "    </tr>\n",
       "    <tr>\n",
       "      <th>41</th>\n",
       "      <td>Yugoslavia</td>\n",
       "      <td>0.375000</td>\n",
       "    </tr>\n",
       "    <tr>\n",
       "      <th>1</th>\n",
       "      <td>Cambodia</td>\n",
       "      <td>0.368421</td>\n",
       "    </tr>\n",
       "    <tr>\n",
       "      <th>22</th>\n",
       "      <td>Italy</td>\n",
       "      <td>0.342466</td>\n",
       "    </tr>\n",
       "    <tr>\n",
       "      <th>9</th>\n",
       "      <td>England</td>\n",
       "      <td>0.333333</td>\n",
       "    </tr>\n",
       "    <tr>\n",
       "      <th>2</th>\n",
       "      <td>Canada</td>\n",
       "      <td>0.322314</td>\n",
       "    </tr>\n",
       "  </tbody>\n",
       "</table>\n",
       "</div>"
      ],
      "text/plain": [
       "        country  income_level\n",
       "20         Iran      0.418605\n",
       "10       France      0.413793\n",
       "19        India      0.400000\n",
       "36       Taiwan      0.392157\n",
       "24        Japan      0.387097\n",
       "41   Yugoslavia      0.375000\n",
       "1      Cambodia      0.368421\n",
       "22        Italy      0.342466\n",
       "9       England      0.333333\n",
       "2        Canada      0.322314"
      ]
     },
     "execution_count": 307,
     "metadata": {},
     "output_type": "execute_result"
    }
   ],
   "source": [
    "country_perc = adult_df.groupby([\"country\"], as_index=False)[\"income_level\"].mean()\n",
    "country_perc.sort_values(\"income_level\", ascending=False).head(10)"
   ]
  },
  {
   "cell_type": "markdown",
   "metadata": {},
   "source": [
    "# Data Transformation: one-hot encoding"
   ]
  },
  {
   "cell_type": "code",
   "execution_count": 219,
   "metadata": {},
   "outputs": [
    {
     "name": "stdout",
     "output_type": "stream",
     "text": [
      "(32561, 18) (32561, 92) (32561,)\n"
     ]
    }
   ],
   "source": [
    "# don't consider education\n",
    "keep_col = ['age','workclass','fnlwgt','edu_code','marital_status','occupation',\n",
    "            'relationship','race','sex','capital_gain','capital_loss','hours_per_week','country']\n",
    "\n",
    "X = pd.get_dummies(adult_df[keep_col])\n",
    "y = adult_df.income_level.values\n",
    "print(adult_df.shape, X.shape, y.shape)"
   ]
  },
  {
   "cell_type": "markdown",
   "metadata": {},
   "source": [
    "# Machine Learning"
   ]
  },
  {
   "cell_type": "code",
   "execution_count": 220,
   "metadata": {},
   "outputs": [],
   "source": [
    "# Create train/test split\n",
    "X_train, X_test, y_train, y_test = train_test_split(X, y, test_size=0.2, random_state=2019)"
   ]
  },
  {
   "cell_type": "code",
   "execution_count": 221,
   "metadata": {},
   "outputs": [
    {
     "name": "stdout",
     "output_type": "stream",
     "text": [
      "Train model\n",
      "[0]\ttrain-logloss:0.66589\teval-logloss:0.665955\n",
      "Multiple eval metrics have been passed: 'eval-logloss' will be used for early stopping.\n",
      "\n",
      "Will train until eval-logloss hasn't improved in 50 rounds.\n",
      "[10]\ttrain-logloss:0.496735\teval-logloss:0.498844\n",
      "[20]\ttrain-logloss:0.410358\teval-logloss:0.414314\n",
      "[30]\ttrain-logloss:0.363933\teval-logloss:0.369062\n",
      "[40]\ttrain-logloss:0.337041\teval-logloss:0.342895\n",
      "[50]\ttrain-logloss:0.32025\teval-logloss:0.326949\n",
      "[60]\ttrain-logloss:0.309934\teval-logloss:0.317575\n",
      "[70]\ttrain-logloss:0.302994\teval-logloss:0.311296\n",
      "[80]\ttrain-logloss:0.298017\teval-logloss:0.306914\n",
      "[90]\ttrain-logloss:0.294502\teval-logloss:0.303969\n",
      "[100]\ttrain-logloss:0.292027\teval-logloss:0.301794\n",
      "[110]\ttrain-logloss:0.290146\teval-logloss:0.300221\n",
      "[120]\ttrain-logloss:0.288513\teval-logloss:0.298902\n",
      "[130]\ttrain-logloss:0.287346\teval-logloss:0.298013\n",
      "[140]\ttrain-logloss:0.286317\teval-logloss:0.297311\n",
      "[150]\ttrain-logloss:0.285568\teval-logloss:0.296798\n",
      "[160]\ttrain-logloss:0.284939\teval-logloss:0.296288\n",
      "[170]\ttrain-logloss:0.284384\teval-logloss:0.295933\n",
      "[180]\ttrain-logloss:0.283841\teval-logloss:0.295582\n",
      "[190]\ttrain-logloss:0.283323\teval-logloss:0.295223\n",
      "[200]\ttrain-logloss:0.283008\teval-logloss:0.294989\n",
      "[210]\ttrain-logloss:0.282787\teval-logloss:0.29483\n",
      "[220]\ttrain-logloss:0.282415\teval-logloss:0.294523\n",
      "[230]\ttrain-logloss:0.282144\teval-logloss:0.294341\n",
      "[240]\ttrain-logloss:0.281894\teval-logloss:0.294205\n",
      "[250]\ttrain-logloss:0.281596\teval-logloss:0.294051\n",
      "[260]\ttrain-logloss:0.281367\teval-logloss:0.293949\n",
      "[270]\ttrain-logloss:0.281251\teval-logloss:0.293854\n",
      "[280]\ttrain-logloss:0.281082\teval-logloss:0.293764\n",
      "[290]\ttrain-logloss:0.280918\teval-logloss:0.293657\n",
      "[300]\ttrain-logloss:0.28079\teval-logloss:0.293537\n",
      "[310]\ttrain-logloss:0.280716\teval-logloss:0.293506\n",
      "[320]\ttrain-logloss:0.280667\teval-logloss:0.293482\n",
      "[330]\ttrain-logloss:0.280607\teval-logloss:0.293422\n",
      "[340]\ttrain-logloss:0.2805\teval-logloss:0.293359\n",
      "[350]\ttrain-logloss:0.280436\teval-logloss:0.293313\n",
      "[360]\ttrain-logloss:0.280317\teval-logloss:0.293241\n",
      "[370]\ttrain-logloss:0.280275\teval-logloss:0.293216\n",
      "[380]\ttrain-logloss:0.28021\teval-logloss:0.293166\n",
      "[390]\ttrain-logloss:0.280109\teval-logloss:0.293097\n",
      "[400]\ttrain-logloss:0.280063\teval-logloss:0.293064\n",
      "[410]\ttrain-logloss:0.280003\teval-logloss:0.293045\n",
      "[420]\ttrain-logloss:0.279933\teval-logloss:0.292991\n",
      "[430]\ttrain-logloss:0.279848\teval-logloss:0.292968\n",
      "[440]\ttrain-logloss:0.279803\teval-logloss:0.292941\n",
      "[450]\ttrain-logloss:0.279745\teval-logloss:0.292925\n",
      "[460]\ttrain-logloss:0.279703\teval-logloss:0.292919\n",
      "[470]\ttrain-logloss:0.279619\teval-logloss:0.292887\n",
      "[480]\ttrain-logloss:0.279559\teval-logloss:0.29287\n",
      "[490]\ttrain-logloss:0.279467\teval-logloss:0.292839\n",
      "[500]\ttrain-logloss:0.279418\teval-logloss:0.29282\n",
      "[510]\ttrain-logloss:0.279391\teval-logloss:0.292796\n",
      "[520]\ttrain-logloss:0.279349\teval-logloss:0.29277\n",
      "[530]\ttrain-logloss:0.279326\teval-logloss:0.292756\n",
      "[540]\ttrain-logloss:0.279279\teval-logloss:0.292721\n",
      "[550]\ttrain-logloss:0.279261\teval-logloss:0.292709\n",
      "[560]\ttrain-logloss:0.279252\teval-logloss:0.292709\n",
      "[570]\ttrain-logloss:0.279235\teval-logloss:0.292705\n",
      "[580]\ttrain-logloss:0.27922\teval-logloss:0.292698\n",
      "[590]\ttrain-logloss:0.279157\teval-logloss:0.292661\n",
      "[600]\ttrain-logloss:0.27915\teval-logloss:0.292667\n",
      "[610]\ttrain-logloss:0.279131\teval-logloss:0.292659\n",
      "[620]\ttrain-logloss:0.279098\teval-logloss:0.292631\n",
      "[630]\ttrain-logloss:0.279052\teval-logloss:0.292612\n",
      "[640]\ttrain-logloss:0.279015\teval-logloss:0.292597\n",
      "[650]\ttrain-logloss:0.27898\teval-logloss:0.292578\n",
      "[660]\ttrain-logloss:0.27898\teval-logloss:0.292578\n",
      "[670]\ttrain-logloss:0.278962\teval-logloss:0.292586\n",
      "[680]\ttrain-logloss:0.278946\teval-logloss:0.292586\n",
      "[690]\ttrain-logloss:0.278927\teval-logloss:0.292568\n",
      "[700]\ttrain-logloss:0.278913\teval-logloss:0.292554\n",
      "[710]\ttrain-logloss:0.278901\teval-logloss:0.29255\n",
      "[720]\ttrain-logloss:0.278839\teval-logloss:0.292521\n",
      "[730]\ttrain-logloss:0.278839\teval-logloss:0.292521\n",
      "[740]\ttrain-logloss:0.278793\teval-logloss:0.292472\n",
      "[750]\ttrain-logloss:0.278755\teval-logloss:0.292436\n",
      "[760]\ttrain-logloss:0.278736\teval-logloss:0.292425\n",
      "[770]\ttrain-logloss:0.2787\teval-logloss:0.292396\n",
      "[780]\ttrain-logloss:0.278666\teval-logloss:0.292365\n",
      "[790]\ttrain-logloss:0.278652\teval-logloss:0.292367\n",
      "[800]\ttrain-logloss:0.278635\teval-logloss:0.292343\n",
      "[810]\ttrain-logloss:0.27862\teval-logloss:0.292336\n",
      "[820]\ttrain-logloss:0.27859\teval-logloss:0.292332\n",
      "[830]\ttrain-logloss:0.278563\teval-logloss:0.29232\n",
      "[840]\ttrain-logloss:0.278559\teval-logloss:0.292315\n",
      "[850]\ttrain-logloss:0.278544\teval-logloss:0.292302\n",
      "[860]\ttrain-logloss:0.278504\teval-logloss:0.292286\n",
      "[870]\ttrain-logloss:0.278487\teval-logloss:0.292264\n",
      "[880]\ttrain-logloss:0.27848\teval-logloss:0.292254\n",
      "[890]\ttrain-logloss:0.278469\teval-logloss:0.292252\n",
      "[900]\ttrain-logloss:0.278437\teval-logloss:0.292231\n",
      "[910]\ttrain-logloss:0.278373\teval-logloss:0.292201\n",
      "[920]\ttrain-logloss:0.27835\teval-logloss:0.292207\n",
      "[930]\ttrain-logloss:0.278322\teval-logloss:0.292183\n",
      "[940]\ttrain-logloss:0.278311\teval-logloss:0.292175\n",
      "[950]\ttrain-logloss:0.278311\teval-logloss:0.292175\n",
      "[960]\ttrain-logloss:0.278298\teval-logloss:0.292151\n",
      "[970]\ttrain-logloss:0.278298\teval-logloss:0.292151\n",
      "[980]\ttrain-logloss:0.278287\teval-logloss:0.292147\n",
      "[990]\ttrain-logloss:0.278243\teval-logloss:0.292119\n",
      "[1000]\ttrain-logloss:0.278233\teval-logloss:0.292115\n",
      "[1010]\ttrain-logloss:0.278224\teval-logloss:0.292112\n",
      "[1020]\ttrain-logloss:0.278187\teval-logloss:0.292122\n",
      "[1030]\ttrain-logloss:0.278149\teval-logloss:0.292104\n",
      "[1040]\ttrain-logloss:0.278141\teval-logloss:0.292106\n",
      "[1050]\ttrain-logloss:0.278136\teval-logloss:0.292103\n",
      "[1060]\ttrain-logloss:0.278136\teval-logloss:0.292103\n",
      "[1070]\ttrain-logloss:0.278127\teval-logloss:0.292113\n",
      "Stopping. Best iteration:\n",
      "[1024]\ttrain-logloss:0.278169\teval-logloss:0.292103\n",
      "\n",
      "Execution time: 0.87m\n"
     ]
    }
   ],
   "source": [
    "# Train a XGBoost classifier\n",
    "start_time = time.time()\n",
    "print(\"Train model\")\n",
    "\n",
    "params = {'colsample_bylevel': 1.0,\n",
    "          'colsample_bytree': 0.9,\n",
    "          'gamma' : 1.0,\n",
    "          'eta' : 0.05,\n",
    "          'max_depth' : 16,\n",
    "          'min_child_weight' : 0.5,\n",
    "          'alpha': 30.0,\n",
    "          'lambda': 10.0,\n",
    "          'subsample': 0.9,\n",
    "          'objective' : 'binary:logistic',\n",
    "          'eval_metric': 'logloss',\n",
    "          'seed': 2019}\n",
    "\n",
    "xgb_train = xgb.DMatrix(X_train, label=y_train)\n",
    "xgb_test = xgb.DMatrix(X_test, label=y_test)\n",
    "watchlist = [(xgb_train, 'train'), (xgb_test, 'eval')]\n",
    " \n",
    "start_time = time.time()\n",
    "xgb_clf = xgb.train(params, \n",
    "                    xgb_train, \n",
    "                    10000, \n",
    "                    watchlist, \n",
    "                    early_stopping_rounds=50, \n",
    "                    verbose_eval=10)\n",
    "\n",
    "print('Execution time: {:0.2f}m'.format((time.time()-start_time)/60))\n",
    "# [1024]\ttrain-logloss:0.278169\teval-logloss:0.292103"
   ]
  },
  {
   "cell_type": "markdown",
   "metadata": {},
   "source": [
    "## Performance evaluation"
   ]
  },
  {
   "cell_type": "code",
   "execution_count": 224,
   "metadata": {},
   "outputs": [],
   "source": [
    "def plot_roc(y_test, yp_test):\n",
    "    fpr, tpr, thresholds = roc_curve(y_test, yp_test)\n",
    "    roc_auc = auc(fpr, tpr)\n",
    "\n",
    "    # Plot ROC, order prob by descending order\n",
    "    plt.title('Receiver Operating Characteristic')\n",
    "    plt.plot(fpr, tpr, 'b', label='AUC = %0.4f'%roc_auc)\n",
    "    plt.legend(loc='lower right')\n",
    "    plt.plot([0,1],[0,1],'r--')\n",
    "    plt.xlim([-0.001, 1])\n",
    "    plt.ylim([0, 1.001])\n",
    "    plt.ylabel('True Positive Rate')\n",
    "    plt.xlabel('False Positive Rate')\n",
    "    plt.show()"
   ]
  },
  {
   "cell_type": "code",
   "execution_count": 225,
   "metadata": {},
   "outputs": [
    {
     "name": "stdout",
     "output_type": "stream",
     "text": [
      "Accuracy: 0.8680\n",
      "ROC AUC: 0.9191\n"
     ]
    },
    {
     "data": {
      "image/png": "[encoded data removed]",
      "text/plain": [
       "<Figure size 432x288 with 1 Axes>"
      ]
     },
     "metadata": {},
     "output_type": "display_data"
    }
   ],
   "source": [
    "y_test_prob = xgb_clf.predict(xgb_test, ntree_limit=xgb_clf.best_ntree_limit)\n",
    "y_test_pred = np.where(y_test_prob > 0.5, 1, 0)\n",
    "\n",
    "print('Accuracy: {:.4f}'.format(accuracy_score(y_test, y_test_pred)))\n",
    "print('ROC AUC: {:.4f}'.format(roc_auc_score(y_test, y_test_prob)))\n",
    "plot_roc(y_test, y_test_prob)\n",
    "# Accuracy: 0.8680"
   ]
  },
  {
   "cell_type": "markdown",
   "metadata": {},
   "source": [
    "# Unsupervised Learning"
   ]
  },
  {
   "cell_type": "code",
   "execution_count": 179,
   "metadata": {},
   "outputs": [
    {
     "name": "stdout",
     "output_type": "stream",
     "text": [
      "[0 1 0 ... 0 0 0]\n"
     ]
    }
   ],
   "source": [
    "X2 = StandardScaler().fit_transform(X)\n",
    "\n",
    "kmeans = KMeans(n_clusters=2, random_state=2019)  \n",
    "kmeans.fit(X2)  \n",
    "print(kmeans.labels_)  \n",
    "adult_df[\"kmeans_grp\"] = kmeans.labels_"
   ]
  },
  {
   "cell_type": "code",
   "execution_count": 181,
   "metadata": {},
   "outputs": [
    {
     "name": "stdout",
     "output_type": "stream",
     "text": [
      "Accuracy: 0.7164\n"
     ]
    }
   ],
   "source": [
    "print('Accuracy: {:.4f}'.format(accuracy_score(adult_df.income_level, adult_df.kmeans_grp)))"
   ]
  }
 ],
 "metadata": {
  "kernelspec": {
   "display_name": "Python 3",
   "language": "python",
   "name": "python3"
  },
  "language_info": {
   "codemirror_mode": {
    "name": "ipython",
    "version": 3
   },
   "file_extension": ".py",
   "mimetype": "text/x-python",
   "name": "python",
   "nbconvert_exporter": "python",
   "pygments_lexer": "ipython3",
   "version": "3.7.4"
  }
 },
 "nbformat": 4,
 "nbformat_minor": 2
}
