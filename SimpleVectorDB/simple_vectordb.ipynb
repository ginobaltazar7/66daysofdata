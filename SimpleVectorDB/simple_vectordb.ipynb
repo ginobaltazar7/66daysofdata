{
  "cells": [
    {
      "cell_type": "markdown",
      "id": "dbf3bc3b",
      "metadata": {
        "id": "dbf3bc3b"
      },
      "source": [
        "## Simple Vector Database\n",
        "\n",
        "July 2023\n",
        "\n",
        "A vector database is a specialized type of database designed to store, and manage large collections of vectors - which is an ordered list of elements that can represent or encode data that requires 2+ variables for its measurement.\n",
        "\n",
        "Contrast this with 'scalars' which requires only one type of variable for its measurement.\n",
        "\n",
        "When we say that a sailboat traveled for 2 miles upwind, we are describing its movement in a scalar way -\n",
        "\n",
        "But when we say that a sailboat traveled for 2 miles downwind, 10 degrees northeast from its initial position, we are describing its movement in a vectorized way - it has magnitude and direction.\n",
        "\n",
        "Vectors are important in data science and machine learning because they allow us to represent complex data in a more representative, useful and structured way.\n",
        "\n",
        "So-called 'feature vectors' are used widely in machine learning because of the effectiveness and practicality of representing objects in a numerical way to help with many kinds of analyses. They are good for analysis because there are many techniques for comparing feature vectors, using for example cosine similarity or Euclidean distance.\n",
        "\n",
        "An introduction -> https://machinelearningmastery.com/gentle-introduction-vectors-machine-learning/\n",
        "\n",
        "Use of Feature Vectors -> https://brilliant.org/wiki/feature-vector/"
      ]
    },
    {
      "cell_type": "code",
      "execution_count": 27,
      "id": "191fde68",
      "metadata": {
        "id": "191fde68"
      },
      "outputs": [],
      "source": [
        "import numpy as np\n",
        "from numpy import linalg"
      ]
    },
    {
      "cell_type": "code",
      "execution_count": 28,
      "id": "7f52bbd7",
      "metadata": {
        "id": "7f52bbd7"
      },
      "outputs": [],
      "source": [
        "from collections import defaultdict"
      ]
    },
    {
      "cell_type": "code",
      "execution_count": 29,
      "id": "bfff36de",
      "metadata": {
        "id": "bfff36de"
      },
      "outputs": [],
      "source": [
        "from typing import List, Tuple"
      ]
    },
    {
      "cell_type": "code",
      "execution_count": 30,
      "id": "2330a8b0",
      "metadata": {
        "id": "2330a8b0"
      },
      "outputs": [],
      "source": [
        "def cosine_similarity(v1: np.ndarray, v2: np.ndarray) -> float:\n",
        "    dot_product = np.dot(v1, v2)\n",
        "    norm_v1 = np.linalg.norm(v1)\n",
        "    norm_v2 = np.linalg.norm(v2)\n",
        "    return dot_product / (norm_v1 * norm_v2)"
      ]
    },
    {
      "cell_type": "code",
      "execution_count": 35,
      "id": "af92ba66",
      "metadata": {
        "id": "af92ba66"
      },
      "outputs": [],
      "source": [
        "class VectorDatabase:\n",
        "    def __init__(self):\n",
        "        self.vectors = defaultdict(np.ndarray)\n",
        "\n",
        "    def insert(self, key: str, vector: np.ndarray) -> None:\n",
        "        self.vectors[key] = vector\n",
        "\n",
        "    def search_using_cosine(self, query_vector: np.ndarray, k: int) -> List[Tuple[str, float]]:\n",
        "        similarities = [(key, cosine_similarity(query_vector, vector)) for key, vector in self.vectors.items()]\n",
        "        similarities.sort(key=lambda x: x[1], reverse=True)\n",
        "        return similarities[:k]\n",
        "\n",
        "    def search_using_euclidean(self, query_vector: np.ndarray, k: int) -> List[Tuple[str, float]]:\n",
        "        similarities = [(key, np.linalg.norm(query_vector - vector)) for key, vector in self.vectors.items()]\n",
        "        similarities.sort(key=lambda x: x[1], reverse=True)\n",
        "        return similarities[:k]\n",
        "\n",
        "    def retrieve(self, key: str) -> np.ndarray:\n",
        "        return self.vectors.get(key, None)"
      ]
    },
    {
      "cell_type": "code",
      "execution_count": 36,
      "id": "2ecec984",
      "metadata": {
        "id": "2ecec984"
      },
      "outputs": [],
      "source": [
        "# Initialize\n",
        "vector_db = VectorDatabase()\n"
      ]
    },
    {
      "cell_type": "code",
      "execution_count": 37,
      "id": "c1d56166",
      "metadata": {
        "id": "c1d56166"
      },
      "outputs": [],
      "source": [
        "# Insert vectors into the database\n",
        "vector_db.insert(\"vector_1\", np.array([0.1, 0.2, 0.3]))\n",
        "vector_db.insert(\"vector_2\", np.array([0.4, 0.5, 0.6]))\n",
        "vector_db.insert(\"vector_3\", np.array([0.7, 0.8, 0.9]))\n",
        "\n"
      ]
    },
    {
      "cell_type": "code",
      "execution_count": 38,
      "id": "4a4776ff",
      "metadata": {
        "colab": {
          "base_uri": "https://localhost:8080/"
        },
        "id": "4a4776ff",
        "outputId": "9fe7c42d-4dde-4b4a-88c5-b906de98479f"
      },
      "outputs": [
        {
          "output_type": "stream",
          "name": "stdout",
          "text": [
            "Similar vectors: [('vector_1', 0.9974149030430577), ('vector_2', 0.9881950691041642)]\n"
          ]
        }
      ],
      "source": [
        "# Search for similar vectors using cosine\n",
        "query_vector = np.array([0.15, 0.25, 0.35])\n",
        "similar_vectors = vector_db.search_using_cosine(query_vector, k=2)\n",
        "print(\"Similar vectors:\", similar_vectors)"
      ]
    },
    {
      "cell_type": "code",
      "execution_count": 39,
      "id": "72f851cd",
      "metadata": {
        "colab": {
          "base_uri": "https://localhost:8080/"
        },
        "id": "72f851cd",
        "outputId": "e1f0840c-8567-4e7f-ab3d-964c29e3cdc1"
      },
      "outputs": [
        {
          "output_type": "stream",
          "name": "stdout",
          "text": [
            "Retrieved vector: [0.1 0.2 0.3]\n"
          ]
        }
      ],
      "source": [
        "# Retrieve a specific vector by its key\n",
        "retrieved_vector = vector_db.retrieve(\"vector_1\")\n",
        "print(\"Retrieved vector:\", retrieved_vector)"
      ]
    },
    {
      "cell_type": "code",
      "source": [
        "# Search for similar vectors using euclidean\n",
        "query_vector = np.array([0.15, 0.25, 0.35])\n",
        "similar_vectors = vector_db.search_using_euclidean(query_vector, k=2)\n",
        "print(\"Similar vectors:\", similar_vectors)"
      ],
      "metadata": {
        "colab": {
          "base_uri": "https://localhost:8080/"
        },
        "id": "l-iQY3m-EgDg",
        "outputId": "1877002f-5e25-4b06-daa7-7ddd78068ddf"
      },
      "id": "l-iQY3m-EgDg",
      "execution_count": 40,
      "outputs": [
        {
          "output_type": "stream",
          "name": "stdout",
          "text": [
            "Similar vectors: [('vector_3', 0.9526279441628825), ('vector_2', 0.4330127018922193)]\n"
          ]
        }
      ]
    },
    {
      "cell_type": "code",
      "source": [
        "# Retrieve a specific vector by its key\n",
        "retrieved_vector = vector_db.retrieve(\"vector_1\")\n",
        "print(\"Retrieved vector:\", retrieved_vector)"
      ],
      "metadata": {
        "colab": {
          "base_uri": "https://localhost:8080/"
        },
        "id": "RldJbGf9G0q6",
        "outputId": "09696d50-3b6c-4dc6-bc02-682a44bc84c4"
      },
      "id": "RldJbGf9G0q6",
      "execution_count": 41,
      "outputs": [
        {
          "output_type": "stream",
          "name": "stdout",
          "text": [
            "Retrieved vector: [0.1 0.2 0.3]\n"
          ]
        }
      ]
    }
  ],
  "metadata": {
    "kernelspec": {
      "display_name": "Python 3",
      "language": "python",
      "name": "python3"
    },
    "colab": {
      "provenance": []
    }
  },
  "nbformat": 4,
  "nbformat_minor": 5
}