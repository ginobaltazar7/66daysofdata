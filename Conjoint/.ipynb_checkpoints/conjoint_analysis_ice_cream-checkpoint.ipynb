{
 "cells": [
  {
   "cell_type": "markdown",
   "metadata": {},
   "source": [
    "# Conjoint Analysis\n",
    "\n",
    "Conjoint analysis approximates the relationship between a product's attributes and their value or importance to the overall product.  The goal of the analysis is to get a better sense of product feature tradeoffs.\n",
    "\n",
    "At its heart, the computation of product feature utility is mathematically a regression. In simple terms, linear regression can be applied to the dataset's dummy variables against a product rank or rating or customer preference for those features. With choices, and ranking as an alternative, Logistical Regression can be used for categories. More advanced techniques use Hierarchical Bayes. \n",
    "\n",
    "Example treatment below using sample gelato preferences, inspired by: http://keii.ue.wroc.pl/conjoint/Conjoint_R.html#ref8\n",
    "\n",
    "In Italian, *gelato* means ice cream. Unlike American or more conventional ice cream which is churned at a fairly high speed to incorporate air and increase its volume (cheaper ice creams tends to have more air whipped into them), gelato is churned at a much slower rate, incorporating less air and leaving the gelato denser than ice cream. Gelato's resulting texture, which is also influenced by lower proportion of crema, is silkier and softer.  \n",
    "\n"
   ]
  },
  {
   "cell_type": "code",
   "execution_count": 5,
   "metadata": {},
   "outputs": [],
   "source": [
    "import pandas as pd \n",
    "import numpy as np \n",
    "import statsmodels.api as sm\n",
    "import statsmodels.formula.api as smf\n",
    "import statsmodels.api as sm\n",
    "from sklearn import preprocessing\n",
    "import matplotlib.pyplot as plt"
   ]
  },
  {
   "cell_type": "markdown",
   "metadata": {},
   "source": [
    "### Load, examine and plot data"
   ]
  },
  {
   "cell_type": "code",
   "execution_count": 86,
   "metadata": {},
   "outputs": [],
   "source": [
    "rank_data = pd.read_csv('ice_prefs_data.csv')\n",
    "data = rank_data"
   ]
  },
  {
   "cell_type": "code",
   "execution_count": 87,
   "metadata": {},
   "outputs": [
    {
     "data": {
      "text/html": [
       "<div>\n",
       "<style scoped>\n",
       "    .dataframe tbody tr th:only-of-type {\n",
       "        vertical-align: middle;\n",
       "    }\n",
       "\n",
       "    .dataframe tbody tr th {\n",
       "        vertical-align: top;\n",
       "    }\n",
       "\n",
       "    .dataframe thead th {\n",
       "        text-align: right;\n",
       "    }\n",
       "</style>\n",
       "<table border=\"1\" class=\"dataframe\">\n",
       "  <thead>\n",
       "    <tr style=\"text-align: right;\">\n",
       "      <th></th>\n",
       "      <th>gusto</th>\n",
       "      <th>prezzo en Euros</th>\n",
       "      <th>contenitore</th>\n",
       "      <th>guarnizione</th>\n",
       "      <th>Customer_Rank</th>\n",
       "    </tr>\n",
       "  </thead>\n",
       "  <tbody>\n",
       "    <tr>\n",
       "      <th>0</th>\n",
       "      <td>mango</td>\n",
       "      <td>1</td>\n",
       "      <td>cone</td>\n",
       "      <td>yes</td>\n",
       "      <td>23</td>\n",
       "    </tr>\n",
       "    <tr>\n",
       "      <th>1</th>\n",
       "      <td>fragola</td>\n",
       "      <td>2</td>\n",
       "      <td>cone</td>\n",
       "      <td>yes</td>\n",
       "      <td>14</td>\n",
       "    </tr>\n",
       "    <tr>\n",
       "      <th>2</th>\n",
       "      <td>stracciatella</td>\n",
       "      <td>1</td>\n",
       "      <td>cup</td>\n",
       "      <td>yes</td>\n",
       "      <td>17</td>\n",
       "    </tr>\n",
       "    <tr>\n",
       "      <th>3</th>\n",
       "      <td>stracciatella</td>\n",
       "      <td>2</td>\n",
       "      <td>cup</td>\n",
       "      <td>yes</td>\n",
       "      <td>18</td>\n",
       "    </tr>\n",
       "    <tr>\n",
       "      <th>4</th>\n",
       "      <td>mango</td>\n",
       "      <td>3</td>\n",
       "      <td>cup</td>\n",
       "      <td>yes</td>\n",
       "      <td>1</td>\n",
       "    </tr>\n",
       "  </tbody>\n",
       "</table>\n",
       "</div>"
      ],
      "text/plain": [
       "           gusto  prezzo en Euros contenitore guarnizione  Customer_Rank\n",
       "0          mango                1        cone         yes             23\n",
       "1        fragola                2        cone         yes             14\n",
       "2  stracciatella                1         cup         yes             17\n",
       "3  stracciatella                2         cup         yes             18\n",
       "4          mango                3         cup         yes              1"
      ]
     },
     "execution_count": 87,
     "metadata": {},
     "output_type": "execute_result"
    }
   ],
   "source": [
    "data.head(5)"
   ]
  },
  {
   "cell_type": "code",
   "execution_count": 88,
   "metadata": {},
   "outputs": [
    {
     "data": {
      "text/plain": [
       "gusto              0\n",
       "prezzo en Euros    0\n",
       "contenitore        0\n",
       "guarnizione        0\n",
       "Customer_Rank      0\n",
       "dtype: int64"
      ]
     },
     "execution_count": 88,
     "metadata": {},
     "output_type": "execute_result"
    }
   ],
   "source": [
    "data.isnull().sum() # examine for missing values in each column"
   ]
  },
  {
   "cell_type": "code",
   "execution_count": 89,
   "metadata": {},
   "outputs": [
    {
     "data": {
      "text/plain": [
       "Index(['gusto', 'prezzo en Euros', 'contenitore', 'guarnizione',\n",
       "       'Customer_Rank'],\n",
       "      dtype='object')"
      ]
     },
     "execution_count": 89,
     "metadata": {},
     "output_type": "execute_result"
    }
   ],
   "source": [
    "data.columns"
   ]
  },
  {
   "cell_type": "markdown",
   "metadata": {},
   "source": [
    "### \"Dummy\" the data\n",
    "\n",
    "Dummy variables are useful because they enable use of a single regression equation to represent multiple features. This means that we don't need to write out separate equation models for each subgroup. The dummy variables act like 'switches' that turn various parameters on and off, like \"switches\" of 1s and 0s, in an equation. \n",
    "\n",
    "For additional readings -> https://socialresearchmethods.net/kb/dummyvar.php\n",
    "\n",
    "Video (but using MS Excel) -> https://www.youtube.com/watch?v=EMbiGPGlBEM"
   ]
  },
  {
   "cell_type": "code",
   "execution_count": 107,
   "metadata": {},
   "outputs": [],
   "source": [
    "conjoint_data = pd.get_dummies(rank_data,columns = ['gusto', 'prezzo en Euros', 'contenitore', 'guarnizione'])"
   ]
  },
  {
   "cell_type": "code",
   "execution_count": 108,
   "metadata": {},
   "outputs": [
    {
     "data": {
      "text/html": [
       "<div>\n",
       "<style scoped>\n",
       "    .dataframe tbody tr th:only-of-type {\n",
       "        vertical-align: middle;\n",
       "    }\n",
       "\n",
       "    .dataframe tbody tr th {\n",
       "        vertical-align: top;\n",
       "    }\n",
       "\n",
       "    .dataframe thead th {\n",
       "        text-align: right;\n",
       "    }\n",
       "</style>\n",
       "<table border=\"1\" class=\"dataframe\">\n",
       "  <thead>\n",
       "    <tr style=\"text-align: right;\">\n",
       "      <th></th>\n",
       "      <th>Customer_Rank</th>\n",
       "      <th>gusto_fragola</th>\n",
       "      <th>gusto_mango</th>\n",
       "      <th>gusto_stracciatella</th>\n",
       "      <th>prezzo en Euros_1</th>\n",
       "      <th>prezzo en Euros_2</th>\n",
       "      <th>prezzo en Euros_3</th>\n",
       "      <th>contenitore_cone</th>\n",
       "      <th>contenitore_cup</th>\n",
       "      <th>guarnizione_no</th>\n",
       "      <th>guarnizione_yes</th>\n",
       "    </tr>\n",
       "  </thead>\n",
       "  <tbody>\n",
       "    <tr>\n",
       "      <th>0</th>\n",
       "      <td>23</td>\n",
       "      <td>0</td>\n",
       "      <td>1</td>\n",
       "      <td>0</td>\n",
       "      <td>1</td>\n",
       "      <td>0</td>\n",
       "      <td>0</td>\n",
       "      <td>1</td>\n",
       "      <td>0</td>\n",
       "      <td>0</td>\n",
       "      <td>1</td>\n",
       "    </tr>\n",
       "    <tr>\n",
       "      <th>1</th>\n",
       "      <td>14</td>\n",
       "      <td>1</td>\n",
       "      <td>0</td>\n",
       "      <td>0</td>\n",
       "      <td>0</td>\n",
       "      <td>1</td>\n",
       "      <td>0</td>\n",
       "      <td>1</td>\n",
       "      <td>0</td>\n",
       "      <td>0</td>\n",
       "      <td>1</td>\n",
       "    </tr>\n",
       "    <tr>\n",
       "      <th>2</th>\n",
       "      <td>17</td>\n",
       "      <td>0</td>\n",
       "      <td>0</td>\n",
       "      <td>1</td>\n",
       "      <td>1</td>\n",
       "      <td>0</td>\n",
       "      <td>0</td>\n",
       "      <td>0</td>\n",
       "      <td>1</td>\n",
       "      <td>0</td>\n",
       "      <td>1</td>\n",
       "    </tr>\n",
       "    <tr>\n",
       "      <th>3</th>\n",
       "      <td>18</td>\n",
       "      <td>0</td>\n",
       "      <td>0</td>\n",
       "      <td>1</td>\n",
       "      <td>0</td>\n",
       "      <td>1</td>\n",
       "      <td>0</td>\n",
       "      <td>0</td>\n",
       "      <td>1</td>\n",
       "      <td>0</td>\n",
       "      <td>1</td>\n",
       "    </tr>\n",
       "    <tr>\n",
       "      <th>4</th>\n",
       "      <td>1</td>\n",
       "      <td>0</td>\n",
       "      <td>1</td>\n",
       "      <td>0</td>\n",
       "      <td>0</td>\n",
       "      <td>0</td>\n",
       "      <td>1</td>\n",
       "      <td>0</td>\n",
       "      <td>1</td>\n",
       "      <td>0</td>\n",
       "      <td>1</td>\n",
       "    </tr>\n",
       "  </tbody>\n",
       "</table>\n",
       "</div>"
      ],
      "text/plain": [
       "   Customer_Rank  gusto_fragola  gusto_mango  gusto_stracciatella  \\\n",
       "0             23              0            1                    0   \n",
       "1             14              1            0                    0   \n",
       "2             17              0            0                    1   \n",
       "3             18              0            0                    1   \n",
       "4              1              0            1                    0   \n",
       "\n",
       "   prezzo en Euros_1  prezzo en Euros_2  prezzo en Euros_3  contenitore_cone  \\\n",
       "0                  1                  0                  0                 1   \n",
       "1                  0                  1                  0                 1   \n",
       "2                  1                  0                  0                 0   \n",
       "3                  0                  1                  0                 0   \n",
       "4                  0                  0                  1                 0   \n",
       "\n",
       "   contenitore_cup  guarnizione_no  guarnizione_yes  \n",
       "0                0               0                1  \n",
       "1                0               0                1  \n",
       "2                1               0                1  \n",
       "3                1               0                1  \n",
       "4                1               0                1  "
      ]
     },
     "execution_count": 108,
     "metadata": {},
     "output_type": "execute_result"
    }
   ],
   "source": [
    "conjoint_data.head(5)"
   ]
  },
  {
   "cell_type": "code",
   "execution_count": 115,
   "metadata": {},
   "outputs": [],
   "source": [
    "fullnames = {\"gusto_stracciatella\":\"stracciatella\", \"gusto_fragola\":\"fragola\", \"gusto_mango\":\"mango\", \"prezzo en Euros_1\":\"Euros 1\", \"prezzo en Euros_2\":\"Euros 2\", \"prezzo en Euros_3\":\"Euros 3\",\"contenitore_cone\":\"cono\", \"contenitore_cup\":\"tazza\", \"guarnizione_no\":\"nezzuna\", \"guarnizione_yes\":\"ha\", \"Customer_Rank\": \"Rank\"}"
   ]
  },
  {
   "cell_type": "code",
   "execution_count": 116,
   "metadata": {},
   "outputs": [
    {
     "data": {
      "text/plain": [
       "{'gusto_stracciatella': 'stracciatella',\n",
       " 'gusto_fragola': 'fragola',\n",
       " 'gusto_mango': 'mango',\n",
       " 'prezzo en Euros_1': 'Euros 1',\n",
       " 'prezzo en Euros_2': 'Euros 2',\n",
       " 'prezzo en Euros_3': 'Euros 3',\n",
       " 'contenitore_cone': 'cono',\n",
       " 'contenitore_cup': 'tazza',\n",
       " 'guarnizione_no': 'nezzuna',\n",
       " 'guarnizione_yes': 'ha',\n",
       " 'Customer_Rank': 'Rank'}"
      ]
     },
     "execution_count": 116,
     "metadata": {},
     "output_type": "execute_result"
    }
   ],
   "source": [
    "fullnames"
   ]
  },
  {
   "cell_type": "code",
   "execution_count": 117,
   "metadata": {},
   "outputs": [],
   "source": [
    "conjoint_data.rename(columns=fullnames, inplace=True)"
   ]
  },
  {
   "cell_type": "code",
   "execution_count": 118,
   "metadata": {},
   "outputs": [
    {
     "data": {
      "text/plain": [
       "Index(['Rank', 'fragola', 'mango', 'stracciatella', 'Euros 1', 'Euros 2',\n",
       "       'Euros 3', 'cono', 'tazza', 'nezzuna', 'ha'],\n",
       "      dtype='object')"
      ]
     },
     "execution_count": 118,
     "metadata": {},
     "output_type": "execute_result"
    }
   ],
   "source": [
    "conjoint_data.columns"
   ]
  },
  {
   "cell_type": "code",
   "execution_count": 140,
   "metadata": {},
   "outputs": [
    {
     "data": {
      "text/plain": [
       "pandas.core.frame.DataFrame"
      ]
     },
     "execution_count": 140,
     "metadata": {},
     "output_type": "execute_result"
    }
   ],
   "source": [
    "type(conjoint_data)"
   ]
  },
  {
   "cell_type": "code",
   "execution_count": 119,
   "metadata": {},
   "outputs": [
    {
     "data": {
      "text/html": [
       "<div>\n",
       "<style scoped>\n",
       "    .dataframe tbody tr th:only-of-type {\n",
       "        vertical-align: middle;\n",
       "    }\n",
       "\n",
       "    .dataframe tbody tr th {\n",
       "        vertical-align: top;\n",
       "    }\n",
       "\n",
       "    .dataframe thead th {\n",
       "        text-align: right;\n",
       "    }\n",
       "</style>\n",
       "<table border=\"1\" class=\"dataframe\">\n",
       "  <thead>\n",
       "    <tr style=\"text-align: right;\">\n",
       "      <th></th>\n",
       "      <th>Rank</th>\n",
       "      <th>fragola</th>\n",
       "      <th>mango</th>\n",
       "      <th>stracciatella</th>\n",
       "      <th>Euros 1</th>\n",
       "      <th>Euros 2</th>\n",
       "      <th>Euros 3</th>\n",
       "      <th>cono</th>\n",
       "      <th>tazza</th>\n",
       "      <th>nezzuna</th>\n",
       "      <th>ha</th>\n",
       "    </tr>\n",
       "  </thead>\n",
       "  <tbody>\n",
       "    <tr>\n",
       "      <th>0</th>\n",
       "      <td>23</td>\n",
       "      <td>0</td>\n",
       "      <td>1</td>\n",
       "      <td>0</td>\n",
       "      <td>1</td>\n",
       "      <td>0</td>\n",
       "      <td>0</td>\n",
       "      <td>1</td>\n",
       "      <td>0</td>\n",
       "      <td>0</td>\n",
       "      <td>1</td>\n",
       "    </tr>\n",
       "    <tr>\n",
       "      <th>1</th>\n",
       "      <td>14</td>\n",
       "      <td>1</td>\n",
       "      <td>0</td>\n",
       "      <td>0</td>\n",
       "      <td>0</td>\n",
       "      <td>1</td>\n",
       "      <td>0</td>\n",
       "      <td>1</td>\n",
       "      <td>0</td>\n",
       "      <td>0</td>\n",
       "      <td>1</td>\n",
       "    </tr>\n",
       "    <tr>\n",
       "      <th>2</th>\n",
       "      <td>17</td>\n",
       "      <td>0</td>\n",
       "      <td>0</td>\n",
       "      <td>1</td>\n",
       "      <td>1</td>\n",
       "      <td>0</td>\n",
       "      <td>0</td>\n",
       "      <td>0</td>\n",
       "      <td>1</td>\n",
       "      <td>0</td>\n",
       "      <td>1</td>\n",
       "    </tr>\n",
       "    <tr>\n",
       "      <th>3</th>\n",
       "      <td>18</td>\n",
       "      <td>0</td>\n",
       "      <td>0</td>\n",
       "      <td>1</td>\n",
       "      <td>0</td>\n",
       "      <td>1</td>\n",
       "      <td>0</td>\n",
       "      <td>0</td>\n",
       "      <td>1</td>\n",
       "      <td>0</td>\n",
       "      <td>1</td>\n",
       "    </tr>\n",
       "    <tr>\n",
       "      <th>4</th>\n",
       "      <td>1</td>\n",
       "      <td>0</td>\n",
       "      <td>1</td>\n",
       "      <td>0</td>\n",
       "      <td>0</td>\n",
       "      <td>0</td>\n",
       "      <td>1</td>\n",
       "      <td>0</td>\n",
       "      <td>1</td>\n",
       "      <td>0</td>\n",
       "      <td>1</td>\n",
       "    </tr>\n",
       "  </tbody>\n",
       "</table>\n",
       "</div>"
      ],
      "text/plain": [
       "   Rank  fragola  mango  stracciatella  Euros 1  Euros 2  Euros 3  cono  \\\n",
       "0    23        0      1              0        1        0        0     1   \n",
       "1    14        1      0              0        0        1        0     1   \n",
       "2    17        0      0              1        1        0        0     0   \n",
       "3    18        0      0              1        0        1        0     0   \n",
       "4     1        0      1              0        0        0        1     0   \n",
       "\n",
       "   tazza  nezzuna  ha  \n",
       "0      0        0   1  \n",
       "1      0        0   1  \n",
       "2      1        0   1  \n",
       "3      1        0   1  \n",
       "4      1        0   1  "
      ]
     },
     "execution_count": 119,
     "metadata": {},
     "output_type": "execute_result"
    }
   ],
   "source": [
    "conjoint_data.head(5)"
   ]
  },
  {
   "cell_type": "markdown",
   "metadata": {},
   "source": [
    "### Estimate preferences using linear regression\n",
    "\n",
    "The most common technique to estimate the parameters (coefficients) of a linear model is Ordinary Least Squares (OLS).\n",
    "\n",
    "As the name implies, an OLS model is solved by finding the parameters that minimize the sum of squared residuals.\n",
    "\n",
    "Read more -> https://statisticsbyjim.com/regression/ols-linear-regression-assumptions/\n"
   ]
  },
  {
   "cell_type": "code",
   "execution_count": 120,
   "metadata": {},
   "outputs": [],
   "source": [
    "X = conjoint_data[[u'stracciatella', u'fragola', u'mango', u'Euros 1', u'Euros 2', u'Euros 3', u'cono', u'tazza', u'nezzuna', u'ha']]\n",
    "X = sm.add_constant(X)\n",
    "Y = conjoint_data.Rank\n",
    "linearRegression = sm.OLS(Y, X).fit()\n"
   ]
  },
  {
   "cell_type": "markdown",
   "metadata": {},
   "source": [
    "#### Regression summary table \n",
    "\n",
    "The R-squared value of 0.283 indicates that around 28% of variation in product Ranking can be explained by the various gelato product features."
   ]
  },
  {
   "cell_type": "code",
   "execution_count": 122,
   "metadata": {},
   "outputs": [
    {
     "data": {
      "text/html": [
       "<table class=\"simpletable\">\n",
       "<caption>OLS Regression Results</caption>\n",
       "<tr>\n",
       "  <th>Dep. Variable:</th>          <td>Rank</td>       <th>  R-squared:         </th> <td>   0.283</td>\n",
       "</tr>\n",
       "<tr>\n",
       "  <th>Model:</th>                   <td>OLS</td>       <th>  Adj. R-squared:    </th> <td>   0.096</td>\n",
       "</tr>\n",
       "<tr>\n",
       "  <th>Method:</th>             <td>Least Squares</td>  <th>  F-statistic:       </th> <td>   1.511</td>\n",
       "</tr>\n",
       "<tr>\n",
       "  <th>Date:</th>             <td>Sun, 02 Jun 2019</td> <th>  Prob (F-statistic):</th>  <td> 0.219</td> \n",
       "</tr>\n",
       "<tr>\n",
       "  <th>Time:</th>                 <td>14:49:58</td>     <th>  Log-Likelihood:    </th> <td> -102.64</td>\n",
       "</tr>\n",
       "<tr>\n",
       "  <th>No. Observations:</th>      <td>    30</td>      <th>  AIC:               </th> <td>   219.3</td>\n",
       "</tr>\n",
       "<tr>\n",
       "  <th>Df Residuals:</th>          <td>    23</td>      <th>  BIC:               </th> <td>   229.1</td>\n",
       "</tr>\n",
       "<tr>\n",
       "  <th>Df Model:</th>              <td>     6</td>      <th>                     </th>     <td> </td>   \n",
       "</tr>\n",
       "<tr>\n",
       "  <th>Covariance Type:</th>      <td>nonrobust</td>    <th>                     </th>     <td> </td>   \n",
       "</tr>\n",
       "</table>"
      ],
      "text/plain": [
       "<class 'statsmodels.iolib.table.SimpleTable'>"
      ]
     },
     "execution_count": 122,
     "metadata": {},
     "output_type": "execute_result"
    }
   ],
   "source": [
    "linearRegression.summary().tables[0]"
   ]
  },
  {
   "cell_type": "markdown",
   "metadata": {},
   "source": [
    "#### Regression Coefficient summary table\n",
    "\n",
    "From our results below, we see that\n",
    "\n",
    "- The intercept is  6.2.\n",
    "\n",
    "\n",
    "- The slopes are 1.001, 2,85 2.34, 6.86, 2.54, -3.20, 1.9, 4.3, 3.85, 2.35 for each of the ice cream product features, respectively, stracciatella, fragola, mango, Euros 1, Euros 2, Euros 3, cono, tazza, nezzuna, ha.\n",
    "\n",
    "\n",
    "- Positive slopes (>1) imply that those features have a positive effect on Rankings, while those with negative slopes (<1) have a negative effect on Rankings.  Based on initial analysis of the resulting summary table, fragola flavored tazza gelatos with no toppings priced at about a one Euro suggest favorable ranking, but stracciatella flavored cones that have toppings priced at three Euros suggest unfavorable ranking. Perhaps customers, for this data set, don't see the value of a 3 Euro gelato and prefer tropical flavors?\n",
    "\n",
    "\n",
    "- Features with P-value of < 0.05 such as Euro 1, serviced in a cup, with no toppings are statistically significant (using p < 0.05 as a rejection rule).\n"
   ]
  },
  {
   "cell_type": "code",
   "execution_count": 123,
   "metadata": {},
   "outputs": [
    {
     "data": {
      "text/html": [
       "<table class=\"simpletable\">\n",
       "<tr>\n",
       "        <td></td>           <th>coef</th>     <th>std err</th>      <th>t</th>      <th>P>|t|</th>  <th>[0.025</th>    <th>0.975]</th>  \n",
       "</tr>\n",
       "<tr>\n",
       "  <th>const</th>         <td>    6.2007</td> <td>    0.681</td> <td>    9.101</td> <td> 0.000</td> <td>    4.791</td> <td>    7.610</td>\n",
       "</tr>\n",
       "<tr>\n",
       "  <th>stracciatella</th> <td>    1.0001</td> <td>    2.259</td> <td>    0.443</td> <td> 0.662</td> <td>   -3.673</td> <td>    5.673</td>\n",
       "</tr>\n",
       "<tr>\n",
       "  <th>fragola</th>       <td>    2.8564</td> <td>    2.277</td> <td>    1.254</td> <td> 0.222</td> <td>   -1.855</td> <td>    7.568</td>\n",
       "</tr>\n",
       "<tr>\n",
       "  <th>mango</th>         <td>    2.3442</td> <td>    2.248</td> <td>    1.043</td> <td> 0.308</td> <td>   -2.306</td> <td>    6.994</td>\n",
       "</tr>\n",
       "<tr>\n",
       "  <th>Euros 1</th>       <td>    6.8587</td> <td>    2.459</td> <td>    2.789</td> <td> 0.010</td> <td>    1.772</td> <td>   11.946</td>\n",
       "</tr>\n",
       "<tr>\n",
       "  <th>Euros 2</th>       <td>    2.5432</td> <td>    2.357</td> <td>    1.079</td> <td> 0.292</td> <td>   -2.332</td> <td>    7.418</td>\n",
       "</tr>\n",
       "<tr>\n",
       "  <th>Euros 3</th>       <td>   -3.2012</td> <td>    2.081</td> <td>   -1.538</td> <td> 0.138</td> <td>   -7.506</td> <td>    1.103</td>\n",
       "</tr>\n",
       "<tr>\n",
       "  <th>cono</th>          <td>    1.8989</td> <td>    1.999</td> <td>    0.950</td> <td> 0.352</td> <td>   -2.236</td> <td>    6.034</td>\n",
       "</tr>\n",
       "<tr>\n",
       "  <th>tazza</th>         <td>    4.3017</td> <td>    1.699</td> <td>    2.531</td> <td> 0.019</td> <td>    0.786</td> <td>    7.817</td>\n",
       "</tr>\n",
       "<tr>\n",
       "  <th>nezzuna</th>       <td>    3.8515</td> <td>    1.735</td> <td>    2.220</td> <td> 0.037</td> <td>    0.262</td> <td>    7.441</td>\n",
       "</tr>\n",
       "<tr>\n",
       "  <th>ha</th>            <td>    2.3492</td> <td>    1.642</td> <td>    1.431</td> <td> 0.166</td> <td>   -1.048</td> <td>    5.746</td>\n",
       "</tr>\n",
       "</table>"
      ],
      "text/plain": [
       "<class 'statsmodels.iolib.table.SimpleTable'>"
      ]
     },
     "execution_count": 123,
     "metadata": {},
     "output_type": "execute_result"
    }
   ],
   "source": [
    "linearRegression.summary().tables[1]"
   ]
  },
  {
   "cell_type": "code",
   "execution_count": 124,
   "metadata": {},
   "outputs": [],
   "source": [
    "conjoint_attribs = [u'stracciatella', u'fragola', u'mango', u'Euros 1', u'Euros 2', u'Euros 3', u'cono', u'tazza', u'nezzuna', u'ha']"
   ]
  },
  {
   "cell_type": "markdown",
   "metadata": {},
   "source": [
    "### Estimate contribution of gelato product attributes, and their options, to product overall Utility\n",
    "\n",
    "- Importance of attribute = Max(coeff) - Min(coeff), or consumer preference by feature option.\n",
    "\n",
    "- Relative Importance of attribute = Importance of attribute / Sum(Importance of all attributes), or the contribution of an attribute to the total utility of the product.\n",
    "\n",
    "- Utility - Thumbs Up or Down judgement representing the total product's value."
   ]
  },
  {
   "cell_type": "code",
   "execution_count": 138,
   "metadata": {},
   "outputs": [],
   "source": [
    "option_name = []\n",
    "importance_range = []\n",
    "importance = []\n",
    "\n",
    "end = 1\n",
    "for item in conjoint_attribs:\n",
    "    options = len(list(set(conjoint_data[item])))\n",
    "    option_name.append(list(set(conjoint_data[item])))\n",
    "    start = end\n",
    "    end = start + options - 1\n",
    "    new_attrib_importance = list(linearRegression.params[start:end].round(4))  # find a regression line through each attribute\n",
    "    new_attrib_importance.append((-1) * sum(new_attrib_importance))            # append the absolute value range counterpart\n",
    "    importance_range.append(max(new_attrib_importance) - min(new_attrib_importance))\n",
    "    importance.append(new_attrib_importance)\n",
    "\n",
    "relative_importance = []\n",
    "for item in importance_range:\n",
    "    relative_importance.append(round(100 * (item / sum(importance_range)),4))"
   ]
  },
  {
   "cell_type": "code",
   "execution_count": 163,
   "metadata": {},
   "outputs": [
    {
     "data": {
      "text/html": [
       "<div>\n",
       "<style scoped>\n",
       "    .dataframe tbody tr th:only-of-type {\n",
       "        vertical-align: middle;\n",
       "    }\n",
       "\n",
       "    .dataframe tbody tr th {\n",
       "        vertical-align: top;\n",
       "    }\n",
       "\n",
       "    .dataframe thead th {\n",
       "        text-align: right;\n",
       "    }\n",
       "</style>\n",
       "<table border=\"1\" class=\"dataframe\">\n",
       "  <thead>\n",
       "    <tr style=\"text-align: right;\">\n",
       "      <th></th>\n",
       "      <th>fragola</th>\n",
       "      <th>mango</th>\n",
       "      <th>stracciatella</th>\n",
       "      <th>Euros 1</th>\n",
       "      <th>Euros 2</th>\n",
       "      <th>Euros 3</th>\n",
       "      <th>cono</th>\n",
       "      <th>tazza</th>\n",
       "      <th>nezzuna</th>\n",
       "      <th>ha</th>\n",
       "    </tr>\n",
       "  </thead>\n",
       "  <tbody>\n",
       "    <tr>\n",
       "      <th>0</th>\n",
       "      <td>3.2049</td>\n",
       "      <td>9.1536</td>\n",
       "      <td>7.5122</td>\n",
       "      <td>21.9794</td>\n",
       "      <td>8.1499</td>\n",
       "      <td>10.2586</td>\n",
       "      <td>6.0852</td>\n",
       "      <td>13.7852</td>\n",
       "      <td>12.3425</td>\n",
       "      <td>7.5283</td>\n",
       "    </tr>\n",
       "  </tbody>\n",
       "</table>\n",
       "</div>"
      ],
      "text/plain": [
       "   fragola   mango  stracciatella  Euros 1  Euros 2  Euros 3    cono    tazza  \\\n",
       "0   3.2049  9.1536         7.5122  21.9794   8.1499  10.2586  6.0852  13.7852   \n",
       "\n",
       "   nezzuna      ha  \n",
       "0  12.3425  7.5283  "
      ]
     },
     "execution_count": 163,
     "metadata": {},
     "output_type": "execute_result"
    }
   ],
   "source": [
    "conjoint_attribs = conjoint_data.drop(columns=\"Rank\")\n",
    "relative_importance_df = pd.DataFrame(columns = conjoint_attribs.columns)\n",
    "relative_importance_df.loc[len(relative_importance_df)] = relative_importance\n",
    "relative_importance_df"
   ]
  },
  {
   "cell_type": "markdown",
   "metadata": {},
   "source": [
    "### Conclusion\n",
    "\n",
    "For each gelato product option, pick out the highest number among the relative importance values.  Based on this extended analysis, mango flavored tazza gelatos with no toppings priced at about a one Euro yields the highest overall product utility.\n",
    "\n",
    "### Discuss\n",
    "\n",
    "- Analysis\n",
    "    - Do you agree with the analysis?\n",
    "    - What are the limitations or assumptions of this type of analysis?\n",
    "    - If attributes are collinear with another, how would this impact the calculations of regression, or of relative importance?\n",
    "    \n",
    "### Read More\n",
    "\n",
    "https://ariepratama.github.io/How-to-do-conjoint-analysis-in-python/\n",
    "\n",
    "https://github.com/stayingfoolish/Conjoint-Analysis/blob/master/Conjoint%20analysis.ipynb\n",
    "\n",
    "https://www.youtube.com/watch?v=EMbiGPGlBEM\n",
    "\n",
    "https://ariepratama.github.io/How-to-do-conjoint-analysis-in-python/\n",
    "\n",
    "https://github.com/Herka/Traditional-Conjoint-Analysis-with-Python/blob/master/Traditional%20Conjoint%20Analyse.ipynb\n",
    "\n",
    "https://www.linkedin.com/pulse/conjoint-analysis-simple-python-implementation-prajwal-sreenivas/\n",
    "\n",
    "https://lectures.quantecon.org/py/ols.html\n"
   ]
  }
 ],
 "metadata": {
  "kernelspec": {
   "display_name": "Python 3",
   "language": "python",
   "name": "python3"
  },
  "language_info": {
   "codemirror_mode": {
    "name": "ipython",
    "version": 3
   },
   "file_extension": ".py",
   "mimetype": "text/x-python",
   "name": "python",
   "nbconvert_exporter": "python",
   "pygments_lexer": "ipython3",
   "version": "3.7.4"
  }
 },
 "nbformat": 4,
 "nbformat_minor": 2
}
