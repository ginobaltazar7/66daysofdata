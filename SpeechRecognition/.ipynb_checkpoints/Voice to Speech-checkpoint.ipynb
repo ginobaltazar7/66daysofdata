{
 "cells": [
  {
   "cell_type": "markdown",
   "metadata": {},
   "source": [
    "# Speech Recognition\n",
    "\n",
    "Date July 2021\n",
    "\n",
    "The NVIDIA NeMo toolkit supports numerous Speech synthesis models which can be used to convert text to audio. \n",
    "\n",
    "NeMo comes with pretrained models that can be immediately downloaded and used to generate speech.\n",
    "\n",
    "The following example converts a short snippet from one of my favorite movies \"Godfather\" -> https://en.wikipedia.org/wiki/The_Godfather\n",
    "\n",
    "Read more --> https://catalog.ngc.nvidia.com/orgs/nvidia/collections/nemo_tts"
   ]
  },
  {
   "cell_type": "code",
   "execution_count": null,
   "metadata": {},
   "outputs": [],
   "source": [
    "BRANCH = 'r1.10.0'\n",
    "!python -m pip install git+https://github.com/NVIDIA/NeMo.git@$BRANCH#egg=nemo_toolkit[all]"
   ]
  },
  {
   "cell_type": "code",
   "execution_count": null,
   "metadata": {},
   "outputs": [],
   "source": [
    "# Ignore pre-production warnings\n",
    "import warnings\n",
    "warnings.filterwarnings('ignore')\n",
    "import nemo\n",
    "# Import Speech Recognition collection\n",
    "import nemo.collections.asr as nemo_asr\n",
    "# Import Natural Language Processing colleciton\n",
    "import nemo.collections.nlp as nemo_nlp\n",
    "# Import Speech Synthesis collection\n",
    "import nemo.collections.tts as nemo_tts\n",
    "# We'll use this to listen to audio\n",
    "import IPython"
   ]
  },
  {
   "cell_type": "code",
   "execution_count": null,
   "metadata": {},
   "outputs": [],
   "source": [
    "# Download audio sample which we'll try from the 'Godfather' movie\n",
    "Audio_sample = 'bada-bing.wav'\n",
    "!wget http://www.rosswalker.co.uk/movie_sounds/sounds_files_20150201_1096714/godfather/bada-bing.wav\n",
    "# Listen to it\n",
    "IPython.display.Audio(Audio_sample)"
   ]
  },
  {
   "cell_type": "code",
   "execution_count": null,
   "metadata": {},
   "outputs": [],
   "source": [
    "# Instantiate pre-trained Nemo model\n",
    "# Load audio_sample and convert it to text with QuartzNet ASR model. \n",
    "# To convert text back to audio, we actually need to generate spectrogram with FastPitch first and then convert it to actual audio signal using the HiFiGAN vocoder.\n",
    "\n",
    "# Speech Recognition model - QuartzNet\n",
    "quartznet = nemo_asr.models.EncDecCTCModel.from_pretrained(model_name=\"stt_en_quartznet15x5\").cuda()\n",
    "\n",
    "# Punctuation and capitalization model\n",
    "punctuation = nemo_nlp.models.PunctuationCapitalizationModel.from_pretrained(model_name='punctuation_en_distilbert').cuda()\n",
    "\n",
    "# Spectrogram generator which takes text as an input and produces spectrogram\n",
    "spectrogram_generator = nemo_tts.models.FastPitchModel.from_pretrained(model_name=\"tts_en_fastpitch\").cuda()\n",
    "\n",
    "# Vocoder model which takes spectrogram and produces actual audio\n",
    "vocoder = nemo_tts.models.HifiGanModel.from_pretrained(model_name=\"tts_hifigan\").cuda()"
   ]
  },
  {
   "cell_type": "code",
   "execution_count": null,
   "metadata": {},
   "outputs": [],
   "source": [
    "# Convert audio sample to text\n",
    "files = [Audio_sample]\n",
    "raw_text = ''\n",
    "text = ''\n",
    "for fname, transcription in zip(files, quartznet.transcribe(paths2audio_files=files)):\n",
    "  raw_text = transcription\n",
    "\n",
    "# Add capitalization and punctuation\n",
    "res = punctuation.add_punctuation_capitalization(queries=[raw_text])\n",
    "text = res[0]\n",
    "print(f'\\nRaw recognized text: {raw_text}. \\nText with capitalization and punctuation: {text}')\n",
    "\n",
    "Transcribing: 100%\n",
    "1/1 [00:01<00:00, 1.49s/it]\n",
    "[NeMo E 2021-07-07 20:25:31 segment:154] Loading bada-bing.wav via SoundFile raised RuntimeError: `Error opening 'bada-bing.wav': Error in WAV/W64/RF64 file. Malformed 'fmt ' chunk.`. NeMo will fallback to loading via pydub.\n",
    "[NeMo I 2021-07-07 20:25:32 punctuation_capitalization_model:1091] Using batch size 1 for inference\n",
    "[NeMo I 2021-07-07 20:25:32 punctuation_capitalization_infer_dataset:91] Max length: 64\n",
    "[NeMo I 2021-07-07 20:25:32 data_preprocessing:404] Some stats of the lengths of the sequences:\n",
    "[NeMo I 2021-07-07 20:25:32 data_preprocessing:410] Min: 86 |                  Max: 86 |                  Mean: 86.0 |                  Median: 86.0\n",
    "[NeMo I 2021-07-07 20:25:32 data_preprocessing:412] 75 percentile: 86.00\n",
    "[NeMo 2021-07-07 20:25:32 data_preprocessing:413] 99 percentile: 86.00\n",
    "100%|██████████| 4/4 [00:00<00:00, 106.57batch/s]\n",
    "Raw recognized text: what are you gonna do nice college boy yeah they wantnto get mixed up in a family business now you wanna goin down te police captain one cauze you slap you her face a little bit i what do you think is ust the army whele you shoot them a mile away you gotta get them closhe like this bet bing you blow their brains all over your nights come in  you're thaking thisv person. \n",
    "Text with capitalization and punctuation: What are you gonna do? nice? college boy? Yeah, they wantnto get mixed up in a family business. Now you wanna goin down Te police. Captain One cauze. You slap you her face a little bit. I. what do you think is Ust the army whele? You shoot them a mile away. You gotta get them closhe like this bet Bing you blow their brains all over your nights. Come in, You're thaking thisv person.\n"
   ]
  },
  {
   "cell_type": "code",
   "execution_count": null,
   "metadata": {},
   "outputs": [],
   "source": [
    "# Results\n",
    "\n",
    "# Original audio sample\n",
    "IPython.display.Audio(Audio_sample)\n",
    "\n",
    "# This is what was recognized by the ASR model\n",
    "print(raw_text)\n",
    "\n",
    "what are you gonna do nice college boy yeah they wantnto get mixed up in a family business now you wanna goin down te police captain one cauze you slap you her face a little bit i what do you think is ust the army whele you shoot them a mile away you gotta get them closhe like this bet bing you blow their brains all over your nights come in  you're thaking thisv person\n",
    "\n",
    "# This is how punctuation model changed it\n",
    "print(text)\n",
    "What are you gonna do? nice? college boy? Yeah, they wantnto get mixed up in a family business. Now you wanna goin down Te police. Captain One cauze. You slap you her face a little bit. I. what do you think is Ust the army whele? You shoot them a mile away. You gotta get them closhe like this bet Bing you blow their brains all over your nights. Come in, You're thaking thisv person.\n"
   ]
  },
  {
   "cell_type": "markdown",
   "metadata": {},
   "source": [
    "# Next steps\n",
    "\n",
    "A demo like this is great for prototyping and experimentation. However, for real production deployment, NVIDIA Riva is recommended, based on Pytorch https://docs.nvidia.com/deeplearning/riva/user-guide/docs/model-overview.html\n",
    "\n",
    "NeMo GitHub for more examples: https://github.com/NVIDIA/NeMo"
   ]
  }
 ],
 "metadata": {
  "kernelspec": {
   "display_name": "Python 3",
   "language": "python",
   "name": "python3"
  },
  "language_info": {
   "codemirror_mode": {
    "name": "ipython",
    "version": 3
   },
   "file_extension": ".py",
   "mimetype": "text/x-python",
   "name": "python",
   "nbconvert_exporter": "python",
   "pygments_lexer": "ipython3",
   "version": "3.7.4"
  }
 },
 "nbformat": 4,
 "nbformat_minor": 2
}
