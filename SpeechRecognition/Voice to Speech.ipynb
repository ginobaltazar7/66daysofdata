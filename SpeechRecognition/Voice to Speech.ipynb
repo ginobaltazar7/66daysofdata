{
  "cells": [
    {
      "cell_type": "markdown",
      "metadata": {
        "id": "M6RgQqn9k4aP"
      },
      "source": [
        "# Speech Recognition\n",
        "\n",
        "Date July 2021\n",
        "\n",
        "The NVIDIA NeMo toolkit supports numerous Speech synthesis models which can be used to convert text to audio. \n",
        "\n",
        "NeMo comes with pretrained models that can be immediately downloaded and used to generate speech.\n",
        "\n",
        "The following example converts a short snippet from one of my favorite movies \"Godfather\" -> https://en.wikipedia.org/wiki/The_Godfather\n",
        "\n",
        "Read more --> https://catalog.ngc.nvidia.com/orgs/nvidia/collections/nemo_tts\n",
        "\n",
        "If running in Colab, change Runtime = 'GPU'"
      ]
    },
    {
      "cell_type": "code",
      "execution_count": 23,
      "metadata": {
        "id": "TJSCnPGck4aX",
        "outputId": "b636d429-0642-4093-82f9-bd8e431a2ee8",
        "colab": {
          "base_uri": "https://localhost:8080/"
        }
      },
      "outputs": [
        {
          "output_type": "stream",
          "name": "stdout",
          "text": [
            "Looking in indexes: https://pypi.org/simple, https://us-python.pkg.dev/colab-wheels/public/simple/\n",
            "Collecting git+https://github.com/NVIDIA/NeMo.git@r1.11.0\n",
            "  Cloning https://github.com/NVIDIA/NeMo.git (to revision r1.11.0) to /tmp/pip-req-build-cc55puco\n",
            "  Running command git clone --filter=blob:none --quiet https://github.com/NVIDIA/NeMo.git /tmp/pip-req-build-cc55puco\n",
            "  Running command git checkout -b r1.11.0 --track origin/r1.11.0\n",
            "  Switched to a new branch 'r1.11.0'\n",
            "  Branch 'r1.11.0' set up to track remote branch 'r1.11.0' from 'origin'.\n",
            "  Resolved https://github.com/NVIDIA/NeMo.git to commit e856e9732af79a6ed4bffaa3d709bfa387799587\n",
            "  Preparing metadata (setup.py) ... \u001b[?25l\u001b[?25hdone\n",
            "Requirement already satisfied: setuptools==59.5.0 in /usr/local/lib/python3.8/dist-packages (from nemo-toolkit==1.11.0) (59.5.0)\n",
            "Requirement already satisfied: numpy>=1.21 in /usr/local/lib/python3.8/dist-packages (from nemo-toolkit==1.11.0) (1.21.6)\n",
            "Requirement already satisfied: onnx>=1.7.0 in /usr/local/lib/python3.8/dist-packages (from nemo-toolkit==1.11.0) (1.13.0)\n",
            "Requirement already satisfied: python-dateutil in /usr/local/lib/python3.8/dist-packages (from nemo-toolkit==1.11.0) (2.8.2)\n",
            "Requirement already satisfied: torch in /usr/local/lib/python3.8/dist-packages (from nemo-toolkit==1.11.0) (1.13.1+cu116)\n",
            "Requirement already satisfied: wrapt in /usr/local/lib/python3.8/dist-packages (from nemo-toolkit==1.11.0) (1.14.1)\n",
            "Requirement already satisfied: ruamel.yaml in /usr/local/lib/python3.8/dist-packages (from nemo-toolkit==1.11.0) (0.17.21)\n",
            "Requirement already satisfied: scikit-learn in /usr/local/lib/python3.8/dist-packages (from nemo-toolkit==1.11.0) (1.0.2)\n",
            "Requirement already satisfied: tqdm>=4.41.0 in /usr/local/lib/python3.8/dist-packages (from nemo-toolkit==1.11.0) (4.64.1)\n",
            "Requirement already satisfied: numba in /usr/local/lib/python3.8/dist-packages (from nemo-toolkit==1.11.0) (0.56.4)\n",
            "Requirement already satisfied: wget in /usr/local/lib/python3.8/dist-packages (from nemo-toolkit==1.11.0) (3.2)\n",
            "Requirement already satisfied: frozendict in /usr/local/lib/python3.8/dist-packages (from nemo-toolkit==1.11.0) (2.3.4)\n",
            "Requirement already satisfied: unidecode in /usr/local/lib/python3.8/dist-packages (from nemo-toolkit==1.11.0) (1.3.6)\n",
            "Requirement already satisfied: huggingface_hub in /usr/local/lib/python3.8/dist-packages (from nemo-toolkit==1.11.0) (0.12.0)\n",
            "Requirement already satisfied: typing-extensions>=3.6.2.1 in /usr/local/lib/python3.8/dist-packages (from onnx>=1.7.0->nemo-toolkit==1.11.0) (4.4.0)\n",
            "Requirement already satisfied: protobuf<4,>=3.20.2 in /usr/local/lib/python3.8/dist-packages (from onnx>=1.7.0->nemo-toolkit==1.11.0) (3.20.3)\n",
            "Requirement already satisfied: pyyaml>=5.1 in /usr/local/lib/python3.8/dist-packages (from huggingface_hub->nemo-toolkit==1.11.0) (5.4.1)\n",
            "Requirement already satisfied: filelock in /usr/local/lib/python3.8/dist-packages (from huggingface_hub->nemo-toolkit==1.11.0) (3.9.0)\n",
            "Requirement already satisfied: packaging>=20.9 in /usr/local/lib/python3.8/dist-packages (from huggingface_hub->nemo-toolkit==1.11.0) (23.0)\n",
            "Requirement already satisfied: requests in /usr/local/lib/python3.8/dist-packages (from huggingface_hub->nemo-toolkit==1.11.0) (2.25.1)\n",
            "Requirement already satisfied: importlib-metadata in /usr/local/lib/python3.8/dist-packages (from numba->nemo-toolkit==1.11.0) (6.0.0)\n",
            "Requirement already satisfied: llvmlite<0.40,>=0.39.0dev0 in /usr/local/lib/python3.8/dist-packages (from numba->nemo-toolkit==1.11.0) (0.39.1)\n",
            "Requirement already satisfied: six>=1.5 in /usr/local/lib/python3.8/dist-packages (from python-dateutil->nemo-toolkit==1.11.0) (1.15.0)\n",
            "Requirement already satisfied: ruamel.yaml.clib>=0.2.6 in /usr/local/lib/python3.8/dist-packages (from ruamel.yaml->nemo-toolkit==1.11.0) (0.2.7)\n",
            "Requirement already satisfied: joblib>=0.11 in /usr/local/lib/python3.8/dist-packages (from scikit-learn->nemo-toolkit==1.11.0) (1.2.0)\n",
            "Requirement already satisfied: scipy>=1.1.0 in /usr/local/lib/python3.8/dist-packages (from scikit-learn->nemo-toolkit==1.11.0) (1.7.3)\n",
            "Requirement already satisfied: threadpoolctl>=2.0.0 in /usr/local/lib/python3.8/dist-packages (from scikit-learn->nemo-toolkit==1.11.0) (3.1.0)\n",
            "Requirement already satisfied: zipp>=0.5 in /usr/local/lib/python3.8/dist-packages (from importlib-metadata->numba->nemo-toolkit==1.11.0) (3.12.0)\n",
            "Requirement already satisfied: certifi>=2017.4.17 in /usr/local/lib/python3.8/dist-packages (from requests->huggingface_hub->nemo-toolkit==1.11.0) (2022.12.7)\n",
            "Requirement already satisfied: chardet<5,>=3.0.2 in /usr/local/lib/python3.8/dist-packages (from requests->huggingface_hub->nemo-toolkit==1.11.0) (4.0.0)\n",
            "Requirement already satisfied: idna<3,>=2.5 in /usr/local/lib/python3.8/dist-packages (from requests->huggingface_hub->nemo-toolkit==1.11.0) (2.10)\n",
            "Requirement already satisfied: urllib3<1.27,>=1.21.1 in /usr/local/lib/python3.8/dist-packages (from requests->huggingface_hub->nemo-toolkit==1.11.0) (1.26.14)\n",
            "Looking in indexes: https://pypi.org/simple, https://us-python.pkg.dev/colab-wheels/public/simple/\n",
            "Collecting git+https://github.com/NVIDIA/apex.git\n",
            "  Cloning https://github.com/NVIDIA/apex.git to /tmp/pip-req-build-w6ymg_wa\n",
            "  Running command git clone --filter=blob:none --quiet https://github.com/NVIDIA/apex.git /tmp/pip-req-build-w6ymg_wa\n",
            "  Resolved https://github.com/NVIDIA/apex.git to commit 5c9625cfed681d4c96a0ca4406ea6b1b08c78164\n",
            "  Running command git submodule update --init --recursive -q\n",
            "  Preparing metadata (setup.py) ... \u001b[?25l\u001b[?25hdone\n",
            "Requirement already satisfied: packaging>20.6 in /usr/local/lib/python3.8/dist-packages (from apex==0.1) (23.0)\n",
            "Looking in indexes: https://pypi.org/simple, https://us-python.pkg.dev/colab-wheels/public/simple/\n",
            "Requirement already satisfied: pynini==2.1.5 in /usr/local/lib/python3.8/dist-packages (2.1.5)\n",
            "Requirement already satisfied: Cython>=0.29 in /usr/local/lib/python3.8/dist-packages (from pynini==2.1.5) (0.29.33)\n"
          ]
        }
      ],
      "source": [
        "BRANCH = 'r1.11.0'\n",
        "!python -m pip install git+https://github.com/NVIDIA/NeMo.git@$BRANCH  #egg=nemo_toolkit[all]\n",
        "!python -m pip install git+https://github.com/NVIDIA/apex.git\n",
        "!pip install pynini==2.1.5"
      ]
    },
    {
      "cell_type": "code",
      "execution_count": 8,
      "metadata": {
        "id": "8crguWAUk4aZ"
      },
      "outputs": [],
      "source": [
        "# Ignore pre-production warnings\n",
        "import warnings\n",
        "warnings.filterwarnings('ignore')\n",
        "import nemo\n",
        "# Import Speech Recognition collection\n",
        "import nemo.collections.asr as nemo_asr\n",
        "# Import Natural Language Processing colleciton\n",
        "import nemo.collections.nlp as nemo_nlp\n",
        "# Import Speech Synthesis collection\n",
        "import nemo.collections.tts as nemo_tts\n",
        "# We'll use this to listen to audio\n",
        "import IPython"
      ]
    },
    {
      "cell_type": "code",
      "execution_count": 9,
      "metadata": {
        "id": "CUCKiMjhk4aa",
        "outputId": "01d051d3-3dbe-445c-f126-8f83d5b1f4b6",
        "colab": {
          "base_uri": "https://localhost:8080/",
          "height": 271
        }
      },
      "outputs": [
        {
          "output_type": "stream",
          "name": "stdout",
          "text": [
            "--2023-02-04 22:38:45--  http://www.rosswalker.co.uk/movie_sounds/sounds_files_20150201_1096714/godfather/bada-bing.wav\n",
            "Resolving www.rosswalker.co.uk (www.rosswalker.co.uk)... 192.31.21.192\n",
            "Connecting to www.rosswalker.co.uk (www.rosswalker.co.uk)|192.31.21.192|:80... connected.\n",
            "HTTP request sent, awaiting response... 200 OK\n",
            "Length: 46350 (45K) [audio/x-wav]\n",
            "Saving to: ‘bada-bing.wav.1’\n",
            "\n",
            "bada-bing.wav.1     100%[===================>]  45.26K  58.8KB/s    in 0.8s    \n",
            "\n",
            "2023-02-04 22:38:46 (58.8 KB/s) - ‘bada-bing.wav.1’ saved [46350/46350]\n",
            "\n"
          ]
        },
        {
          "output_type": "execute_result",
          "data": {
            "text/plain": [
              "<IPython.lib.display.Audio object>"
            ],
            "text/html": [
              "\n",
              "                <audio  controls=\"controls\" >\n",
              "                    <source src=\"data:audio/x-wav;base64,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\" type=\"audio/x-wav\" />\n",
              "                    Your browser does not support the audio element.\n",
              "                </audio>\n",
              "              "
            ]
          },
          "metadata": {},
          "execution_count": 9
        }
      ],
      "source": [
        "# Download audio sample which we'll try from the 'Godfather' movie\n",
        "Audio_sample = 'bada-bing.wav'\n",
        "!wget http://www.rosswalker.co.uk/movie_sounds/sounds_files_20150201_1096714/godfather/bada-bing.wav\n",
        "# Listen to it\n",
        "IPython.display.Audio(Audio_sample)"
      ]
    },
    {
      "cell_type": "code",
      "execution_count": 17,
      "metadata": {
        "id": "XMEI0ardk4ab",
        "outputId": "9b829827-f61b-41b6-cd43-6fcfe8d4384c",
        "colab": {
          "base_uri": "https://localhost:8080/"
        }
      },
      "outputs": [
        {
          "output_type": "stream",
          "name": "stdout",
          "text": [
            "[NeMo I 2023-02-04 22:48:14 cloud:56] Found existing object /root/.cache/torch/NeMo/NeMo_1.11.0/stt_en_quartznet15x5/16661021d16e679bdfd97a2a03944c49/stt_en_quartznet15x5.nemo.\n",
            "[NeMo I 2023-02-04 22:48:14 cloud:62] Re-using file from: /root/.cache/torch/NeMo/NeMo_1.11.0/stt_en_quartznet15x5/16661021d16e679bdfd97a2a03944c49/stt_en_quartznet15x5.nemo\n",
            "[NeMo I 2023-02-04 22:48:14 common:910] Instantiating model from pre-trained checkpoint\n"
          ]
        },
        {
          "output_type": "stream",
          "name": "stderr",
          "text": [
            "[NeMo W 2023-02-04 22:48:15 modelPT:142] If you intend to do training or fine-tuning, please call the ModelPT.setup_training_data() method and provide a valid configuration file to setup the train data loader.\n",
            "    Train config : \n",
            "    manifest_filepath: /data2/voices/train_1k.json\n",
            "    sample_rate: 16000\n",
            "    labels:\n",
            "    - ' '\n",
            "    - a\n",
            "    - b\n",
            "    - c\n",
            "    - d\n",
            "    - e\n",
            "    - f\n",
            "    - g\n",
            "    - h\n",
            "    - i\n",
            "    - j\n",
            "    - k\n",
            "    - l\n",
            "    - m\n",
            "    - 'n'\n",
            "    - o\n",
            "    - p\n",
            "    - q\n",
            "    - r\n",
            "    - s\n",
            "    - t\n",
            "    - u\n",
            "    - v\n",
            "    - w\n",
            "    - x\n",
            "    - 'y'\n",
            "    - z\n",
            "    - ''''\n",
            "    batch_size: 32\n",
            "    trim_silence: true\n",
            "    max_duration: 16.7\n",
            "    shuffle: true\n",
            "    is_tarred: false\n",
            "    tarred_audio_filepaths: /asr_set_1.2/train/train_{0..1023}.tar\n",
            "    num_workers: 20\n",
            "    \n",
            "[NeMo W 2023-02-04 22:48:15 modelPT:149] If you intend to do validation, please call the ModelPT.setup_validation_data() or ModelPT.setup_multiple_validation_data() method and provide a valid configuration file to setup the validation data loader(s). \n",
            "    Validation config : \n",
            "    manifest_filepath: /data2/voices/train_1k_samp.json\n",
            "    sample_rate: 16000\n",
            "    labels:\n",
            "    - ' '\n",
            "    - a\n",
            "    - b\n",
            "    - c\n",
            "    - d\n",
            "    - e\n",
            "    - f\n",
            "    - g\n",
            "    - h\n",
            "    - i\n",
            "    - j\n",
            "    - k\n",
            "    - l\n",
            "    - m\n",
            "    - 'n'\n",
            "    - o\n",
            "    - p\n",
            "    - q\n",
            "    - r\n",
            "    - s\n",
            "    - t\n",
            "    - u\n",
            "    - v\n",
            "    - w\n",
            "    - x\n",
            "    - 'y'\n",
            "    - z\n",
            "    - ''''\n",
            "    batch_size: 32\n",
            "    shuffle: false\n",
            "    \n"
          ]
        },
        {
          "output_type": "stream",
          "name": "stdout",
          "text": [
            "[NeMo I 2023-02-04 22:48:15 features:223] PADDING: 16\n",
            "[NeMo I 2023-02-04 22:48:17 audio_preprocessing:491] Numba CUDA SpecAugment kernel is being used\n",
            "[NeMo I 2023-02-04 22:48:18 save_restore_connector:243] Model EncDecCTCModel was successfully restored from /root/.cache/torch/NeMo/NeMo_1.11.0/stt_en_quartznet15x5/16661021d16e679bdfd97a2a03944c49/stt_en_quartznet15x5.nemo.\n",
            "[NeMo I 2023-02-04 22:48:18 cloud:56] Found existing object /root/.cache/torch/NeMo/NeMo_1.11.0/punctuation_en_distilbert/613c4ee780c6fc158f49d3566cbd6636/punctuation_en_distilbert.nemo.\n",
            "[NeMo I 2023-02-04 22:48:18 cloud:62] Re-using file from: /root/.cache/torch/NeMo/NeMo_1.11.0/punctuation_en_distilbert/613c4ee780c6fc158f49d3566cbd6636/punctuation_en_distilbert.nemo\n",
            "[NeMo I 2023-02-04 22:48:18 common:910] Instantiating model from pre-trained checkpoint\n",
            "[NeMo I 2023-02-04 22:48:21 tokenizer_utils:130] Getting HuggingFace AutoTokenizer with pretrained_model_name: distilbert-base-uncased, vocab_file: /tmp/tmpsvifqger/tokenizer.vocab_file, merges_files: None, special_tokens_dict: {}, and use_fast: False\n"
          ]
        },
        {
          "output_type": "stream",
          "name": "stderr",
          "text": [
            "Using eos_token, but it is not set yet.\n",
            "Using bos_token, but it is not set yet.\n",
            "[NeMo W 2023-02-04 22:48:22 modelPT:217] You tried to register an artifact under config key=tokenizer.vocab_file but an artifact for it has already been registered.\n",
            "[NeMo W 2023-02-04 22:48:22 modelPT:142] If you intend to do training or fine-tuning, please call the ModelPT.setup_training_data() method and provide a valid configuration file to setup the train data loader.\n",
            "    Train config : \n",
            "    use_tarred_dataset: false\n",
            "    label_info_save_dir: null\n",
            "    text_file: text_train.txt\n",
            "    labels_file: labels_train.txt\n",
            "    tokens_in_batch: null\n",
            "    max_seq_length: 128\n",
            "    num_samples: -1\n",
            "    use_cache: true\n",
            "    cache_dir: null\n",
            "    get_label_frequences: false\n",
            "    verbose: true\n",
            "    n_jobs: 0\n",
            "    tar_metadata_file: null\n",
            "    tar_shuffle_n: 1\n",
            "    shard_strategy: scatter\n",
            "    shuffle: true\n",
            "    drop_last: false\n",
            "    pin_memory: true\n",
            "    num_workers: 8\n",
            "    persistent_workers: true\n",
            "    ds_item: punct_dataset_complete\n",
            "    \n",
            "[NeMo W 2023-02-04 22:48:22 modelPT:149] If you intend to do validation, please call the ModelPT.setup_validation_data() or ModelPT.setup_multiple_validation_data() method and provide a valid configuration file to setup the validation data loader(s). \n",
            "    Validation config : \n",
            "    use_tarred_dataset: false\n",
            "    label_info_save_dir: null\n",
            "    text_file: text_dev.txt\n",
            "    labels_file: labels_dev.txt\n",
            "    tokens_in_batch: null\n",
            "    max_seq_length: 128\n",
            "    num_samples: -1\n",
            "    use_cache: true\n",
            "    cache_dir: null\n",
            "    get_label_frequences: false\n",
            "    verbose: true\n",
            "    n_jobs: 0\n",
            "    tar_metadata_file: null\n",
            "    tar_shuffle_n: 1\n",
            "    shard_strategy: scatter\n",
            "    shuffle: true\n",
            "    drop_last: false\n",
            "    pin_memory: true\n",
            "    num_workers: 8\n",
            "    persistent_workers: true\n",
            "    ds_item: punct_dataset_complete\n",
            "    \n",
            "[NeMo W 2023-02-04 22:48:22 modelPT:155] Please call the ModelPT.setup_test_data() or ModelPT.setup_multiple_test_data() method and provide a valid configuration file to setup the test data loader(s).\n",
            "    Test config : \n",
            "    use_tarred_dataset: false\n",
            "    label_info_save_dir: null\n",
            "    text_file: text_dev.txt\n",
            "    labels_file: labels_dev.txt\n",
            "    tokens_in_batch: null\n",
            "    max_seq_length: 128\n",
            "    num_samples: -1\n",
            "    use_cache: true\n",
            "    cache_dir: null\n",
            "    get_label_frequences: false\n",
            "    verbose: true\n",
            "    n_jobs: 0\n",
            "    tar_metadata_file: null\n",
            "    tar_shuffle_n: 1\n",
            "    shard_strategy: scatter\n",
            "    shuffle: true\n",
            "    drop_last: false\n",
            "    pin_memory: true\n",
            "    num_workers: 8\n",
            "    persistent_workers: true\n",
            "    ds_item: punct_dataset_complete\n",
            "    \n",
            "[NeMo W 2023-02-04 22:48:22 nlp_overrides:228] Apex was not found. Please see the NeMo README for installation instructions: https://github.com/NVIDIA/apex\n",
            "    Megatron-based models require Apex to function correctly.\n",
            "Some weights of the model checkpoint at distilbert-base-uncased were not used when initializing DistilBertModel: ['vocab_layer_norm.weight', 'vocab_layer_norm.bias', 'vocab_projector.bias', 'vocab_transform.weight', 'vocab_projector.weight', 'vocab_transform.bias']\n",
            "- This IS expected if you are initializing DistilBertModel from the checkpoint of a model trained on another task or with another architecture (e.g. initializing a BertForSequenceClassification model from a BertForPreTraining model).\n",
            "- This IS NOT expected if you are initializing DistilBertModel from the checkpoint of a model that you expect to be exactly identical (initializing a BertForSequenceClassification model from a BertForSequenceClassification model).\n",
            "Some weights of the model checkpoint at distilbert-base-uncased were not used when initializing DistilBertEncoder: ['vocab_layer_norm.weight', 'vocab_layer_norm.bias', 'vocab_projector.bias', 'vocab_transform.weight', 'vocab_projector.weight', 'vocab_transform.bias']\n",
            "- This IS expected if you are initializing DistilBertEncoder from the checkpoint of a model trained on another task or with another architecture (e.g. initializing a BertForSequenceClassification model from a BertForPreTraining model).\n",
            "- This IS NOT expected if you are initializing DistilBertEncoder from the checkpoint of a model that you expect to be exactly identical (initializing a BertForSequenceClassification model from a BertForSequenceClassification model).\n",
            "[NeMo W 2023-02-04 22:48:24 punctuation_capitalization_model:705] The artifact `class_labels.punct_labels_file` was not found in checkpoint. Will rely on `punct_label_ids` parameter\n",
            "[NeMo W 2023-02-04 22:48:24 punctuation_capitalization_model:727] The artifact `class_labels.capit_labels_file` was not found in checkpoint. Will rely on `capit_label_ids` parameter\n"
          ]
        },
        {
          "output_type": "stream",
          "name": "stdout",
          "text": [
            "[NeMo I 2023-02-04 22:48:24 save_restore_connector:243] Model PunctuationCapitalizationModel was successfully restored from /root/.cache/torch/NeMo/NeMo_1.11.0/punctuation_en_distilbert/613c4ee780c6fc158f49d3566cbd6636/punctuation_en_distilbert.nemo.\n",
            "[NeMo I 2023-02-04 22:48:24 cloud:56] Found existing object /root/.cache/torch/NeMo/NeMo_1.11.0/tts_en_fastpitch_align/26d7e09971f1d611e24df90c7a9d9b38/tts_en_fastpitch_align.nemo.\n",
            "[NeMo I 2023-02-04 22:48:24 cloud:62] Re-using file from: /root/.cache/torch/NeMo/NeMo_1.11.0/tts_en_fastpitch_align/26d7e09971f1d611e24df90c7a9d9b38/tts_en_fastpitch_align.nemo\n",
            "[NeMo I 2023-02-04 22:48:24 common:910] Instantiating model from pre-trained checkpoint\n",
            "[NeMo I 2023-02-04 22:48:27 tokenize_and_classify:87] Creating ClassifyFst grammars.\n"
          ]
        },
        {
          "output_type": "stream",
          "name": "stderr",
          "text": [
            "[NeMo W 2023-02-04 22:48:50 experimental:27] Module <class 'nemo.collections.tts.torch.g2ps.IPAG2P'> is experimental, not ready for production and is not fully supported. Use at your own risk.\n",
            "[NeMo W 2023-02-04 22:48:51 g2ps:86] apply_to_oov_word=None, This means that some of words will remain unchanged if they are not handled by any of the rules in self.parse_one_word(). This may be intended if phonemes and chars are both valid inputs, otherwise, you may see unexpected deletions in your input.\n",
            "[NeMo W 2023-02-04 22:48:51 modelPT:142] If you intend to do training or fine-tuning, please call the ModelPT.setup_training_data() method and provide a valid configuration file to setup the train data loader.\n",
            "    Train config : \n",
            "    dataset:\n",
            "      _target_: nemo.collections.tts.torch.data.TTSDataset\n",
            "      manifest_filepath: /ws/LJSpeech/nvidia_ljspeech_train_clean_ngc.json\n",
            "      sample_rate: 22050\n",
            "      sup_data_path: /raid/LJSpeech/supplementary\n",
            "      sup_data_types:\n",
            "      - align_prior_matrix\n",
            "      - pitch\n",
            "      n_fft: 1024\n",
            "      win_length: 1024\n",
            "      hop_length: 256\n",
            "      window: hann\n",
            "      n_mels: 80\n",
            "      lowfreq: 0\n",
            "      highfreq: 8000\n",
            "      max_duration: null\n",
            "      min_duration: 0.1\n",
            "      ignore_file: null\n",
            "      trim: false\n",
            "      pitch_fmin: 65.40639132514966\n",
            "      pitch_fmax: 2093.004522404789\n",
            "      pitch_norm: true\n",
            "      pitch_mean: 212.35873413085938\n",
            "      pitch_std: 68.52806091308594\n",
            "      use_beta_binomial_interpolator: true\n",
            "    dataloader_params:\n",
            "      drop_last: false\n",
            "      shuffle: true\n",
            "      batch_size: 24\n",
            "      num_workers: 0\n",
            "    \n",
            "[NeMo W 2023-02-04 22:48:51 modelPT:149] If you intend to do validation, please call the ModelPT.setup_validation_data() or ModelPT.setup_multiple_validation_data() method and provide a valid configuration file to setup the validation data loader(s). \n",
            "    Validation config : \n",
            "    dataset:\n",
            "      _target_: nemo.collections.tts.torch.data.TTSDataset\n",
            "      manifest_filepath: /ws/LJSpeech/nvidia_ljspeech_val_clean_ngc.json\n",
            "      sample_rate: 22050\n",
            "      sup_data_path: /raid/LJSpeech/supplementary\n",
            "      sup_data_types:\n",
            "      - align_prior_matrix\n",
            "      - pitch\n",
            "      n_fft: 1024\n",
            "      win_length: 1024\n",
            "      hop_length: 256\n",
            "      window: hann\n",
            "      n_mels: 80\n",
            "      lowfreq: 0\n",
            "      highfreq: 8000\n",
            "      max_duration: null\n",
            "      min_duration: null\n",
            "      ignore_file: null\n",
            "      trim: false\n",
            "      pitch_fmin: 65.40639132514966\n",
            "      pitch_fmax: 2093.004522404789\n",
            "      pitch_norm: true\n",
            "      pitch_mean: 212.35873413085938\n",
            "      pitch_std: 68.52806091308594\n",
            "      use_beta_binomial_interpolator: true\n",
            "    dataloader_params:\n",
            "      drop_last: false\n",
            "      shuffle: false\n",
            "      batch_size: 24\n",
            "      num_workers: 0\n",
            "    \n"
          ]
        },
        {
          "output_type": "stream",
          "name": "stdout",
          "text": [
            "[NeMo I 2023-02-04 22:48:51 features:223] PADDING: 1\n",
            "[NeMo I 2023-02-04 22:48:52 save_restore_connector:243] Model FastPitchModel was successfully restored from /root/.cache/torch/NeMo/NeMo_1.11.0/tts_en_fastpitch_align/26d7e09971f1d611e24df90c7a9d9b38/tts_en_fastpitch_align.nemo.\n",
            "[NeMo I 2023-02-04 22:48:52 cloud:66] Downloading from: https://api.ngc.nvidia.com/v2/models/nvidia/nemo/tts_hifigan/versions/1.0.0rc1/files/tts_hifigan.nemo to /root/.cache/torch/NeMo/NeMo_1.11.0/tts_hifigan/e6da322f0f7e7dcf3f1900a9229a7e69/tts_hifigan.nemo\n",
            "[NeMo I 2023-02-04 22:49:15 common:910] Instantiating model from pre-trained checkpoint\n"
          ]
        },
        {
          "output_type": "stream",
          "name": "stderr",
          "text": [
            "[NeMo W 2023-02-04 22:49:18 modelPT:142] If you intend to do training or fine-tuning, please call the ModelPT.setup_training_data() method and provide a valid configuration file to setup the train data loader.\n",
            "    Train config : \n",
            "    dataset:\n",
            "      _target_: nemo.collections.tts.data.datalayers.MelAudioDataset\n",
            "      manifest_filepath: /home/fkreuk/data/train_finetune.txt\n",
            "      min_duration: 0.75\n",
            "      n_segments: 8192\n",
            "    dataloader_params:\n",
            "      drop_last: false\n",
            "      shuffle: true\n",
            "      batch_size: 64\n",
            "      num_workers: 4\n",
            "    \n",
            "[NeMo W 2023-02-04 22:49:18 modelPT:149] If you intend to do validation, please call the ModelPT.setup_validation_data() or ModelPT.setup_multiple_validation_data() method and provide a valid configuration file to setup the validation data loader(s). \n",
            "    Validation config : \n",
            "    dataset:\n",
            "      _target_: nemo.collections.tts.data.datalayers.MelAudioDataset\n",
            "      manifest_filepath: /home/fkreuk/data/val_finetune.txt\n",
            "      min_duration: 3\n",
            "      n_segments: 66150\n",
            "    dataloader_params:\n",
            "      drop_last: false\n",
            "      shuffle: false\n",
            "      batch_size: 5\n",
            "      num_workers: 4\n",
            "    \n",
            "[NeMo W 2023-02-04 22:49:18 features:200] Using torch_stft is deprecated and has been removed. The values have been forcibly set to False for FilterbankFeatures and AudioToMelSpectrogramPreprocessor. Please set exact_pad to True as needed.\n"
          ]
        },
        {
          "output_type": "stream",
          "name": "stdout",
          "text": [
            "[NeMo I 2023-02-04 22:49:18 features:223] PADDING: 0\n"
          ]
        },
        {
          "output_type": "stream",
          "name": "stderr",
          "text": [
            "[NeMo W 2023-02-04 22:49:18 features:200] Using torch_stft is deprecated and has been removed. The values have been forcibly set to False for FilterbankFeatures and AudioToMelSpectrogramPreprocessor. Please set exact_pad to True as needed.\n"
          ]
        },
        {
          "output_type": "stream",
          "name": "stdout",
          "text": [
            "[NeMo I 2023-02-04 22:49:18 features:223] PADDING: 0\n",
            "[NeMo I 2023-02-04 22:49:20 save_restore_connector:243] Model HifiGanModel was successfully restored from /root/.cache/torch/NeMo/NeMo_1.11.0/tts_hifigan/e6da322f0f7e7dcf3f1900a9229a7e69/tts_hifigan.nemo.\n"
          ]
        }
      ],
      "source": [
        "# Instantiate pre-trained Nemo model\n",
        "# Load audio_sample and convert it to text with QuartzNet ASR model. \n",
        "# To convert text back to audio, we actually need to generate spectrogram with FastPitch first and then convert it to actual audio signal using the HiFiGAN vocoder.\n",
        "\n",
        "# Speech Recognition model - QuartzNet\n",
        "quartznet = nemo_asr.models.EncDecCTCModel.from_pretrained(model_name=\"stt_en_quartznet15x5\").cuda()\n",
        "\n",
        "# Punctuation and capitalization model\n",
        "punctuation = nemo_nlp.models.PunctuationCapitalizationModel.from_pretrained(model_name='punctuation_en_distilbert').cuda()\n",
        "\n",
        "# Spectrogram generator which takes text as an input and produces spectrogram\n",
        "spectrogram_generator = nemo_tts.models.FastPitchModel.from_pretrained(model_name=\"tts_en_fastpitch\").cuda()\n",
        "\n",
        "# Vocoder model which takes spectrogram and produces actual audio\n",
        "vocoder = nemo_tts.models.HifiGanModel.from_pretrained(model_name=\"tts_hifigan\").cuda()"
      ]
    },
    {
      "cell_type": "code",
      "execution_count": 20,
      "metadata": {
        "id": "cZrv8nT9k4ac",
        "outputId": "f54b5c7d-67e5-42b9-c996-db3bfa668f5d",
        "colab": {
          "base_uri": "https://localhost:8080/",
          "height": 265,
          "referenced_widgets": [
            "cbbd64183397423fa0f6f526a6810585",
            "f57fe8cc699542a192bbc79a4c66f5e2",
            "f15fea2fc3bc4d8798b1c46a92fa2a99",
            "d8be7f0977c842d4a563e6b6a5902b97",
            "5def6adfbc4d4180beba9f1246c7d189",
            "739b29fa1a8f41b9ba5948c40d53c231",
            "3f0a436d9d25404c868a904cf629e5a4",
            "b16417ab0dbe4360a88e24a01280ce9a",
            "998f0f337d9a468987ec79fedfc2f654",
            "09b5de94bb2442aea2d4ca5de5747d83",
            "cbf132b7151e4820b72aab94026376a3"
          ]
        }
      },
      "outputs": [
        {
          "output_type": "display_data",
          "data": {
            "text/plain": [
              "Transcribing:   0%|          | 0/1 [00:00<?, ?it/s]"
            ],
            "application/vnd.jupyter.widget-view+json": {
              "version_major": 2,
              "version_minor": 0,
              "model_id": "cbbd64183397423fa0f6f526a6810585"
            }
          },
          "metadata": {}
        },
        {
          "output_type": "stream",
          "name": "stderr",
          "text": [
            "[NeMo E 2023-02-04 22:50:48 segment:184] Loading bada-bing.wav via SoundFile raised RuntimeError: `Error opening 'bada-bing.wav': Error in WAV/W64/RF64 file. Malformed 'fmt ' chunk.`. NeMo will fallback to loading via pydub.\n"
          ]
        },
        {
          "output_type": "stream",
          "name": "stdout",
          "text": [
            "[NeMo I 2023-02-04 22:50:57 punctuation_capitalization_model:1135] Using batch size 1 for inference\n",
            "[NeMo I 2023-02-04 22:50:57 punctuation_capitalization_infer_dataset:91] Max length: 64\n",
            "[NeMo I 2023-02-04 22:50:57 data_preprocessing:404] Some stats of the lengths of the sequences:\n",
            "[NeMo I 2023-02-04 22:50:57 data_preprocessing:406] Min: 86 |                  Max: 86 |                  Mean: 86.0 |                  Median: 86.0\n",
            "[NeMo I 2023-02-04 22:50:57 data_preprocessing:412] 75 percentile: 86.00\n",
            "[NeMo I 2023-02-04 22:50:57 data_preprocessing:413] 99 percentile: 86.00\n"
          ]
        },
        {
          "output_type": "stream",
          "name": "stderr",
          "text": [
            "100%|██████████| 4/4 [00:00<00:00, 46.37batch/s]"
          ]
        },
        {
          "output_type": "stream",
          "name": "stdout",
          "text": [
            "\n",
            "Raw recognized text: what are you gonna do nice college boy yeah they wantnto get mixed up in a family business now you wanna goin down te police captain one cauze you slap you her face a little bit i what do you think is ust the army whele you shoot them a mile away you gotta get them closhe like this bet bing you blow their brains all over your nights come in  you're thaking thisv person. \n",
            "Text with capitalization and punctuation: What are you gonna do? nice? college boy? Yeah, they wantnto get mixed up in a family business. Now you wanna goin down Te police. Captain One cauze. You slap you her face a little bit. I. what do you think is Ust the army whele? You shoot them a mile away. You gotta get them closhe like this bet Bing you blow their brains all over your nights. Come in, You're thaking thisv person.\n"
          ]
        },
        {
          "output_type": "stream",
          "name": "stderr",
          "text": [
            "\n"
          ]
        }
      ],
      "source": [
        "# Convert audio sample to text\n",
        "files = [Audio_sample]\n",
        "raw_text = ''\n",
        "text = ''\n",
        "for fname, transcription in zip(files, quartznet.transcribe(paths2audio_files=files)):\n",
        "  raw_text = transcription\n",
        "\n",
        "# Add capitalization and punctuation\n",
        "res = punctuation.add_punctuation_capitalization(queries=[raw_text])\n",
        "text = res[0]\n",
        "print(f'\\nRaw recognized text: {raw_text}. \\nText with capitalization and punctuation: {text}')\n",
        "\n"
      ]
    },
    {
      "cell_type": "code",
      "execution_count": 22,
      "metadata": {
        "id": "eqH14wKSk4ae",
        "outputId": "0ae40bc4-b865-4e5e-a641-9c9585dd74e2",
        "colab": {
          "base_uri": "https://localhost:8080/"
        }
      },
      "outputs": [
        {
          "output_type": "stream",
          "name": "stdout",
          "text": [
            "what are you gonna do nice college boy yeah they wantnto get mixed up in a family business now you wanna goin down te police captain one cauze you slap you her face a little bit i what do you think is ust the army whele you shoot them a mile away you gotta get them closhe like this bet bing you blow their brains all over your nights come in  you're thaking thisv person\n"
          ]
        }
      ],
      "source": [
        "# Results\n",
        "\n",
        "# Original audio sample\n",
        "IPython.display.Audio(Audio_sample)\n",
        "\n",
        "# This is what was recognized by the ASR model\n",
        "print(raw_text)\n"
      ]
    },
    {
      "cell_type": "markdown",
      "metadata": {
        "id": "NWDdAi_sk4af"
      },
      "source": [
        "# Next steps\n",
        "\n",
        "A demo like this is great for prototyping and experimentation. However, for real production deployment, NVIDIA Riva is recommended, based on Pytorch https://docs.nvidia.com/deeplearning/riva/user-guide/docs/model-overview.html\n",
        "\n",
        "NeMo GitHub for more examples: https://github.com/NVIDIA/NeMo"
      ]
    },
    {
      "cell_type": "code",
      "execution_count": null,
      "metadata": {
        "id": "IursEOvNk4ag"
      },
      "outputs": [],
      "source": []
    }
  ],
  "metadata": {
    "kernelspec": {
      "display_name": "Python 3",
      "language": "python",
      "name": "python3"
    },
    "language_info": {
      "codemirror_mode": {
        "name": "ipython",
        "version": 3
      },
      "file_extension": ".py",
      "mimetype": "text/x-python",
      "name": "python",
      "nbconvert_exporter": "python",
      "pygments_lexer": "ipython3",
      "version": "3.7.4"
    },
    "colab": {
      "provenance": []
    },
    "accelerator": "GPU",
    "gpuClass": "standard",
    "widgets": {
      "application/vnd.jupyter.widget-state+json": {
        "cbbd64183397423fa0f6f526a6810585": {
          "model_module": "@jupyter-widgets/controls",
          "model_name": "HBoxModel",
          "model_module_version": "1.5.0",
          "state": {
            "_dom_classes": [],
            "_model_module": "@jupyter-widgets/controls",
            "_model_module_version": "1.5.0",
            "_model_name": "HBoxModel",
            "_view_count": null,
            "_view_module": "@jupyter-widgets/controls",
            "_view_module_version": "1.5.0",
            "_view_name": "HBoxView",
            "box_style": "",
            "children": [
              "IPY_MODEL_f57fe8cc699542a192bbc79a4c66f5e2",
              "IPY_MODEL_f15fea2fc3bc4d8798b1c46a92fa2a99",
              "IPY_MODEL_d8be7f0977c842d4a563e6b6a5902b97"
            ],
            "layout": "IPY_MODEL_5def6adfbc4d4180beba9f1246c7d189"
          }
        },
        "f57fe8cc699542a192bbc79a4c66f5e2": {
          "model_module": "@jupyter-widgets/controls",
          "model_name": "HTMLModel",
          "model_module_version": "1.5.0",
          "state": {
            "_dom_classes": [],
            "_model_module": "@jupyter-widgets/controls",
            "_model_module_version": "1.5.0",
            "_model_name": "HTMLModel",
            "_view_count": null,
            "_view_module": "@jupyter-widgets/controls",
            "_view_module_version": "1.5.0",
            "_view_name": "HTMLView",
            "description": "",
            "description_tooltip": null,
            "layout": "IPY_MODEL_739b29fa1a8f41b9ba5948c40d53c231",
            "placeholder": "​",
            "style": "IPY_MODEL_3f0a436d9d25404c868a904cf629e5a4",
            "value": "Transcribing: 100%"
          }
        },
        "f15fea2fc3bc4d8798b1c46a92fa2a99": {
          "model_module": "@jupyter-widgets/controls",
          "model_name": "FloatProgressModel",
          "model_module_version": "1.5.0",
          "state": {
            "_dom_classes": [],
            "_model_module": "@jupyter-widgets/controls",
            "_model_module_version": "1.5.0",
            "_model_name": "FloatProgressModel",
            "_view_count": null,
            "_view_module": "@jupyter-widgets/controls",
            "_view_module_version": "1.5.0",
            "_view_name": "ProgressView",
            "bar_style": "success",
            "description": "",
            "description_tooltip": null,
            "layout": "IPY_MODEL_b16417ab0dbe4360a88e24a01280ce9a",
            "max": 1,
            "min": 0,
            "orientation": "horizontal",
            "style": "IPY_MODEL_998f0f337d9a468987ec79fedfc2f654",
            "value": 1
          }
        },
        "d8be7f0977c842d4a563e6b6a5902b97": {
          "model_module": "@jupyter-widgets/controls",
          "model_name": "HTMLModel",
          "model_module_version": "1.5.0",
          "state": {
            "_dom_classes": [],
            "_model_module": "@jupyter-widgets/controls",
            "_model_module_version": "1.5.0",
            "_model_name": "HTMLModel",
            "_view_count": null,
            "_view_module": "@jupyter-widgets/controls",
            "_view_module_version": "1.5.0",
            "_view_name": "HTMLView",
            "description": "",
            "description_tooltip": null,
            "layout": "IPY_MODEL_09b5de94bb2442aea2d4ca5de5747d83",
            "placeholder": "​",
            "style": "IPY_MODEL_cbf132b7151e4820b72aab94026376a3",
            "value": " 1/1 [00:09&lt;00:00,  9.50s/it]"
          }
        },
        "5def6adfbc4d4180beba9f1246c7d189": {
          "model_module": "@jupyter-widgets/base",
          "model_name": "LayoutModel",
          "model_module_version": "1.2.0",
          "state": {
            "_model_module": "@jupyter-widgets/base",
            "_model_module_version": "1.2.0",
            "_model_name": "LayoutModel",
            "_view_count": null,
            "_view_module": "@jupyter-widgets/base",
            "_view_module_version": "1.2.0",
            "_view_name": "LayoutView",
            "align_content": null,
            "align_items": null,
            "align_self": null,
            "border": null,
            "bottom": null,
            "display": null,
            "flex": null,
            "flex_flow": null,
            "grid_area": null,
            "grid_auto_columns": null,
            "grid_auto_flow": null,
            "grid_auto_rows": null,
            "grid_column": null,
            "grid_gap": null,
            "grid_row": null,
            "grid_template_areas": null,
            "grid_template_columns": null,
            "grid_template_rows": null,
            "height": null,
            "justify_content": null,
            "justify_items": null,
            "left": null,
            "margin": null,
            "max_height": null,
            "max_width": null,
            "min_height": null,
            "min_width": null,
            "object_fit": null,
            "object_position": null,
            "order": null,
            "overflow": null,
            "overflow_x": null,
            "overflow_y": null,
            "padding": null,
            "right": null,
            "top": null,
            "visibility": null,
            "width": null
          }
        },
        "739b29fa1a8f41b9ba5948c40d53c231": {
          "model_module": "@jupyter-widgets/base",
          "model_name": "LayoutModel",
          "model_module_version": "1.2.0",
          "state": {
            "_model_module": "@jupyter-widgets/base",
            "_model_module_version": "1.2.0",
            "_model_name": "LayoutModel",
            "_view_count": null,
            "_view_module": "@jupyter-widgets/base",
            "_view_module_version": "1.2.0",
            "_view_name": "LayoutView",
            "align_content": null,
            "align_items": null,
            "align_self": null,
            "border": null,
            "bottom": null,
            "display": null,
            "flex": null,
            "flex_flow": null,
            "grid_area": null,
            "grid_auto_columns": null,
            "grid_auto_flow": null,
            "grid_auto_rows": null,
            "grid_column": null,
            "grid_gap": null,
            "grid_row": null,
            "grid_template_areas": null,
            "grid_template_columns": null,
            "grid_template_rows": null,
            "height": null,
            "justify_content": null,
            "justify_items": null,
            "left": null,
            "margin": null,
            "max_height": null,
            "max_width": null,
            "min_height": null,
            "min_width": null,
            "object_fit": null,
            "object_position": null,
            "order": null,
            "overflow": null,
            "overflow_x": null,
            "overflow_y": null,
            "padding": null,
            "right": null,
            "top": null,
            "visibility": null,
            "width": null
          }
        },
        "3f0a436d9d25404c868a904cf629e5a4": {
          "model_module": "@jupyter-widgets/controls",
          "model_name": "DescriptionStyleModel",
          "model_module_version": "1.5.0",
          "state": {
            "_model_module": "@jupyter-widgets/controls",
            "_model_module_version": "1.5.0",
            "_model_name": "DescriptionStyleModel",
            "_view_count": null,
            "_view_module": "@jupyter-widgets/base",
            "_view_module_version": "1.2.0",
            "_view_name": "StyleView",
            "description_width": ""
          }
        },
        "b16417ab0dbe4360a88e24a01280ce9a": {
          "model_module": "@jupyter-widgets/base",
          "model_name": "LayoutModel",
          "model_module_version": "1.2.0",
          "state": {
            "_model_module": "@jupyter-widgets/base",
            "_model_module_version": "1.2.0",
            "_model_name": "LayoutModel",
            "_view_count": null,
            "_view_module": "@jupyter-widgets/base",
            "_view_module_version": "1.2.0",
            "_view_name": "LayoutView",
            "align_content": null,
            "align_items": null,
            "align_self": null,
            "border": null,
            "bottom": null,
            "display": null,
            "flex": null,
            "flex_flow": null,
            "grid_area": null,
            "grid_auto_columns": null,
            "grid_auto_flow": null,
            "grid_auto_rows": null,
            "grid_column": null,
            "grid_gap": null,
            "grid_row": null,
            "grid_template_areas": null,
            "grid_template_columns": null,
            "grid_template_rows": null,
            "height": null,
            "justify_content": null,
            "justify_items": null,
            "left": null,
            "margin": null,
            "max_height": null,
            "max_width": null,
            "min_height": null,
            "min_width": null,
            "object_fit": null,
            "object_position": null,
            "order": null,
            "overflow": null,
            "overflow_x": null,
            "overflow_y": null,
            "padding": null,
            "right": null,
            "top": null,
            "visibility": null,
            "width": null
          }
        },
        "998f0f337d9a468987ec79fedfc2f654": {
          "model_module": "@jupyter-widgets/controls",
          "model_name": "ProgressStyleModel",
          "model_module_version": "1.5.0",
          "state": {
            "_model_module": "@jupyter-widgets/controls",
            "_model_module_version": "1.5.0",
            "_model_name": "ProgressStyleModel",
            "_view_count": null,
            "_view_module": "@jupyter-widgets/base",
            "_view_module_version": "1.2.0",
            "_view_name": "StyleView",
            "bar_color": null,
            "description_width": ""
          }
        },
        "09b5de94bb2442aea2d4ca5de5747d83": {
          "model_module": "@jupyter-widgets/base",
          "model_name": "LayoutModel",
          "model_module_version": "1.2.0",
          "state": {
            "_model_module": "@jupyter-widgets/base",
            "_model_module_version": "1.2.0",
            "_model_name": "LayoutModel",
            "_view_count": null,
            "_view_module": "@jupyter-widgets/base",
            "_view_module_version": "1.2.0",
            "_view_name": "LayoutView",
            "align_content": null,
            "align_items": null,
            "align_self": null,
            "border": null,
            "bottom": null,
            "display": null,
            "flex": null,
            "flex_flow": null,
            "grid_area": null,
            "grid_auto_columns": null,
            "grid_auto_flow": null,
            "grid_auto_rows": null,
            "grid_column": null,
            "grid_gap": null,
            "grid_row": null,
            "grid_template_areas": null,
            "grid_template_columns": null,
            "grid_template_rows": null,
            "height": null,
            "justify_content": null,
            "justify_items": null,
            "left": null,
            "margin": null,
            "max_height": null,
            "max_width": null,
            "min_height": null,
            "min_width": null,
            "object_fit": null,
            "object_position": null,
            "order": null,
            "overflow": null,
            "overflow_x": null,
            "overflow_y": null,
            "padding": null,
            "right": null,
            "top": null,
            "visibility": null,
            "width": null
          }
        },
        "cbf132b7151e4820b72aab94026376a3": {
          "model_module": "@jupyter-widgets/controls",
          "model_name": "DescriptionStyleModel",
          "model_module_version": "1.5.0",
          "state": {
            "_model_module": "@jupyter-widgets/controls",
            "_model_module_version": "1.5.0",
            "_model_name": "DescriptionStyleModel",
            "_view_count": null,
            "_view_module": "@jupyter-widgets/base",
            "_view_module_version": "1.2.0",
            "_view_name": "StyleView",
            "description_width": ""
          }
        }
      }
    }
  },
  "nbformat": 4,
  "nbformat_minor": 0
}