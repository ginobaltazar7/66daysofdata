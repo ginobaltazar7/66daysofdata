{
  "cells": [
    {
      "cell_type": "markdown",
      "metadata": {
        "id": "uTRYJeNn19nD"
      },
      "source": [
        "# Cross Validation\n",
        "\n",
        "Date May 12, 2018 \n",
        "\n",
        "Updated December 2021\n",
        "\n",
        "Cross Validation mechanics - a statistical method of evaluating and comparing regression and other learning algorithms by dividing data into complementary segments: at least one used to learn or train a model and another used to validate the model. \n",
        "\n",
        "In typical cross-validation, the training and validation sets must cross over in successive rounds such that each data point has a chance of being validated against.\n",
        "\n",
        "Cross-validation can be applied in three contexts: performance estimation, model selection, and tuning learning model parameters - a type of monitoring technique then, of machine learning models.\n",
        "\n",
        "Pointers and Tips\n",
        " - Train the model for each split\n",
        " - Average the scores\n",
        " - Train model on all the data\n",
        " - Establishes a lower bound score\n",
        " - Important to have a baseline\n",
        "\n",
        "Read more --> http://leitang.net/papers/ency-cross-validation.pdf \n",
        "\n",
        "Nearest Neighbor --> http://scikit-learn.org/stable/modules/neighbors.html#nearest-neighbor-algorithms\n",
        "\n",
        "\n",
        "![cv.gif](https://github.com/ginobaltazar7/66daysofdata/blob/master/CrossValidation/images/cv.gif?raw=1)\n",
        "\n"
      ]
    },
    {
      "cell_type": "code",
      "execution_count": 142,
      "metadata": {
        "id": "ZrdQtaSd19nK"
      },
      "outputs": [],
      "source": [
        "import numpy as np\n",
        "import pandas as pd\n",
        "dc_listings = pd.read_csv(\"https://raw.githubusercontent.com/ginobaltazar7/66daysofdata/master/CrossValidation/dc_airbnb.csv\")"
      ]
    },
    {
      "cell_type": "markdown",
      "source": [
        "# Problem Definition\n",
        "Which features of a listing that make an Airbnb listing more expensive?\n",
        "\n",
        "Visualize initial data patterns, to help isolate which features."
      ],
      "metadata": {
        "id": "m43dJxr28rzv"
      }
    },
    {
      "cell_type": "code",
      "source": [
        "dc_listings.columns"
      ],
      "metadata": {
        "colab": {
          "base_uri": "https://localhost:8080/"
        },
        "id": "i0zOccFp8UBJ",
        "outputId": "38203500-9d02-4660-a220-f6a63c6ffce9"
      },
      "execution_count": 143,
      "outputs": [
        {
          "output_type": "execute_result",
          "data": {
            "text/plain": [
              "Index(['host_response_rate', 'host_acceptance_rate', 'host_listings_count',\n",
              "       'accommodates', 'room_type', 'bedrooms', 'bathrooms', 'beds', 'price',\n",
              "       'cleaning_fee', 'security_deposit', 'minimum_nights', 'maximum_nights',\n",
              "       'number_of_reviews', 'latitude', 'longitude', 'city', 'zipcode',\n",
              "       'state'],\n",
              "      dtype='object')"
            ]
          },
          "metadata": {},
          "execution_count": 143
        }
      ]
    },
    {
      "cell_type": "code",
      "source": [
        "dc_listings.shape"
      ],
      "metadata": {
        "colab": {
          "base_uri": "https://localhost:8080/"
        },
        "id": "hjGuB5kY8MpY",
        "outputId": "d10c745a-3b7c-41a3-9e01-a24f478dfd8a"
      },
      "execution_count": 63,
      "outputs": [
        {
          "output_type": "execute_result",
          "data": {
            "text/plain": [
              "(3723, 19)"
            ]
          },
          "metadata": {},
          "execution_count": 63
        }
      ]
    },
    {
      "cell_type": "code",
      "source": [
        "dc_listings.dtypes"
      ],
      "metadata": {
        "colab": {
          "base_uri": "https://localhost:8080/"
        },
        "id": "wG4dRLEs_irp",
        "outputId": "858cb1c3-3183-4152-d415-c9f1b61c0363"
      },
      "execution_count": 64,
      "outputs": [
        {
          "output_type": "execute_result",
          "data": {
            "text/plain": [
              "host_response_rate       object\n",
              "host_acceptance_rate     object\n",
              "host_listings_count       int64\n",
              "accommodates              int64\n",
              "room_type                object\n",
              "bedrooms                float64\n",
              "bathrooms               float64\n",
              "beds                    float64\n",
              "price                    object\n",
              "cleaning_fee             object\n",
              "security_deposit         object\n",
              "minimum_nights            int64\n",
              "maximum_nights            int64\n",
              "number_of_reviews         int64\n",
              "latitude                float64\n",
              "longitude               float64\n",
              "city                     object\n",
              "zipcode                  object\n",
              "state                    object\n",
              "dtype: object"
            ]
          },
          "metadata": {},
          "execution_count": 64
        }
      ]
    },
    {
      "cell_type": "code",
      "source": [
        "# some cleanup - currency and price objects to int to numeric while scrubbing chars\n",
        "dc_listings['price'] = dc_listings['price'].str.replace(',','').str.replace('$','').astype('float').round()\n",
        "dc_listings['cleaning_fee'] = dc_listings['cleaning_fee'].str.replace(',','').str.replace('$','').astype('float').round()\n",
        "dc_listings['security_deposit'] = dc_listings['security_deposit'].str.replace(',','').str.replace('$','').astype('float').round()"
      ],
      "metadata": {
        "colab": {
          "base_uri": "https://localhost:8080/"
        },
        "id": "EoPyiWP6Dc6Y",
        "outputId": "818f6a6c-9be0-4d73-805e-5263e78aa1d0"
      },
      "execution_count": 144,
      "outputs": [
        {
          "output_type": "stream",
          "name": "stderr",
          "text": [
            "<ipython-input-144-d4945c4c64de>:2: FutureWarning: The default value of regex will change from True to False in a future version. In addition, single character regular expressions will *not* be treated as literal strings when regex=True.\n",
            "  dc_listings['price'] = dc_listings['price'].str.replace(',','').str.replace('$','').astype('float').round()\n",
            "<ipython-input-144-d4945c4c64de>:3: FutureWarning: The default value of regex will change from True to False in a future version. In addition, single character regular expressions will *not* be treated as literal strings when regex=True.\n",
            "  dc_listings['cleaning_fee'] = dc_listings['cleaning_fee'].str.replace(',','').str.replace('$','').astype('float').round()\n",
            "<ipython-input-144-d4945c4c64de>:4: FutureWarning: The default value of regex will change from True to False in a future version. In addition, single character regular expressions will *not* be treated as literal strings when regex=True.\n",
            "  dc_listings['security_deposit'] = dc_listings['security_deposit'].str.replace(',','').str.replace('$','').astype('float').round()\n"
          ]
        }
      ]
    },
    {
      "cell_type": "code",
      "source": [
        "dc_listings['host_response_rate'] = dc_listings['host_response_rate'].str.replace('%','').astype('float').round()\n",
        "dc_listings['host_acceptance_rate'] = dc_listings['host_acceptance_rate'].str.replace('%','').astype('float').round()"
      ],
      "metadata": {
        "id": "C6sr7yQeLwde"
      },
      "execution_count": 145,
      "outputs": []
    },
    {
      "cell_type": "code",
      "source": [
        "dc_listings['price']=dc_listings['price'].astype('int')\n",
        "dc_listings['cleaning_fee']=dc_listings['cleaning_fee'].fillna(0).astype('int')\n",
        "dc_listings['security_deposit']=dc_listings['security_deposit'].fillna(0).astype('int')"
      ],
      "metadata": {
        "id": "5c1S5D9NIhEH"
      },
      "execution_count": 146,
      "outputs": []
    },
    {
      "cell_type": "code",
      "source": [
        "dc_listings['host_response_rate']=dc_listings['host_response_rate'].fillna(0).astype('int')\n",
        "dc_listings['host_acceptance_rate']=dc_listings['host_acceptance_rate'].fillna(0).astype('int')"
      ],
      "metadata": {
        "id": "YzBBS4LDMMEf"
      },
      "execution_count": 147,
      "outputs": []
    },
    {
      "cell_type": "code",
      "source": [
        "dc_listings.dtypes"
      ],
      "metadata": {
        "colab": {
          "base_uri": "https://localhost:8080/"
        },
        "id": "ZdkTtmVXIbti",
        "outputId": "2332f02b-9bbd-46b7-d509-42ff35a74fab"
      },
      "execution_count": 92,
      "outputs": [
        {
          "output_type": "execute_result",
          "data": {
            "text/plain": [
              "host_response_rate        int64\n",
              "host_acceptance_rate      int64\n",
              "host_listings_count       int64\n",
              "accommodates              int64\n",
              "room_type                object\n",
              "bedrooms                float64\n",
              "bathrooms               float64\n",
              "beds                    float64\n",
              "price                     int64\n",
              "cleaning_fee              int64\n",
              "security_deposit          int64\n",
              "minimum_nights            int64\n",
              "maximum_nights            int64\n",
              "number_of_reviews         int64\n",
              "latitude                float64\n",
              "longitude               float64\n",
              "city                     object\n",
              "zipcode                  object\n",
              "state                    object\n",
              "dtype: object"
            ]
          },
          "metadata": {},
          "execution_count": 92
        }
      ]
    },
    {
      "cell_type": "code",
      "source": [
        "dc_listings.head()"
      ],
      "metadata": {
        "colab": {
          "base_uri": "https://localhost:8080/",
          "height": 357
        },
        "id": "rvdDkLd-Jo5D",
        "outputId": "d6720832-37ab-4184-eb2d-7e8454a55044"
      },
      "execution_count": 148,
      "outputs": [
        {
          "output_type": "execute_result",
          "data": {
            "text/plain": [
              "   host_response_rate  host_acceptance_rate  host_listings_count  \\\n",
              "0                  92                    91                   26   \n",
              "1                  90                   100                    1   \n",
              "2                  90                   100                    2   \n",
              "3                 100                     0                    1   \n",
              "4                  92                    67                    1   \n",
              "\n",
              "   accommodates        room_type  bedrooms  bathrooms  beds  price  \\\n",
              "0             4  Entire home/apt       1.0        1.0   2.0    160   \n",
              "1             6  Entire home/apt       3.0        3.0   3.0    350   \n",
              "2             1     Private room       1.0        2.0   1.0     50   \n",
              "3             2     Private room       1.0        1.0   1.0     95   \n",
              "4             4  Entire home/apt       1.0        1.0   1.0     50   \n",
              "\n",
              "   cleaning_fee  security_deposit  minimum_nights  maximum_nights  \\\n",
              "0           115               100               1            1125   \n",
              "1           100                 0               2              30   \n",
              "2             0                 0               2            1125   \n",
              "3             0                 0               1            1125   \n",
              "4            15               450               7            1125   \n",
              "\n",
              "   number_of_reviews   latitude  longitude           city zipcode state  \n",
              "0                  0  38.890046 -77.002808     Washington   20003    DC  \n",
              "1                 65  38.880413 -76.990485     Washington   20003    DC  \n",
              "2                  1  38.955291 -76.986006    Hyattsville   20782    MD  \n",
              "3                  0  38.872134 -77.019639     Washington   20024    DC  \n",
              "4                  0  38.996382 -77.041541  Silver Spring   20910    MD  "
            ],
            "text/html": [
              "\n",
              "  <div id=\"df-c4d37a18-33a5-4601-b9a0-de65d2972899\">\n",
              "    <div class=\"colab-df-container\">\n",
              "      <div>\n",
              "<style scoped>\n",
              "    .dataframe tbody tr th:only-of-type {\n",
              "        vertical-align: middle;\n",
              "    }\n",
              "\n",
              "    .dataframe tbody tr th {\n",
              "        vertical-align: top;\n",
              "    }\n",
              "\n",
              "    .dataframe thead th {\n",
              "        text-align: right;\n",
              "    }\n",
              "</style>\n",
              "<table border=\"1\" class=\"dataframe\">\n",
              "  <thead>\n",
              "    <tr style=\"text-align: right;\">\n",
              "      <th></th>\n",
              "      <th>host_response_rate</th>\n",
              "      <th>host_acceptance_rate</th>\n",
              "      <th>host_listings_count</th>\n",
              "      <th>accommodates</th>\n",
              "      <th>room_type</th>\n",
              "      <th>bedrooms</th>\n",
              "      <th>bathrooms</th>\n",
              "      <th>beds</th>\n",
              "      <th>price</th>\n",
              "      <th>cleaning_fee</th>\n",
              "      <th>security_deposit</th>\n",
              "      <th>minimum_nights</th>\n",
              "      <th>maximum_nights</th>\n",
              "      <th>number_of_reviews</th>\n",
              "      <th>latitude</th>\n",
              "      <th>longitude</th>\n",
              "      <th>city</th>\n",
              "      <th>zipcode</th>\n",
              "      <th>state</th>\n",
              "    </tr>\n",
              "  </thead>\n",
              "  <tbody>\n",
              "    <tr>\n",
              "      <th>0</th>\n",
              "      <td>92</td>\n",
              "      <td>91</td>\n",
              "      <td>26</td>\n",
              "      <td>4</td>\n",
              "      <td>Entire home/apt</td>\n",
              "      <td>1.0</td>\n",
              "      <td>1.0</td>\n",
              "      <td>2.0</td>\n",
              "      <td>160</td>\n",
              "      <td>115</td>\n",
              "      <td>100</td>\n",
              "      <td>1</td>\n",
              "      <td>1125</td>\n",
              "      <td>0</td>\n",
              "      <td>38.890046</td>\n",
              "      <td>-77.002808</td>\n",
              "      <td>Washington</td>\n",
              "      <td>20003</td>\n",
              "      <td>DC</td>\n",
              "    </tr>\n",
              "    <tr>\n",
              "      <th>1</th>\n",
              "      <td>90</td>\n",
              "      <td>100</td>\n",
              "      <td>1</td>\n",
              "      <td>6</td>\n",
              "      <td>Entire home/apt</td>\n",
              "      <td>3.0</td>\n",
              "      <td>3.0</td>\n",
              "      <td>3.0</td>\n",
              "      <td>350</td>\n",
              "      <td>100</td>\n",
              "      <td>0</td>\n",
              "      <td>2</td>\n",
              "      <td>30</td>\n",
              "      <td>65</td>\n",
              "      <td>38.880413</td>\n",
              "      <td>-76.990485</td>\n",
              "      <td>Washington</td>\n",
              "      <td>20003</td>\n",
              "      <td>DC</td>\n",
              "    </tr>\n",
              "    <tr>\n",
              "      <th>2</th>\n",
              "      <td>90</td>\n",
              "      <td>100</td>\n",
              "      <td>2</td>\n",
              "      <td>1</td>\n",
              "      <td>Private room</td>\n",
              "      <td>1.0</td>\n",
              "      <td>2.0</td>\n",
              "      <td>1.0</td>\n",
              "      <td>50</td>\n",
              "      <td>0</td>\n",
              "      <td>0</td>\n",
              "      <td>2</td>\n",
              "      <td>1125</td>\n",
              "      <td>1</td>\n",
              "      <td>38.955291</td>\n",
              "      <td>-76.986006</td>\n",
              "      <td>Hyattsville</td>\n",
              "      <td>20782</td>\n",
              "      <td>MD</td>\n",
              "    </tr>\n",
              "    <tr>\n",
              "      <th>3</th>\n",
              "      <td>100</td>\n",
              "      <td>0</td>\n",
              "      <td>1</td>\n",
              "      <td>2</td>\n",
              "      <td>Private room</td>\n",
              "      <td>1.0</td>\n",
              "      <td>1.0</td>\n",
              "      <td>1.0</td>\n",
              "      <td>95</td>\n",
              "      <td>0</td>\n",
              "      <td>0</td>\n",
              "      <td>1</td>\n",
              "      <td>1125</td>\n",
              "      <td>0</td>\n",
              "      <td>38.872134</td>\n",
              "      <td>-77.019639</td>\n",
              "      <td>Washington</td>\n",
              "      <td>20024</td>\n",
              "      <td>DC</td>\n",
              "    </tr>\n",
              "    <tr>\n",
              "      <th>4</th>\n",
              "      <td>92</td>\n",
              "      <td>67</td>\n",
              "      <td>1</td>\n",
              "      <td>4</td>\n",
              "      <td>Entire home/apt</td>\n",
              "      <td>1.0</td>\n",
              "      <td>1.0</td>\n",
              "      <td>1.0</td>\n",
              "      <td>50</td>\n",
              "      <td>15</td>\n",
              "      <td>450</td>\n",
              "      <td>7</td>\n",
              "      <td>1125</td>\n",
              "      <td>0</td>\n",
              "      <td>38.996382</td>\n",
              "      <td>-77.041541</td>\n",
              "      <td>Silver Spring</td>\n",
              "      <td>20910</td>\n",
              "      <td>MD</td>\n",
              "    </tr>\n",
              "  </tbody>\n",
              "</table>\n",
              "</div>\n",
              "      <button class=\"colab-df-convert\" onclick=\"convertToInteractive('df-c4d37a18-33a5-4601-b9a0-de65d2972899')\"\n",
              "              title=\"Convert this dataframe to an interactive table.\"\n",
              "              style=\"display:none;\">\n",
              "        \n",
              "  <svg xmlns=\"http://www.w3.org/2000/svg\" height=\"24px\"viewBox=\"0 0 24 24\"\n",
              "       width=\"24px\">\n",
              "    <path d=\"M0 0h24v24H0V0z\" fill=\"none\"/>\n",
              "    <path d=\"M18.56 5.44l.94 2.06.94-2.06 2.06-.94-2.06-.94-.94-2.06-.94 2.06-2.06.94zm-11 1L8.5 8.5l.94-2.06 2.06-.94-2.06-.94L8.5 2.5l-.94 2.06-2.06.94zm10 10l.94 2.06.94-2.06 2.06-.94-2.06-.94-.94-2.06-.94 2.06-2.06.94z\"/><path d=\"M17.41 7.96l-1.37-1.37c-.4-.4-.92-.59-1.43-.59-.52 0-1.04.2-1.43.59L10.3 9.45l-7.72 7.72c-.78.78-.78 2.05 0 2.83L4 21.41c.39.39.9.59 1.41.59.51 0 1.02-.2 1.41-.59l7.78-7.78 2.81-2.81c.8-.78.8-2.07 0-2.86zM5.41 20L4 18.59l7.72-7.72 1.47 1.35L5.41 20z\"/>\n",
              "  </svg>\n",
              "      </button>\n",
              "      \n",
              "  <style>\n",
              "    .colab-df-container {\n",
              "      display:flex;\n",
              "      flex-wrap:wrap;\n",
              "      gap: 12px;\n",
              "    }\n",
              "\n",
              "    .colab-df-convert {\n",
              "      background-color: #E8F0FE;\n",
              "      border: none;\n",
              "      border-radius: 50%;\n",
              "      cursor: pointer;\n",
              "      display: none;\n",
              "      fill: #1967D2;\n",
              "      height: 32px;\n",
              "      padding: 0 0 0 0;\n",
              "      width: 32px;\n",
              "    }\n",
              "\n",
              "    .colab-df-convert:hover {\n",
              "      background-color: #E2EBFA;\n",
              "      box-shadow: 0px 1px 2px rgba(60, 64, 67, 0.3), 0px 1px 3px 1px rgba(60, 64, 67, 0.15);\n",
              "      fill: #174EA6;\n",
              "    }\n",
              "\n",
              "    [theme=dark] .colab-df-convert {\n",
              "      background-color: #3B4455;\n",
              "      fill: #D2E3FC;\n",
              "    }\n",
              "\n",
              "    [theme=dark] .colab-df-convert:hover {\n",
              "      background-color: #434B5C;\n",
              "      box-shadow: 0px 1px 3px 1px rgba(0, 0, 0, 0.15);\n",
              "      filter: drop-shadow(0px 1px 2px rgba(0, 0, 0, 0.3));\n",
              "      fill: #FFFFFF;\n",
              "    }\n",
              "  </style>\n",
              "\n",
              "      <script>\n",
              "        const buttonEl =\n",
              "          document.querySelector('#df-c4d37a18-33a5-4601-b9a0-de65d2972899 button.colab-df-convert');\n",
              "        buttonEl.style.display =\n",
              "          google.colab.kernel.accessAllowed ? 'block' : 'none';\n",
              "\n",
              "        async function convertToInteractive(key) {\n",
              "          const element = document.querySelector('#df-c4d37a18-33a5-4601-b9a0-de65d2972899');\n",
              "          const dataTable =\n",
              "            await google.colab.kernel.invokeFunction('convertToInteractive',\n",
              "                                                     [key], {});\n",
              "          if (!dataTable) return;\n",
              "\n",
              "          const docLinkHtml = 'Like what you see? Visit the ' +\n",
              "            '<a target=\"_blank\" href=https://colab.research.google.com/notebooks/data_table.ipynb>data table notebook</a>'\n",
              "            + ' to learn more about interactive tables.';\n",
              "          element.innerHTML = '';\n",
              "          dataTable['output_type'] = 'display_data';\n",
              "          await google.colab.output.renderOutput(dataTable, element);\n",
              "          const docLink = document.createElement('div');\n",
              "          docLink.innerHTML = docLinkHtml;\n",
              "          element.appendChild(docLink);\n",
              "        }\n",
              "      </script>\n",
              "    </div>\n",
              "  </div>\n",
              "  "
            ]
          },
          "metadata": {},
          "execution_count": 148
        }
      ]
    },
    {
      "cell_type": "code",
      "source": [
        "dc_listings.columns\n",
        "dc_listings.shape\n"
      ],
      "metadata": {
        "colab": {
          "base_uri": "https://localhost:8080/"
        },
        "id": "qBPOh91V9waT",
        "outputId": "1a16129b-e85f-4ce2-e0ca-1b9b11619ebb"
      },
      "execution_count": 94,
      "outputs": [
        {
          "output_type": "execute_result",
          "data": {
            "text/plain": [
              "(3723, 19)"
            ]
          },
          "metadata": {},
          "execution_count": 94
        }
      ]
    },
    {
      "cell_type": "code",
      "source": [
        "import seaborn as sns\n",
        "sns.set_style('whitegrid')\n",
        "import matplotlib.pyplot as plt\n",
        "%matplotlib inline\n"
      ],
      "metadata": {
        "id": "bAsPJwGc940F"
      },
      "execution_count": 44,
      "outputs": []
    },
    {
      "cell_type": "code",
      "source": [
        "num_feats = ['host_listings_count','host_response_rate','host_acceptance_rate','accommodates', 'bedrooms', 'bathrooms', 'beds', 'price', 'minimum_nights', 'maximum_nights', 'number_of_reviews','cleaning_fee','security_deposit']\n",
        "colormap = plt.cm.RdBu\n",
        "plt.figure(figsize=(14,12))\n",
        "plt.title('Pearson Correlation of Features', y=1.05, size=15)\n",
        "sns.heatmap(dc_listings[num_feats].astype(float).corr(),linewidths=0.1,vmax=1.0, square=True, cmap=colormap, linecolor='white', annot=True)"
      ],
      "metadata": {
        "colab": {
          "base_uri": "https://localhost:8080/",
          "height": 839
        },
        "id": "m2kSZVPE-to6",
        "outputId": "8edf3fbe-36a9-4f63-ac7f-f8915e8afc0a"
      },
      "execution_count": 96,
      "outputs": [
        {
          "output_type": "execute_result",
          "data": {
            "text/plain": [
              "<matplotlib.axes._subplots.AxesSubplot at 0x7ff457804520>"
            ]
          },
          "metadata": {},
          "execution_count": 96
        },
        {
          "output_type": "display_data",
          "data": {
            "text/plain": [
              "<Figure size 1008x864 with 2 Axes>"
            ],
            "image/png": "[encoded data removed]"
          },
          "metadata": {
            "needs_background": "light"
          }
        }
      ]
    },
    {
      "cell_type": "markdown",
      "source": [
        "# Distribution by Bedrooms\n",
        "\n",
        "As the correlation chart also shows, there's definitely a relationship between bedrooms and price."
      ],
      "metadata": {
        "id": "Vm6D-v6xE3Ri"
      }
    },
    {
      "cell_type": "code",
      "source": [
        "plt.figure(figsize=(12,12))\n",
        "sns.boxplot(x='bedrooms', y='price', data=dc_listings[['bedrooms', 'price']])"
      ],
      "metadata": {
        "colab": {
          "base_uri": "https://localhost:8080/",
          "height": 732
        },
        "id": "Du9W35-hE7lK",
        "outputId": "5afbd9ad-e469-4a6c-e5ca-f6a22552b978"
      },
      "execution_count": 47,
      "outputs": [
        {
          "output_type": "execute_result",
          "data": {
            "text/plain": [
              "<matplotlib.axes._subplots.AxesSubplot at 0x7ff457a12c40>"
            ]
          },
          "metadata": {},
          "execution_count": 47
        },
        {
          "output_type": "display_data",
          "data": {
            "text/plain": [
              "<Figure size 864x864 with 1 Axes>"
            ],
            "image/png": "[encoded data removed]"
          },
          "metadata": {
            "needs_background": "light"
          }
        }
      ]
    },
    {
      "cell_type": "markdown",
      "source": [
        "# Distribution by Room Type\n",
        "\n",
        "Entire home/apt type properties have the most bedrooms."
      ],
      "metadata": {
        "id": "dRcIblV_B52p"
      }
    },
    {
      "cell_type": "code",
      "source": [
        "plt.figure(figsize=(12,12))\n",
        "sns.boxplot(x='room_type', y='bedrooms', data=dc_listings[['room_type', 'bedrooms']])"
      ],
      "metadata": {
        "colab": {
          "base_uri": "https://localhost:8080/",
          "height": 733
        },
        "id": "gN6vzk85-OjC",
        "outputId": "7fba54a0-8c20-41a1-de7c-c0ed3bf06757"
      },
      "execution_count": 50,
      "outputs": [
        {
          "output_type": "execute_result",
          "data": {
            "text/plain": [
              "<matplotlib.axes._subplots.AxesSubplot at 0x7ff457892fa0>"
            ]
          },
          "metadata": {},
          "execution_count": 50
        },
        {
          "output_type": "display_data",
          "data": {
            "text/plain": [
              "<Figure size 864x864 with 1 Axes>"
            ],
            "image/png": "[encoded data removed]"
          },
          "metadata": {
            "needs_background": "light"
          }
        }
      ]
    },
    {
      "cell_type": "code",
      "source": [
        "sns.catplot(x = \"room_type\", data = dc_listings, kind = \"count\", palette=\"Set2\")"
      ],
      "metadata": {
        "colab": {
          "base_uri": "https://localhost:8080/",
          "height": 387
        },
        "id": "8eKxIBVDBkXd",
        "outputId": "d74b21de-3c6a-4367-92b8-0bfaf7141f6c"
      },
      "execution_count": 46,
      "outputs": [
        {
          "output_type": "execute_result",
          "data": {
            "text/plain": [
              "<seaborn.axisgrid.FacetGrid at 0x7ff46ef26190>"
            ]
          },
          "metadata": {},
          "execution_count": 46
        },
        {
          "output_type": "display_data",
          "data": {
            "text/plain": [
              "<Figure size 360x360 with 1 Axes>"
            ],
            "image/png": "[encoded data removed]"
          },
          "metadata": {
            "needs_background": "light"
          }
        }
      ]
    },
    {
      "cell_type": "code",
      "source": [
        "print(\"Number of bedrooms :\", len(dc_listings[\"bedrooms\"].unique()))\n",
        "print()\n",
        "print(\"Bedrooms|Listings\")\n",
        "# Number of listings of each room type\n",
        "print(dc_listings[\"bedrooms\"].value_counts())"
      ],
      "metadata": {
        "colab": {
          "base_uri": "https://localhost:8080/"
        },
        "id": "5wxSMue4J5FE",
        "outputId": "91689a68-9d0b-499d-d5f6-1d6e35a82376"
      },
      "execution_count": 48,
      "outputs": [
        {
          "output_type": "stream",
          "name": "stdout",
          "text": [
            "Number of bedrooms : 10\n",
            "\n",
            "Bedrooms|Listings\n",
            "1.0     2533\n",
            "2.0      511\n",
            "0.0      392\n",
            "3.0      190\n",
            "4.0       44\n",
            "5.0       21\n",
            "6.0        8\n",
            "8.0        2\n",
            "10.0       1\n",
            "Name: bedrooms, dtype: int64\n"
          ]
        }
      ]
    },
    {
      "cell_type": "markdown",
      "source": [
        "# Distribution by Accommodations\n",
        "\n",
        "As the correlation chart also shows, there's definitely also a relationship between 'accommodates' and price."
      ],
      "metadata": {
        "id": "vhPIGjaPK_Ho"
      }
    },
    {
      "cell_type": "code",
      "source": [
        "plt.figure(figsize=(12,12))\n",
        "sns.boxplot(x='accommodates', y='price', data=dc_listings[['accommodates', 'price']])"
      ],
      "metadata": {
        "colab": {
          "base_uri": "https://localhost:8080/",
          "height": 732
        },
        "id": "xtg7pyrx-t9E",
        "outputId": "fde880e7-cdc3-4cc9-c266-a4cc7e8f5644"
      },
      "execution_count": 51,
      "outputs": [
        {
          "output_type": "execute_result",
          "data": {
            "text/plain": [
              "<matplotlib.axes._subplots.AxesSubplot at 0x7ff45788bd90>"
            ]
          },
          "metadata": {},
          "execution_count": 51
        },
        {
          "output_type": "display_data",
          "data": {
            "text/plain": [
              "<Figure size 864x864 with 1 Axes>"
            ],
            "image/png": "[encoded data removed]"
          },
          "metadata": {
            "needs_background": "light"
          }
        }
      ]
    },
    {
      "cell_type": "code",
      "source": [
        "print(\"Number of accommodates :\", len(dc_listings[\"accommodates\"].unique()))\n",
        "print()\n",
        "print(\"Accomodates|Listings\")\n",
        "# Number of listings of each room type\n",
        "print(dc_listings[\"accommodates\"].value_counts())"
      ],
      "metadata": {
        "colab": {
          "base_uri": "https://localhost:8080/"
        },
        "id": "btg_PxS_-uDJ",
        "outputId": "2331a824-d87d-4e3a-c378-dc763621f8eb"
      },
      "execution_count": 52,
      "outputs": [
        {
          "output_type": "stream",
          "name": "stdout",
          "text": [
            "Number of accommodates : 16\n",
            "\n",
            "Accomodates|Listings\n",
            "2     1604\n",
            "4      690\n",
            "3      461\n",
            "1      342\n",
            "6      279\n",
            "5      161\n",
            "8       73\n",
            "7       35\n",
            "10      22\n",
            "9       17\n",
            "12      12\n",
            "16       8\n",
            "11       7\n",
            "15       6\n",
            "14       4\n",
            "13       2\n",
            "Name: accommodates, dtype: int64\n"
          ]
        }
      ]
    },
    {
      "cell_type": "markdown",
      "source": [
        "# Attempt to Model using XGBoost\n"
      ],
      "metadata": {
        "id": "OpLxJblEMYpS"
      }
    },
    {
      "cell_type": "code",
      "source": [
        "import time\n",
        "import xgboost as xgb\n",
        "from sklearn.metrics import *\n",
        "from sklearn.preprocessing import LabelEncoder\n",
        "from sklearn.preprocessing import OneHotEncoder\n",
        "from sklearn.model_selection import train_test_split\n",
        "from sklearn.preprocessing import StandardScaler\n",
        "from sklearn.cluster import KMeans  "
      ],
      "metadata": {
        "id": "F_iF3kNXNSEo"
      },
      "execution_count": 97,
      "outputs": []
    },
    {
      "cell_type": "code",
      "source": [
        "dc_listings.dtypes"
      ],
      "metadata": {
        "colab": {
          "base_uri": "https://localhost:8080/"
        },
        "id": "unzsWXClXECm",
        "outputId": "3fece33f-ab4c-47d9-e322-2bdfb75dddb8"
      },
      "execution_count": 149,
      "outputs": [
        {
          "output_type": "execute_result",
          "data": {
            "text/plain": [
              "host_response_rate        int64\n",
              "host_acceptance_rate      int64\n",
              "host_listings_count       int64\n",
              "accommodates              int64\n",
              "room_type                object\n",
              "bedrooms                float64\n",
              "bathrooms               float64\n",
              "beds                    float64\n",
              "price                     int64\n",
              "cleaning_fee              int64\n",
              "security_deposit          int64\n",
              "minimum_nights            int64\n",
              "maximum_nights            int64\n",
              "number_of_reviews         int64\n",
              "latitude                float64\n",
              "longitude               float64\n",
              "city                     object\n",
              "zipcode                  object\n",
              "state                    object\n",
              "dtype: object"
            ]
          },
          "metadata": {},
          "execution_count": 149
        }
      ]
    },
    {
      "cell_type": "code",
      "source": [
        "num_feats = ['room_type','host_listings_count','host_response_rate','host_acceptance_rate','accommodates', 'bedrooms', 'bathrooms', 'beds','price', 'minimum_nights', 'maximum_nights', 'number_of_reviews','cleaning_fee','security_deposit']"
      ],
      "metadata": {
        "id": "HYzY2tdOXKZw"
      },
      "execution_count": 150,
      "outputs": []
    },
    {
      "cell_type": "markdown",
      "source": [],
      "metadata": {
        "id": "FS2q93FuczHY"
      }
    },
    {
      "cell_type": "code",
      "source": [
        "dc_listings = dc_listings[num_feats].copy()"
      ],
      "metadata": {
        "id": "BL9sOJr9aoiF"
      },
      "execution_count": 151,
      "outputs": []
    },
    {
      "cell_type": "code",
      "source": [
        "dm_listings = pd.get_dummies(dc_listings, columns = ['room_type'])\n",
        "dm_listings"
      ],
      "metadata": {
        "colab": {
          "base_uri": "https://localhost:8080/",
          "height": 505
        },
        "id": "2mBuTuizXgSk",
        "outputId": "9e4169ed-0d89-4550-b43c-b6570811ddb5"
      },
      "execution_count": 152,
      "outputs": [
        {
          "output_type": "execute_result",
          "data": {
            "text/plain": [
              "      host_listings_count  host_response_rate  host_acceptance_rate  \\\n",
              "0                      26                  92                    91   \n",
              "1                       1                  90                   100   \n",
              "2                       2                  90                   100   \n",
              "3                       1                 100                     0   \n",
              "4                       1                  92                    67   \n",
              "...                   ...                 ...                   ...   \n",
              "3718                    1                 100                    60   \n",
              "3719                    1                 100                    50   \n",
              "3720                    2                 100                   100   \n",
              "3721                    1                  88                   100   \n",
              "3722                    1                  70                   100   \n",
              "\n",
              "      accommodates  bedrooms  bathrooms  beds  price  minimum_nights  \\\n",
              "0                4       1.0        1.0   2.0    160               1   \n",
              "1                6       3.0        3.0   3.0    350               2   \n",
              "2                1       1.0        2.0   1.0     50               2   \n",
              "3                2       1.0        1.0   1.0     95               1   \n",
              "4                4       1.0        1.0   1.0     50               7   \n",
              "...            ...       ...        ...   ...    ...             ...   \n",
              "3718             4       1.0        1.0   2.0    135               3   \n",
              "3719             2       1.0        2.0   1.0     79               3   \n",
              "3720             6       2.0        1.0   3.0    275               2   \n",
              "3721             2       1.0        1.0   1.0    179               2   \n",
              "3722             3       0.0        1.0   1.0    110               2   \n",
              "\n",
              "      maximum_nights  number_of_reviews  cleaning_fee  security_deposit  \\\n",
              "0               1125                  0           115               100   \n",
              "1                 30                 65           100                 0   \n",
              "2               1125                  1             0                 0   \n",
              "3               1125                  0             0                 0   \n",
              "4               1125                  0            15               450   \n",
              "...              ...                ...           ...               ...   \n",
              "3718              60                 19            45               400   \n",
              "3719             365                 36             0                 0   \n",
              "3720      2147483647                 12           100               500   \n",
              "3721              21                 48            25                 0   \n",
              "3722            1125                  1            40               200   \n",
              "\n",
              "      room_type_Entire home/apt  room_type_Private room  room_type_Shared room  \n",
              "0                             1                       0                      0  \n",
              "1                             1                       0                      0  \n",
              "2                             0                       1                      0  \n",
              "3                             0                       1                      0  \n",
              "4                             1                       0                      0  \n",
              "...                         ...                     ...                    ...  \n",
              "3718                          1                       0                      0  \n",
              "3719                          0                       1                      0  \n",
              "3720                          1                       0                      0  \n",
              "3721                          1                       0                      0  \n",
              "3722                          1                       0                      0  \n",
              "\n",
              "[3723 rows x 16 columns]"
            ],
            "text/html": [
              "\n",
              "  <div id=\"df-9ad5eafb-31eb-4a95-a51e-21c92331361a\">\n",
              "    <div class=\"colab-df-container\">\n",
              "      <div>\n",
              "<style scoped>\n",
              "    .dataframe tbody tr th:only-of-type {\n",
              "        vertical-align: middle;\n",
              "    }\n",
              "\n",
              "    .dataframe tbody tr th {\n",
              "        vertical-align: top;\n",
              "    }\n",
              "\n",
              "    .dataframe thead th {\n",
              "        text-align: right;\n",
              "    }\n",
              "</style>\n",
              "<table border=\"1\" class=\"dataframe\">\n",
              "  <thead>\n",
              "    <tr style=\"text-align: right;\">\n",
              "      <th></th>\n",
              "      <th>host_listings_count</th>\n",
              "      <th>host_response_rate</th>\n",
              "      <th>host_acceptance_rate</th>\n",
              "      <th>accommodates</th>\n",
              "      <th>bedrooms</th>\n",
              "      <th>bathrooms</th>\n",
              "      <th>beds</th>\n",
              "      <th>price</th>\n",
              "      <th>minimum_nights</th>\n",
              "      <th>maximum_nights</th>\n",
              "      <th>number_of_reviews</th>\n",
              "      <th>cleaning_fee</th>\n",
              "      <th>security_deposit</th>\n",
              "      <th>room_type_Entire home/apt</th>\n",
              "      <th>room_type_Private room</th>\n",
              "      <th>room_type_Shared room</th>\n",
              "    </tr>\n",
              "  </thead>\n",
              "  <tbody>\n",
              "    <tr>\n",
              "      <th>0</th>\n",
              "      <td>26</td>\n",
              "      <td>92</td>\n",
              "      <td>91</td>\n",
              "      <td>4</td>\n",
              "      <td>1.0</td>\n",
              "      <td>1.0</td>\n",
              "      <td>2.0</td>\n",
              "      <td>160</td>\n",
              "      <td>1</td>\n",
              "      <td>1125</td>\n",
              "      <td>0</td>\n",
              "      <td>115</td>\n",
              "      <td>100</td>\n",
              "      <td>1</td>\n",
              "      <td>0</td>\n",
              "      <td>0</td>\n",
              "    </tr>\n",
              "    <tr>\n",
              "      <th>1</th>\n",
              "      <td>1</td>\n",
              "      <td>90</td>\n",
              "      <td>100</td>\n",
              "      <td>6</td>\n",
              "      <td>3.0</td>\n",
              "      <td>3.0</td>\n",
              "      <td>3.0</td>\n",
              "      <td>350</td>\n",
              "      <td>2</td>\n",
              "      <td>30</td>\n",
              "      <td>65</td>\n",
              "      <td>100</td>\n",
              "      <td>0</td>\n",
              "      <td>1</td>\n",
              "      <td>0</td>\n",
              "      <td>0</td>\n",
              "    </tr>\n",
              "    <tr>\n",
              "      <th>2</th>\n",
              "      <td>2</td>\n",
              "      <td>90</td>\n",
              "      <td>100</td>\n",
              "      <td>1</td>\n",
              "      <td>1.0</td>\n",
              "      <td>2.0</td>\n",
              "      <td>1.0</td>\n",
              "      <td>50</td>\n",
              "      <td>2</td>\n",
              "      <td>1125</td>\n",
              "      <td>1</td>\n",
              "      <td>0</td>\n",
              "      <td>0</td>\n",
              "      <td>0</td>\n",
              "      <td>1</td>\n",
              "      <td>0</td>\n",
              "    </tr>\n",
              "    <tr>\n",
              "      <th>3</th>\n",
              "      <td>1</td>\n",
              "      <td>100</td>\n",
              "      <td>0</td>\n",
              "      <td>2</td>\n",
              "      <td>1.0</td>\n",
              "      <td>1.0</td>\n",
              "      <td>1.0</td>\n",
              "      <td>95</td>\n",
              "      <td>1</td>\n",
              "      <td>1125</td>\n",
              "      <td>0</td>\n",
              "      <td>0</td>\n",
              "      <td>0</td>\n",
              "      <td>0</td>\n",
              "      <td>1</td>\n",
              "      <td>0</td>\n",
              "    </tr>\n",
              "    <tr>\n",
              "      <th>4</th>\n",
              "      <td>1</td>\n",
              "      <td>92</td>\n",
              "      <td>67</td>\n",
              "      <td>4</td>\n",
              "      <td>1.0</td>\n",
              "      <td>1.0</td>\n",
              "      <td>1.0</td>\n",
              "      <td>50</td>\n",
              "      <td>7</td>\n",
              "      <td>1125</td>\n",
              "      <td>0</td>\n",
              "      <td>15</td>\n",
              "      <td>450</td>\n",
              "      <td>1</td>\n",
              "      <td>0</td>\n",
              "      <td>0</td>\n",
              "    </tr>\n",
              "    <tr>\n",
              "      <th>...</th>\n",
              "      <td>...</td>\n",
              "      <td>...</td>\n",
              "      <td>...</td>\n",
              "      <td>...</td>\n",
              "      <td>...</td>\n",
              "      <td>...</td>\n",
              "      <td>...</td>\n",
              "      <td>...</td>\n",
              "      <td>...</td>\n",
              "      <td>...</td>\n",
              "      <td>...</td>\n",
              "      <td>...</td>\n",
              "      <td>...</td>\n",
              "      <td>...</td>\n",
              "      <td>...</td>\n",
              "      <td>...</td>\n",
              "    </tr>\n",
              "    <tr>\n",
              "      <th>3718</th>\n",
              "      <td>1</td>\n",
              "      <td>100</td>\n",
              "      <td>60</td>\n",
              "      <td>4</td>\n",
              "      <td>1.0</td>\n",
              "      <td>1.0</td>\n",
              "      <td>2.0</td>\n",
              "      <td>135</td>\n",
              "      <td>3</td>\n",
              "      <td>60</td>\n",
              "      <td>19</td>\n",
              "      <td>45</td>\n",
              "      <td>400</td>\n",
              "      <td>1</td>\n",
              "      <td>0</td>\n",
              "      <td>0</td>\n",
              "    </tr>\n",
              "    <tr>\n",
              "      <th>3719</th>\n",
              "      <td>1</td>\n",
              "      <td>100</td>\n",
              "      <td>50</td>\n",
              "      <td>2</td>\n",
              "      <td>1.0</td>\n",
              "      <td>2.0</td>\n",
              "      <td>1.0</td>\n",
              "      <td>79</td>\n",
              "      <td>3</td>\n",
              "      <td>365</td>\n",
              "      <td>36</td>\n",
              "      <td>0</td>\n",
              "      <td>0</td>\n",
              "      <td>0</td>\n",
              "      <td>1</td>\n",
              "      <td>0</td>\n",
              "    </tr>\n",
              "    <tr>\n",
              "      <th>3720</th>\n",
              "      <td>2</td>\n",
              "      <td>100</td>\n",
              "      <td>100</td>\n",
              "      <td>6</td>\n",
              "      <td>2.0</td>\n",
              "      <td>1.0</td>\n",
              "      <td>3.0</td>\n",
              "      <td>275</td>\n",
              "      <td>2</td>\n",
              "      <td>2147483647</td>\n",
              "      <td>12</td>\n",
              "      <td>100</td>\n",
              "      <td>500</td>\n",
              "      <td>1</td>\n",
              "      <td>0</td>\n",
              "      <td>0</td>\n",
              "    </tr>\n",
              "    <tr>\n",
              "      <th>3721</th>\n",
              "      <td>1</td>\n",
              "      <td>88</td>\n",
              "      <td>100</td>\n",
              "      <td>2</td>\n",
              "      <td>1.0</td>\n",
              "      <td>1.0</td>\n",
              "      <td>1.0</td>\n",
              "      <td>179</td>\n",
              "      <td>2</td>\n",
              "      <td>21</td>\n",
              "      <td>48</td>\n",
              "      <td>25</td>\n",
              "      <td>0</td>\n",
              "      <td>1</td>\n",
              "      <td>0</td>\n",
              "      <td>0</td>\n",
              "    </tr>\n",
              "    <tr>\n",
              "      <th>3722</th>\n",
              "      <td>1</td>\n",
              "      <td>70</td>\n",
              "      <td>100</td>\n",
              "      <td>3</td>\n",
              "      <td>0.0</td>\n",
              "      <td>1.0</td>\n",
              "      <td>1.0</td>\n",
              "      <td>110</td>\n",
              "      <td>2</td>\n",
              "      <td>1125</td>\n",
              "      <td>1</td>\n",
              "      <td>40</td>\n",
              "      <td>200</td>\n",
              "      <td>1</td>\n",
              "      <td>0</td>\n",
              "      <td>0</td>\n",
              "    </tr>\n",
              "  </tbody>\n",
              "</table>\n",
              "<p>3723 rows × 16 columns</p>\n",
              "</div>\n",
              "      <button class=\"colab-df-convert\" onclick=\"convertToInteractive('df-9ad5eafb-31eb-4a95-a51e-21c92331361a')\"\n",
              "              title=\"Convert this dataframe to an interactive table.\"\n",
              "              style=\"display:none;\">\n",
              "        \n",
              "  <svg xmlns=\"http://www.w3.org/2000/svg\" height=\"24px\"viewBox=\"0 0 24 24\"\n",
              "       width=\"24px\">\n",
              "    <path d=\"M0 0h24v24H0V0z\" fill=\"none\"/>\n",
              "    <path d=\"M18.56 5.44l.94 2.06.94-2.06 2.06-.94-2.06-.94-.94-2.06-.94 2.06-2.06.94zm-11 1L8.5 8.5l.94-2.06 2.06-.94-2.06-.94L8.5 2.5l-.94 2.06-2.06.94zm10 10l.94 2.06.94-2.06 2.06-.94-2.06-.94-.94-2.06-.94 2.06-2.06.94z\"/><path d=\"M17.41 7.96l-1.37-1.37c-.4-.4-.92-.59-1.43-.59-.52 0-1.04.2-1.43.59L10.3 9.45l-7.72 7.72c-.78.78-.78 2.05 0 2.83L4 21.41c.39.39.9.59 1.41.59.51 0 1.02-.2 1.41-.59l7.78-7.78 2.81-2.81c.8-.78.8-2.07 0-2.86zM5.41 20L4 18.59l7.72-7.72 1.47 1.35L5.41 20z\"/>\n",
              "  </svg>\n",
              "      </button>\n",
              "      \n",
              "  <style>\n",
              "    .colab-df-container {\n",
              "      display:flex;\n",
              "      flex-wrap:wrap;\n",
              "      gap: 12px;\n",
              "    }\n",
              "\n",
              "    .colab-df-convert {\n",
              "      background-color: #E8F0FE;\n",
              "      border: none;\n",
              "      border-radius: 50%;\n",
              "      cursor: pointer;\n",
              "      display: none;\n",
              "      fill: #1967D2;\n",
              "      height: 32px;\n",
              "      padding: 0 0 0 0;\n",
              "      width: 32px;\n",
              "    }\n",
              "\n",
              "    .colab-df-convert:hover {\n",
              "      background-color: #E2EBFA;\n",
              "      box-shadow: 0px 1px 2px rgba(60, 64, 67, 0.3), 0px 1px 3px 1px rgba(60, 64, 67, 0.15);\n",
              "      fill: #174EA6;\n",
              "    }\n",
              "\n",
              "    [theme=dark] .colab-df-convert {\n",
              "      background-color: #3B4455;\n",
              "      fill: #D2E3FC;\n",
              "    }\n",
              "\n",
              "    [theme=dark] .colab-df-convert:hover {\n",
              "      background-color: #434B5C;\n",
              "      box-shadow: 0px 1px 3px 1px rgba(0, 0, 0, 0.15);\n",
              "      filter: drop-shadow(0px 1px 2px rgba(0, 0, 0, 0.3));\n",
              "      fill: #FFFFFF;\n",
              "    }\n",
              "  </style>\n",
              "\n",
              "      <script>\n",
              "        const buttonEl =\n",
              "          document.querySelector('#df-9ad5eafb-31eb-4a95-a51e-21c92331361a button.colab-df-convert');\n",
              "        buttonEl.style.display =\n",
              "          google.colab.kernel.accessAllowed ? 'block' : 'none';\n",
              "\n",
              "        async function convertToInteractive(key) {\n",
              "          const element = document.querySelector('#df-9ad5eafb-31eb-4a95-a51e-21c92331361a');\n",
              "          const dataTable =\n",
              "            await google.colab.kernel.invokeFunction('convertToInteractive',\n",
              "                                                     [key], {});\n",
              "          if (!dataTable) return;\n",
              "\n",
              "          const docLinkHtml = 'Like what you see? Visit the ' +\n",
              "            '<a target=\"_blank\" href=https://colab.research.google.com/notebooks/data_table.ipynb>data table notebook</a>'\n",
              "            + ' to learn more about interactive tables.';\n",
              "          element.innerHTML = '';\n",
              "          dataTable['output_type'] = 'display_data';\n",
              "          await google.colab.output.renderOutput(dataTable, element);\n",
              "          const docLink = document.createElement('div');\n",
              "          docLink.innerHTML = docLinkHtml;\n",
              "          element.appendChild(docLink);\n",
              "        }\n",
              "      </script>\n",
              "    </div>\n",
              "  </div>\n",
              "  "
            ]
          },
          "metadata": {},
          "execution_count": 152
        }
      ]
    },
    {
      "cell_type": "code",
      "source": [
        "\n",
        "X = dm_listings.loc[:, dm_listings.columns != 'price'] # predictors excluding price\n",
        "y = dc_listings.price.values                           # outcome variable price\n",
        "print(dc_listings.shape, X.shape, y.shape)"
      ],
      "metadata": {
        "colab": {
          "base_uri": "https://localhost:8080/"
        },
        "id": "ODVJMW4B-uJf",
        "outputId": "0c4402b3-4b53-4921-b577-2e3c06d3e308"
      },
      "execution_count": 166,
      "outputs": [
        {
          "output_type": "stream",
          "name": "stdout",
          "text": [
            "(3723, 14) (3723, 15) (3723,)\n"
          ]
        }
      ]
    },
    {
      "cell_type": "code",
      "source": [
        "X"
      ],
      "metadata": {
        "colab": {
          "base_uri": "https://localhost:8080/",
          "height": 505
        },
        "id": "Z-O5dJYDOAMV",
        "outputId": "bea0da05-8b7e-414d-fb75-728a315dea98"
      },
      "execution_count": 167,
      "outputs": [
        {
          "output_type": "execute_result",
          "data": {
            "text/plain": [
              "      host_listings_count  host_response_rate  host_acceptance_rate  \\\n",
              "0                      26                  92                    91   \n",
              "1                       1                  90                   100   \n",
              "2                       2                  90                   100   \n",
              "3                       1                 100                     0   \n",
              "4                       1                  92                    67   \n",
              "...                   ...                 ...                   ...   \n",
              "3718                    1                 100                    60   \n",
              "3719                    1                 100                    50   \n",
              "3720                    2                 100                   100   \n",
              "3721                    1                  88                   100   \n",
              "3722                    1                  70                   100   \n",
              "\n",
              "      accommodates  bedrooms  bathrooms  beds  minimum_nights  maximum_nights  \\\n",
              "0                4       1.0        1.0   2.0               1            1125   \n",
              "1                6       3.0        3.0   3.0               2              30   \n",
              "2                1       1.0        2.0   1.0               2            1125   \n",
              "3                2       1.0        1.0   1.0               1            1125   \n",
              "4                4       1.0        1.0   1.0               7            1125   \n",
              "...            ...       ...        ...   ...             ...             ...   \n",
              "3718             4       1.0        1.0   2.0               3              60   \n",
              "3719             2       1.0        2.0   1.0               3             365   \n",
              "3720             6       2.0        1.0   3.0               2      2147483647   \n",
              "3721             2       1.0        1.0   1.0               2              21   \n",
              "3722             3       0.0        1.0   1.0               2            1125   \n",
              "\n",
              "      number_of_reviews  cleaning_fee  security_deposit  \\\n",
              "0                     0           115               100   \n",
              "1                    65           100                 0   \n",
              "2                     1             0                 0   \n",
              "3                     0             0                 0   \n",
              "4                     0            15               450   \n",
              "...                 ...           ...               ...   \n",
              "3718                 19            45               400   \n",
              "3719                 36             0                 0   \n",
              "3720                 12           100               500   \n",
              "3721                 48            25                 0   \n",
              "3722                  1            40               200   \n",
              "\n",
              "      room_type_Entire home/apt  room_type_Private room  room_type_Shared room  \n",
              "0                             1                       0                      0  \n",
              "1                             1                       0                      0  \n",
              "2                             0                       1                      0  \n",
              "3                             0                       1                      0  \n",
              "4                             1                       0                      0  \n",
              "...                         ...                     ...                    ...  \n",
              "3718                          1                       0                      0  \n",
              "3719                          0                       1                      0  \n",
              "3720                          1                       0                      0  \n",
              "3721                          1                       0                      0  \n",
              "3722                          1                       0                      0  \n",
              "\n",
              "[3723 rows x 15 columns]"
            ],
            "text/html": [
              "\n",
              "  <div id=\"df-18af5099-dfc5-4d09-b83b-59e868ebbc54\">\n",
              "    <div class=\"colab-df-container\">\n",
              "      <div>\n",
              "<style scoped>\n",
              "    .dataframe tbody tr th:only-of-type {\n",
              "        vertical-align: middle;\n",
              "    }\n",
              "\n",
              "    .dataframe tbody tr th {\n",
              "        vertical-align: top;\n",
              "    }\n",
              "\n",
              "    .dataframe thead th {\n",
              "        text-align: right;\n",
              "    }\n",
              "</style>\n",
              "<table border=\"1\" class=\"dataframe\">\n",
              "  <thead>\n",
              "    <tr style=\"text-align: right;\">\n",
              "      <th></th>\n",
              "      <th>host_listings_count</th>\n",
              "      <th>host_response_rate</th>\n",
              "      <th>host_acceptance_rate</th>\n",
              "      <th>accommodates</th>\n",
              "      <th>bedrooms</th>\n",
              "      <th>bathrooms</th>\n",
              "      <th>beds</th>\n",
              "      <th>minimum_nights</th>\n",
              "      <th>maximum_nights</th>\n",
              "      <th>number_of_reviews</th>\n",
              "      <th>cleaning_fee</th>\n",
              "      <th>security_deposit</th>\n",
              "      <th>room_type_Entire home/apt</th>\n",
              "      <th>room_type_Private room</th>\n",
              "      <th>room_type_Shared room</th>\n",
              "    </tr>\n",
              "  </thead>\n",
              "  <tbody>\n",
              "    <tr>\n",
              "      <th>0</th>\n",
              "      <td>26</td>\n",
              "      <td>92</td>\n",
              "      <td>91</td>\n",
              "      <td>4</td>\n",
              "      <td>1.0</td>\n",
              "      <td>1.0</td>\n",
              "      <td>2.0</td>\n",
              "      <td>1</td>\n",
              "      <td>1125</td>\n",
              "      <td>0</td>\n",
              "      <td>115</td>\n",
              "      <td>100</td>\n",
              "      <td>1</td>\n",
              "      <td>0</td>\n",
              "      <td>0</td>\n",
              "    </tr>\n",
              "    <tr>\n",
              "      <th>1</th>\n",
              "      <td>1</td>\n",
              "      <td>90</td>\n",
              "      <td>100</td>\n",
              "      <td>6</td>\n",
              "      <td>3.0</td>\n",
              "      <td>3.0</td>\n",
              "      <td>3.0</td>\n",
              "      <td>2</td>\n",
              "      <td>30</td>\n",
              "      <td>65</td>\n",
              "      <td>100</td>\n",
              "      <td>0</td>\n",
              "      <td>1</td>\n",
              "      <td>0</td>\n",
              "      <td>0</td>\n",
              "    </tr>\n",
              "    <tr>\n",
              "      <th>2</th>\n",
              "      <td>2</td>\n",
              "      <td>90</td>\n",
              "      <td>100</td>\n",
              "      <td>1</td>\n",
              "      <td>1.0</td>\n",
              "      <td>2.0</td>\n",
              "      <td>1.0</td>\n",
              "      <td>2</td>\n",
              "      <td>1125</td>\n",
              "      <td>1</td>\n",
              "      <td>0</td>\n",
              "      <td>0</td>\n",
              "      <td>0</td>\n",
              "      <td>1</td>\n",
              "      <td>0</td>\n",
              "    </tr>\n",
              "    <tr>\n",
              "      <th>3</th>\n",
              "      <td>1</td>\n",
              "      <td>100</td>\n",
              "      <td>0</td>\n",
              "      <td>2</td>\n",
              "      <td>1.0</td>\n",
              "      <td>1.0</td>\n",
              "      <td>1.0</td>\n",
              "      <td>1</td>\n",
              "      <td>1125</td>\n",
              "      <td>0</td>\n",
              "      <td>0</td>\n",
              "      <td>0</td>\n",
              "      <td>0</td>\n",
              "      <td>1</td>\n",
              "      <td>0</td>\n",
              "    </tr>\n",
              "    <tr>\n",
              "      <th>4</th>\n",
              "      <td>1</td>\n",
              "      <td>92</td>\n",
              "      <td>67</td>\n",
              "      <td>4</td>\n",
              "      <td>1.0</td>\n",
              "      <td>1.0</td>\n",
              "      <td>1.0</td>\n",
              "      <td>7</td>\n",
              "      <td>1125</td>\n",
              "      <td>0</td>\n",
              "      <td>15</td>\n",
              "      <td>450</td>\n",
              "      <td>1</td>\n",
              "      <td>0</td>\n",
              "      <td>0</td>\n",
              "    </tr>\n",
              "    <tr>\n",
              "      <th>...</th>\n",
              "      <td>...</td>\n",
              "      <td>...</td>\n",
              "      <td>...</td>\n",
              "      <td>...</td>\n",
              "      <td>...</td>\n",
              "      <td>...</td>\n",
              "      <td>...</td>\n",
              "      <td>...</td>\n",
              "      <td>...</td>\n",
              "      <td>...</td>\n",
              "      <td>...</td>\n",
              "      <td>...</td>\n",
              "      <td>...</td>\n",
              "      <td>...</td>\n",
              "      <td>...</td>\n",
              "    </tr>\n",
              "    <tr>\n",
              "      <th>3718</th>\n",
              "      <td>1</td>\n",
              "      <td>100</td>\n",
              "      <td>60</td>\n",
              "      <td>4</td>\n",
              "      <td>1.0</td>\n",
              "      <td>1.0</td>\n",
              "      <td>2.0</td>\n",
              "      <td>3</td>\n",
              "      <td>60</td>\n",
              "      <td>19</td>\n",
              "      <td>45</td>\n",
              "      <td>400</td>\n",
              "      <td>1</td>\n",
              "      <td>0</td>\n",
              "      <td>0</td>\n",
              "    </tr>\n",
              "    <tr>\n",
              "      <th>3719</th>\n",
              "      <td>1</td>\n",
              "      <td>100</td>\n",
              "      <td>50</td>\n",
              "      <td>2</td>\n",
              "      <td>1.0</td>\n",
              "      <td>2.0</td>\n",
              "      <td>1.0</td>\n",
              "      <td>3</td>\n",
              "      <td>365</td>\n",
              "      <td>36</td>\n",
              "      <td>0</td>\n",
              "      <td>0</td>\n",
              "      <td>0</td>\n",
              "      <td>1</td>\n",
              "      <td>0</td>\n",
              "    </tr>\n",
              "    <tr>\n",
              "      <th>3720</th>\n",
              "      <td>2</td>\n",
              "      <td>100</td>\n",
              "      <td>100</td>\n",
              "      <td>6</td>\n",
              "      <td>2.0</td>\n",
              "      <td>1.0</td>\n",
              "      <td>3.0</td>\n",
              "      <td>2</td>\n",
              "      <td>2147483647</td>\n",
              "      <td>12</td>\n",
              "      <td>100</td>\n",
              "      <td>500</td>\n",
              "      <td>1</td>\n",
              "      <td>0</td>\n",
              "      <td>0</td>\n",
              "    </tr>\n",
              "    <tr>\n",
              "      <th>3721</th>\n",
              "      <td>1</td>\n",
              "      <td>88</td>\n",
              "      <td>100</td>\n",
              "      <td>2</td>\n",
              "      <td>1.0</td>\n",
              "      <td>1.0</td>\n",
              "      <td>1.0</td>\n",
              "      <td>2</td>\n",
              "      <td>21</td>\n",
              "      <td>48</td>\n",
              "      <td>25</td>\n",
              "      <td>0</td>\n",
              "      <td>1</td>\n",
              "      <td>0</td>\n",
              "      <td>0</td>\n",
              "    </tr>\n",
              "    <tr>\n",
              "      <th>3722</th>\n",
              "      <td>1</td>\n",
              "      <td>70</td>\n",
              "      <td>100</td>\n",
              "      <td>3</td>\n",
              "      <td>0.0</td>\n",
              "      <td>1.0</td>\n",
              "      <td>1.0</td>\n",
              "      <td>2</td>\n",
              "      <td>1125</td>\n",
              "      <td>1</td>\n",
              "      <td>40</td>\n",
              "      <td>200</td>\n",
              "      <td>1</td>\n",
              "      <td>0</td>\n",
              "      <td>0</td>\n",
              "    </tr>\n",
              "  </tbody>\n",
              "</table>\n",
              "<p>3723 rows × 15 columns</p>\n",
              "</div>\n",
              "      <button class=\"colab-df-convert\" onclick=\"convertToInteractive('df-18af5099-dfc5-4d09-b83b-59e868ebbc54')\"\n",
              "              title=\"Convert this dataframe to an interactive table.\"\n",
              "              style=\"display:none;\">\n",
              "        \n",
              "  <svg xmlns=\"http://www.w3.org/2000/svg\" height=\"24px\"viewBox=\"0 0 24 24\"\n",
              "       width=\"24px\">\n",
              "    <path d=\"M0 0h24v24H0V0z\" fill=\"none\"/>\n",
              "    <path d=\"M18.56 5.44l.94 2.06.94-2.06 2.06-.94-2.06-.94-.94-2.06-.94 2.06-2.06.94zm-11 1L8.5 8.5l.94-2.06 2.06-.94-2.06-.94L8.5 2.5l-.94 2.06-2.06.94zm10 10l.94 2.06.94-2.06 2.06-.94-2.06-.94-.94-2.06-.94 2.06-2.06.94z\"/><path d=\"M17.41 7.96l-1.37-1.37c-.4-.4-.92-.59-1.43-.59-.52 0-1.04.2-1.43.59L10.3 9.45l-7.72 7.72c-.78.78-.78 2.05 0 2.83L4 21.41c.39.39.9.59 1.41.59.51 0 1.02-.2 1.41-.59l7.78-7.78 2.81-2.81c.8-.78.8-2.07 0-2.86zM5.41 20L4 18.59l7.72-7.72 1.47 1.35L5.41 20z\"/>\n",
              "  </svg>\n",
              "      </button>\n",
              "      \n",
              "  <style>\n",
              "    .colab-df-container {\n",
              "      display:flex;\n",
              "      flex-wrap:wrap;\n",
              "      gap: 12px;\n",
              "    }\n",
              "\n",
              "    .colab-df-convert {\n",
              "      background-color: #E8F0FE;\n",
              "      border: none;\n",
              "      border-radius: 50%;\n",
              "      cursor: pointer;\n",
              "      display: none;\n",
              "      fill: #1967D2;\n",
              "      height: 32px;\n",
              "      padding: 0 0 0 0;\n",
              "      width: 32px;\n",
              "    }\n",
              "\n",
              "    .colab-df-convert:hover {\n",
              "      background-color: #E2EBFA;\n",
              "      box-shadow: 0px 1px 2px rgba(60, 64, 67, 0.3), 0px 1px 3px 1px rgba(60, 64, 67, 0.15);\n",
              "      fill: #174EA6;\n",
              "    }\n",
              "\n",
              "    [theme=dark] .colab-df-convert {\n",
              "      background-color: #3B4455;\n",
              "      fill: #D2E3FC;\n",
              "    }\n",
              "\n",
              "    [theme=dark] .colab-df-convert:hover {\n",
              "      background-color: #434B5C;\n",
              "      box-shadow: 0px 1px 3px 1px rgba(0, 0, 0, 0.15);\n",
              "      filter: drop-shadow(0px 1px 2px rgba(0, 0, 0, 0.3));\n",
              "      fill: #FFFFFF;\n",
              "    }\n",
              "  </style>\n",
              "\n",
              "      <script>\n",
              "        const buttonEl =\n",
              "          document.querySelector('#df-18af5099-dfc5-4d09-b83b-59e868ebbc54 button.colab-df-convert');\n",
              "        buttonEl.style.display =\n",
              "          google.colab.kernel.accessAllowed ? 'block' : 'none';\n",
              "\n",
              "        async function convertToInteractive(key) {\n",
              "          const element = document.querySelector('#df-18af5099-dfc5-4d09-b83b-59e868ebbc54');\n",
              "          const dataTable =\n",
              "            await google.colab.kernel.invokeFunction('convertToInteractive',\n",
              "                                                     [key], {});\n",
              "          if (!dataTable) return;\n",
              "\n",
              "          const docLinkHtml = 'Like what you see? Visit the ' +\n",
              "            '<a target=\"_blank\" href=https://colab.research.google.com/notebooks/data_table.ipynb>data table notebook</a>'\n",
              "            + ' to learn more about interactive tables.';\n",
              "          element.innerHTML = '';\n",
              "          dataTable['output_type'] = 'display_data';\n",
              "          await google.colab.output.renderOutput(dataTable, element);\n",
              "          const docLink = document.createElement('div');\n",
              "          docLink.innerHTML = docLinkHtml;\n",
              "          element.appendChild(docLink);\n",
              "        }\n",
              "      </script>\n",
              "    </div>\n",
              "  </div>\n",
              "  "
            ]
          },
          "metadata": {},
          "execution_count": 167
        }
      ]
    },
    {
      "cell_type": "code",
      "source": [
        "y"
      ],
      "metadata": {
        "colab": {
          "base_uri": "https://localhost:8080/"
        },
        "id": "YaTUjRhDUGNG",
        "outputId": "c9cb44e9-5ba2-4041-87af-1e79df70a1b8"
      },
      "execution_count": 168,
      "outputs": [
        {
          "output_type": "execute_result",
          "data": {
            "text/plain": [
              "array([160, 350,  50, ..., 275, 179, 110])"
            ]
          },
          "metadata": {},
          "execution_count": 168
        }
      ]
    },
    {
      "cell_type": "code",
      "source": [
        "# Create train/test split\n",
        "X_train, X_test, y_train, y_test = train_test_split(X, y, test_size=0.2, random_state=2021)"
      ],
      "metadata": {
        "id": "NFpiotiaM9JZ"
      },
      "execution_count": 169,
      "outputs": []
    },
    {
      "cell_type": "code",
      "source": [
        "# Train a XGBoost classifier\n",
        "start_time = time.time()\n",
        "print(\"Train model\")\n",
        "\n",
        "params = {'colsample_bylevel': 1.0,\n",
        "          'colsample_bytree': 0.3,\n",
        "          'gamma' : 1.0,\n",
        "          'eta' : 0.1,\n",
        "          'max_depth' : 3,\n",
        "          'min_child_weight' : 0.5,\n",
        "          'alpha': 10.0,\n",
        "          'lambda': 10.0,\n",
        "          'subsample': 0.9,\n",
        "          'objective' : 'reg:linear',\n",
        "          'eval_metric': 'logloss',\n",
        "          'seed': 2021}\n",
        "\n",
        "xgb_train = xgb.DMatrix(X_train, label=y_train)\n",
        "xgb_test = xgb.DMatrix(X_test, label=y_test)\n",
        "watchlist = [(xgb_train, 'train'), (xgb_test, 'eval')]\n",
        " \n",
        "start_time = time.time()\n",
        "xgb_clf = xgb.train(params, \n",
        "                    xgb_train, \n",
        "                    10000, \n",
        "                    watchlist, \n",
        "                    early_stopping_rounds=50, \n",
        "                    verbose_eval=10)\n",
        "\n",
        "print('Execution time: {:0.2f}m'.format((time.time()-start_time)/60))"
      ],
      "metadata": {
        "colab": {
          "base_uri": "https://localhost:8080/"
        },
        "id": "sTllPQf-M9X6",
        "outputId": "a9eb53bf-2f97-4d06-b953-3ba1a0ee09d8"
      },
      "execution_count": 170,
      "outputs": [
        {
          "output_type": "stream",
          "name": "stdout",
          "text": [
            "Train model\n",
            "[16:47:10] WARNING: /workspace/src/objective/regression_obj.cu:152: reg:linear is now deprecated in favor of reg:squarederror.\n",
            "[0]\ttrain-logloss:-5474.05\teval-logloss:-5397.04\n",
            "Multiple eval metrics have been passed: 'eval-logloss' will be used for early stopping.\n",
            "\n",
            "Will train until eval-logloss hasn't improved in 50 rounds.\n",
            "[10]\ttrain-logloss:-5474.05\teval-logloss:-5397.04\n",
            "[20]\ttrain-logloss:-5474.05\teval-logloss:-5397.04\n",
            "[30]\ttrain-logloss:-5474.05\teval-logloss:-5397.04\n",
            "[40]\ttrain-logloss:-5474.05\teval-logloss:-5397.04\n",
            "[50]\ttrain-logloss:-5474.05\teval-logloss:-5397.04\n",
            "Stopping. Best iteration:\n",
            "[0]\ttrain-logloss:-5474.05\teval-logloss:-5397.04\n",
            "\n",
            "Execution time: 0.00m\n"
          ]
        }
      ]
    },
    {
      "cell_type": "code",
      "source": [
        "feature_important = xgb_clf.get_score(importance_type='weight')\n",
        "keys = list(feature_important.keys())\n",
        "values = list(feature_important.values())\n",
        "\n",
        "data = pd.DataFrame(data=values, index=keys, columns=[\"score\"]).sort_values(by = \"score\", ascending=False)\n",
        "data.nlargest(40, columns=\"score\").plot(kind='barh', figsize = (20,10)) "
      ],
      "metadata": {
        "colab": {
          "base_uri": "https://localhost:8080/",
          "height": 610
        },
        "id": "9hN16g6gRPMA",
        "outputId": "d80f6418-77db-4d1a-872e-ab59e1f9ce92"
      },
      "execution_count": 172,
      "outputs": [
        {
          "output_type": "execute_result",
          "data": {
            "text/plain": [
              "<matplotlib.axes._subplots.AxesSubplot at 0x7ff44ca9b820>"
            ]
          },
          "metadata": {},
          "execution_count": 172
        },
        {
          "output_type": "display_data",
          "data": {
            "text/plain": [
              "<Figure size 1440x720 with 1 Axes>"
            ],
            "image/png": "[encoded data removed]"
          },
          "metadata": {
            "needs_background": "light"
          }
        }
      ]
    },
    {
      "cell_type": "markdown",
      "source": [
        "# Predictors \n",
        "Bathroom, bedrooms, host_listings_count are top three predictors of price.\n",
        "\n",
        "Further work is needed to evaluate against other models like CatBoost, Regresssion, etc."
      ],
      "metadata": {
        "id": "XfWS9QIGgKn-"
      }
    },
    {
      "cell_type": "markdown",
      "metadata": {
        "id": "Q1vo44YQ19nM"
      },
      "source": [
        "# Holdout validation or 2-Fold involves\n",
        "\n",
        "- splitting the full dataset into 2 partitions or segments: a training set and a test set\n",
        "- training the model on the training set,\n",
        "- using the trained model to predict labels on the test set,\n",
        "- computing an error metric to understand the model's effectiveness,\n",
        "- switch the training and test sets and repeat,\n",
        "- average the errors."
      ]
    },
    {
      "cell_type": "code",
      "execution_count": 120,
      "metadata": {
        "id": "EeIywhef19nN"
      },
      "outputs": [],
      "source": [
        "#stripped_commas = dc_listings['price'].str.replace(',', '')\n",
        "#stripped_dollars = stripped_commas.str.replace('$', '')\n",
        "#dc_listings['price'] = stripped_dollars.astype('float')\n",
        "dc_listings['bedrooms']=dc_listings['bedrooms'].fillna(0).astype('int')\n",
        "\n",
        "np.random.seed(1)\n",
        "\n",
        "#shuffle\n",
        "s_index = np.random.permutation(dc_listings.shape[0])\n",
        "dc_listings = dc_listings.loc[s_index]\n",
        "\n",
        "split_one = dc_listings.iloc[0:1862]\n",
        "split_two = dc_listings.iloc[1862:]"
      ]
    },
    {
      "cell_type": "code",
      "execution_count": 121,
      "metadata": {
        "colab": {
          "base_uri": "https://localhost:8080/"
        },
        "id": "YA8mHmBZ19nO",
        "outputId": "42c8a865-b3fd-4e14-ccb2-cf90c7068751"
      },
      "outputs": [
        {
          "output_type": "stream",
          "name": "stdout",
          "text": [
            "157.1232049209205\n"
          ]
        }
      ],
      "source": [
        "from sklearn.neighbors import KNeighborsRegressor\n",
        "from sklearn.metrics import mean_squared_error\n",
        "import numpy as np\n",
        "\n",
        "#cross validation involves iterating while switching train and test splits\n",
        "train_one = split_one\n",
        "test_one = split_two\n",
        "train_two = split_two\n",
        "test_two = split_one\n",
        "\n",
        "# for documentation on algorithm = auto parameter of KNeighborsRegressor\n",
        "# see http://scikit-learn.org/stable/modules/neighbors.html#nearest-neighbor-algorithms\n",
        "# first iteration\n",
        "train_columns = ['bedrooms']\n",
        "knn = KNeighborsRegressor(n_neighbors=5, algorithm='auto', metric='euclidean')\n",
        "knn.fit(train_one[train_columns], train_one['price'])\n",
        "prediction1 = knn.predict(test_one[train_columns])\n",
        "\n",
        "# score performance using MSE and RMSE\n",
        "# RMSE is aka residual sum of squares\n",
        "y_true = test_one['price'].values\n",
        "y_pred = prediction1\n",
        "iteration_one_mse = mean_squared_error(y_true,y_pred)\n",
        "iteration_one_rmse = iteration_one_mse**0.5    \n",
        "\n",
        "# second iteration\n",
        "train_columns = ['bedrooms']\n",
        "knn = KNeighborsRegressor(n_neighbors=5, algorithm='auto', metric='euclidean')\n",
        "knn.fit(train_two[train_columns], train_two['price'])\n",
        "prediction2 = knn.predict(test_two[train_columns])\n",
        "\n",
        "# score performance using MSE and RMSE\n",
        "# RMSE is aka residual sum of squares\n",
        "y_true = test_two['price'].values\n",
        "y_pred = prediction2\n",
        "iteration_two_mse = mean_squared_error(y_true,y_pred)\n",
        "iteration_two_rmse = iteration_two_mse**0.5   \n",
        "\n",
        "avg_rmse = np.mean([iteration_one_rmse,iteration_two_rmse])\n",
        "print(avg_rmse)"
      ]
    },
    {
      "cell_type": "markdown",
      "metadata": {
        "id": "2V1kAY0X19nR"
      },
      "source": [
        "# K-fold cross validation \n",
        "\n",
        "K-fold cross validation, on the other hand, takes advantage of a larger proportion of the data during training while still rotating through different segments or subsets of the data to avoid the issues of train/test validation.\n",
        "\n",
        "The algorithm for k-fold cross validation involves:\n",
        "\n",
        "- splitting the full dataset into k equal length partitions.\n",
        "- selecting k-1 partitions as the training set and\n",
        "- selecting the remaining partition as the test set\n",
        "- training the model on the training set.\n",
        "- using the trained model to predict labels on the test fold.\n",
        "- computing the test fold's error metric.\n",
        "- repeating all of the above steps k-1 times, until each partition has been used as the test set for an iteration.\n",
        "- calculating the mean of the k error values."
      ]
    },
    {
      "cell_type": "code",
      "execution_count": 122,
      "metadata": {
        "id": "ChdZezNK19nS"
      },
      "outputs": [],
      "source": [
        "# Generally 5 folds are used\n",
        "dc_listings.loc[dc_listings.index[0:745], \"fold\"] = 1\n",
        "dc_listings.loc[dc_listings.index[745:1490], \"fold\"] = 2\n",
        "dc_listings.loc[dc_listings.index[1490:2234], \"fold\"] = 3\n",
        "dc_listings.loc[dc_listings.index[2234:2978], \"fold\"] = 4\n",
        "dc_listings.loc[dc_listings.index[2978:3723], \"fold\"] = 5"
      ]
    },
    {
      "cell_type": "code",
      "execution_count": 123,
      "metadata": {
        "colab": {
          "base_uri": "https://localhost:8080/"
        },
        "id": "DO7qKumd19nS",
        "outputId": "95a30f6c-6e3c-4705-8458-c943c5343fa9"
      },
      "outputs": [
        {
          "output_type": "stream",
          "name": "stdout",
          "text": [
            "94.2769411764292\n"
          ]
        }
      ],
      "source": [
        "from sklearn.neighbors import KNeighborsRegressor\n",
        "from sklearn.metrics import mean_squared_error\n",
        "\n",
        "#cross validation involves iterating while switching train and test splits\n",
        "train_split = dc_listings[dc_listings['fold'].isin([2,3,4,5])]\n",
        "test_split = dc_listings[dc_listings['fold'].isin([1])]\n",
        "\n",
        "# first iteration, default neighbors = 5 and is optional\n",
        "# train on the hypothesis that 'accommodates' influences the price \n",
        "train_columns = ['bedrooms']\n",
        "knn = KNeighborsRegressor(n_neighbors=5, algorithm='auto', metric='euclidean')\n",
        "knn.fit(train_split[train_columns], train_split['price'])\n",
        "prediction = knn.predict(test_split[train_columns])\n",
        "\n",
        "# score performance using MSE and RMSE\n",
        "# RMSE is aka residual sum of squares\n",
        "y_true = test_split['price'].values\n",
        "y_pred = prediction\n",
        "iteration_one_mse = mean_squared_error(y_true,y_pred)\n",
        "iteration_one_rmse = iteration_one_mse**0.5  \n",
        "print(iteration_one_rmse)"
      ]
    },
    {
      "cell_type": "code",
      "execution_count": 124,
      "metadata": {
        "colab": {
          "base_uri": "https://localhost:8080/"
        },
        "id": "X0hh2W6L19nT",
        "outputId": "24590923-aac4-4cb4-baaa-49902cb50ca1"
      },
      "outputs": [
        {
          "output_type": "stream",
          "name": "stdout",
          "text": [
            "[94.2769411764292, 124.40995255726935, 158.89438011540264, 103.58846850133278, 135.81936602679113]\n",
            "123.39782167544502\n",
            "23.046739414895104\n"
          ]
        }
      ],
      "source": [
        "# Try wrapping the training model in a function\n",
        "# Use np.mean to calculate the mean.\n",
        "import numpy as np\n",
        "from sklearn.neighbors import KNeighborsRegressor\n",
        "from sklearn.metrics import mean_squared_error\n",
        "\n",
        "fold_ids = [1,2,3,4,5]\n",
        "\n",
        "def train_and_validate(df,folds):\n",
        "    \n",
        "    thermses = []\n",
        "    for f in folds:\n",
        "        train_split = df[df['fold'] != f]\n",
        "        test_split = df[df['fold'] == f]\n",
        "        #train the split\n",
        "        train_columns = ['bedrooms']\n",
        "        knn = KNeighborsRegressor(n_neighbors=5, algorithm='auto', metric='euclidean')\n",
        "        knn.fit(train_split[train_columns], train_split['price'])\n",
        "    \n",
        "        prediction = knn.predict(test_split[train_columns])\n",
        "\n",
        "        # performance using MSE and RMSE\n",
        "        # RMSE is aka residual sum of squares\n",
        "        y_true = test_split['price'].values\n",
        "        y_pred = prediction\n",
        "        iteration_one_mse = mean_squared_error(y_true,y_pred)\n",
        "        iteration_one_rmse = iteration_one_mse**0.5\n",
        "        thermses.append(iteration_one_rmse)\n",
        "    return(thermses)\n",
        "\n",
        "rmses = train_and_validate (dc_listings,fold_ids)\n",
        "avg_rmse = np.mean(rmses)\n",
        "print(rmses)\n",
        "print(avg_rmse)\n",
        "print(np.std(rmses))"
      ]
    },
    {
      "cell_type": "markdown",
      "metadata": {
        "id": "a4tbKpzg19nU"
      },
      "source": [
        "# Using KFold and Cross_Val_Score\n",
        "\n",
        "The function written as is, however, has many limitations. If we want to now change the number of folds we want to use, we need to make the function more general so it can also handle randomizing the ordering of the rows in the dataframe and splitting into folds.\n",
        "\n",
        "In machine learning, we're interested in building a good model and accurately understanding how well it will perform. To build a better k-nearest neighbors model, we can change the features it uses or tweak the number of neighbors (a hyperparameter). To accurately understand a model's performance, we can perform k-fold cross validation and select the proper number of folds. The scikit-learn library makes it easy for us to quickly experiment with these different knobs when it comes to building a better model. \n",
        "\n",
        "The KFold class returns an iterator object which we use in conjunction with the cross_val_score() function, also from sklearn.model_selection. Together, these 2 functions allow us to compactly train and test using k-fold cross validation"
      ]
    },
    {
      "cell_type": "code",
      "execution_count": 125,
      "metadata": {
        "colab": {
          "base_uri": "https://localhost:8080/"
        },
        "id": "5kG6moX-19nV",
        "outputId": "89fee0d3-aa2b-44b3-cafd-95effa2b4511"
      },
      "outputs": [
        {
          "output_type": "stream",
          "name": "stdout",
          "text": [
            "120.03461809829494\n"
          ]
        }
      ],
      "source": [
        "from sklearn.model_selection import cross_val_score, KFold\n",
        "from sklearn.neighbors import KNeighborsRegressor\n",
        "import numpy as np\n",
        "\n",
        "\n",
        "knn = KNeighborsRegressor()\n",
        "kf = KFold(n_splits=5, shuffle=True, random_state=1)\n",
        "X1 = dc_listings[['bedrooms']]\n",
        "y1 = dc_listings[['price']]\n",
        "mses = cross_val_score(estimator=knn, X=X1, y=y1, cv=kf, scoring='neg_mean_squared_error')\n",
        "mses = np.abs(mses)\n",
        "avg_rmse = np.mean(np.sqrt(mses))\n",
        "print(avg_rmse)\n",
        "\n",
        "# compare to above rmse - in a way we are building some type of baseline score for the model"
      ]
    },
    {
      "cell_type": "markdown",
      "metadata": {
        "id": "AMEUfMl119nW"
      },
      "source": [
        "# Choosing the right k value \n",
        "\n",
        "Choosing the right k for k-fold cross validation is more of an art and less of a science. A k value of 2 is really just holdout validation. On the other end, setting k equal to n (the number of observations in the data set) is known as leave-one-out cross validation, or LOOCV for short. Through lots of trial and error, data scientists have converged on 10 as the standard k value."
      ]
    },
    {
      "cell_type": "code",
      "execution_count": 126,
      "metadata": {
        "colab": {
          "base_uri": "https://localhost:8080/"
        },
        "id": "MeuXFAcR19nX",
        "outputId": "89bd08dc-ef94-41cf-8eda-fc79ee997fb9"
      },
      "outputs": [
        {
          "output_type": "stream",
          "name": "stdout",
          "text": [
            "3 folds:  avg RMSE:  122.15353293638361 std RMSE:  2.0295161693966555\n",
            "5 folds:  avg RMSE:  120.03461809829494 std RMSE:  13.439737842295807\n",
            "7 folds:  avg RMSE:  121.00867900283158 std RMSE:  15.918159121165813\n",
            "9 folds:  avg RMSE:  122.8033911506138 std RMSE:  19.75231504752228\n",
            "10 folds:  avg RMSE:  121.3863052084433 std RMSE:  21.529620397148705\n",
            "11 folds:  avg RMSE:  121.59824182607657 std RMSE:  23.32274739299588\n",
            "13 folds:  avg RMSE:  117.10960661353761 std RMSE:  26.657562475339063\n",
            "15 folds:  avg RMSE:  118.7671513891173 std RMSE:  28.892064183783816\n",
            "17 folds:  avg RMSE:  116.35279964396892 std RMSE:  35.08290650353693\n",
            "19 folds:  avg RMSE:  116.80378102782183 std RMSE:  35.820675211912\n",
            "21 folds:  avg RMSE:  120.15826679629274 std RMSE:  36.31245655118032\n",
            "23 folds:  avg RMSE:  117.12892494822523 std RMSE:  37.84042217306169\n"
          ]
        }
      ],
      "source": [
        "from sklearn.model_selection import cross_val_score, KFold\n",
        "\n",
        "num_folds = [3, 5, 7, 9, 10, 11, 13, 15, 17, 19, 21, 23]\n",
        "\n",
        "for fold in num_folds:\n",
        "    kf = KFold(fold, shuffle=True, random_state=1)\n",
        "    model = KNeighborsRegressor()\n",
        "    mses = cross_val_score(model, dc_listings[[\"bedrooms\"]], dc_listings[\"price\"], scoring=\"neg_mean_squared_error\", cv=kf)\n",
        "    rmses = np.sqrt(np.absolute(mses))\n",
        "    avg_rmse = np.mean(rmses)\n",
        "    std_rmse = np.std(rmses)\n",
        "    print(str(fold), \"folds: \", \"avg RMSE: \", str(avg_rmse), \"std RMSE: \", str(std_rmse))"
      ]
    },
    {
      "cell_type": "markdown",
      "source": [
        "# Interpreting results\n",
        "\n",
        "From results above - 5 folds appears to be the ideal train/test split. \n",
        "\n",
        "Further work - split the XGBoost train/test as above from 2 to 5. Then rerun the model and see the impact to the predictors."
      ],
      "metadata": {
        "id": "zQrUwdGOgztF"
      }
    },
    {
      "cell_type": "markdown",
      "metadata": {
        "id": "7ixaEvCX19nY"
      },
      "source": [
        "# Bias and Variance\n",
        "\n",
        "Parting thoughts: a lower RMSE does NOT always mean that a model is more accurate. A model has two other sources of error, bias and variance.\n",
        "\n",
        "Bias describes error that results in bad assumptions about the learning algorithm. For example, assuming that only one feature, like a car's weight, relates to a car's fuel efficiency will lead you to fit a simple, univariate regression model that will result in high bias. The error rate will be high since a car's fuel efficiency is affected by many other factors besides just its weight.\n",
        "\n",
        "Variance describes error that occurs because of the variability of a model's predicted values. If we were given a dataset with 1000 features on each car and used every single feature to train an incredibly complicated multivariate regression model, we will have low bias but high variance. In an ideal world, we want low bias and low variance but in reality, there's always a tradeoff.\n",
        "\n",
        "The standard deviation of the RMSE values can be a proxy for a model's variance while the average RMSE is a proxy for a model's bias. Bias and variance are the 2 observable sources of error in a model that we can indirectly control.\n",
        "\n",
        "References:\n",
        "\n",
        "https://stats.stackexchange.com/questions/63968/optimization-the-root-of-all-evil-in-statistics\n",
        "\n",
        "https://www.analyticsvidhya.com/blog/2016/03/complete-guide-parameter-tuning-xgboost-with-codes-python/\n",
        "\n",
        "https://mohamedirfansh.github.io/Airbnb-Data-Science-Project/\n"
      ]
    }
  ],
  "metadata": {
    "kernelspec": {
      "display_name": "Python 3",
      "language": "python",
      "name": "python3"
    },
    "language_info": {
      "codemirror_mode": {
        "name": "ipython",
        "version": 3
      },
      "file_extension": ".py",
      "mimetype": "text/x-python",
      "name": "python",
      "nbconvert_exporter": "python",
      "pygments_lexer": "ipython3",
      "version": "3.6.4"
    },
    "colab": {
      "provenance": []
    }
  },
  "nbformat": 4,
  "nbformat_minor": 0
}