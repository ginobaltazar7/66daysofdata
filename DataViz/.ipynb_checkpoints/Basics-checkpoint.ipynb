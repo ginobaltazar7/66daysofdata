{
 "cells": [
  {
   "cell_type": "code",
   "execution_count": null,
   "metadata": {
    "collapsed": true
   },
   "outputs": [],
   "source": [
    "%matplotlib inline\n",
    "import pandas as pd\n",
    "import matplotlib.pyplot as plt\n",
    "\n",
    "women_degrees = pd.read_csv('percent-bachelors-degrees-women-usa.csv')\n",
    "cb_dark_blue = (0/255,107/255,164/255)\n",
    "cb_orange = (255/255, 128/255, 14/255)\n",
    "stem_cats = ['Engineering', 'Computer Science', 'Psychology', 'Biology', 'Physical Sciences', 'Math and Statistics']\n",
    "\n",
    "fig = plt.figure(figsize=(18, 3))\n",
    "\n",
    "for sp in range(0,6):\n",
    "    ax = fig.add_subplot(1,6,sp+1)\n",
    "    ax.plot(women_degrees['Year'], women_degrees[stem_cats[sp]], c=cb_dark_blue, label='Women', linewidth=3)\n",
    "    ax.plot(women_degrees['Year'], 100-women_degrees[stem_cats[sp]], c=cb_orange, label='Men', linewidth=3)\n",
    "    ax.spines[\"right\"].set_visible(False)    \n",
    "    ax.spines[\"left\"].set_visible(False)\n",
    "    ax.spines[\"top\"].set_visible(False)    \n",
    "    ax.spines[\"bottom\"].set_visible(False)\n",
    "    ax.set_xlim(1968, 2011)\n",
    "    ax.set_ylim(0,100)\n",
    "    ax.set_title(stem_cats[sp])\n",
    "    ax.tick_params(bottom=\"off\", top=\"off\", left=\"off\", right=\"off\")\n",
    "    \n",
    "    if sp == 0:\n",
    "        ax.text(2005, 87, 'Men')\n",
    "        ax.text(2002, 8, 'Women')\n",
    "    elif sp == 5:\n",
    "        ax.text(2005, 62, 'Men')\n",
    "        ax.text(2001, 35, 'Women')\n",
    "plt.show()"
   ]
  }
 ],
 "metadata": {
  "kernelspec": {
   "display_name": "Python 3",
   "language": "python",
   "name": "python3"
  },
  "language_info": {
   "codemirror_mode": {
    "name": "ipython",
    "version": 3
   },
   "file_extension": ".py",
   "mimetype": "text/x-python",
   "name": "python",
   "nbconvert_exporter": "python",
   "pygments_lexer": "ipython3",
   "version": "3.4.3"
  }
 },
 "nbformat": 4,
 "nbformat_minor": 0
}
