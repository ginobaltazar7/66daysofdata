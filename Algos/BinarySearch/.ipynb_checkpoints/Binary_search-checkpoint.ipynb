{
 "cells": [
  {
   "cell_type": "markdown",
   "metadata": {},
   "source": [
    "\n",
    "# Binary Search\n",
    "\n",
    "May 2021\n",
    "\n",
    "Binary Search is a way of understanding the efficiency or complexity behind an algorithm by way of comparing the performance of a linear search versus using binary search pattern. The key concepts are how to find the middle element of a list, coding the division recursively and calculating Big(O) complexity.\n"
   ]
  },
  {
   "cell_type": "code",
   "execution_count": 169,
   "metadata": {},
   "outputs": [],
   "source": [
    "def in_listYN (list, target):\n",
    "    \"\"\"\n",
    "        this function sets up the division recursively \n",
    "        input:\n",
    "            list: actual list of elements\n",
    "            target: desired value to search\n",
    "            returns: boolean if found True, otherwise False\n",
    "    \"\"\"\n",
    "    print(list, target)\n",
    "    if len(list) <2:\n",
    "        if list[0] == target:\n",
    "            return True\n",
    "        else:\n",
    "            return False \n",
    "    \n",
    "    middlePointer = len(list) // 2\n",
    "    if target < list[middlePointer]:\n",
    "        return in_listYN(list[:middlePointer], target)\n",
    "    else:\n",
    "        return in_listYN(list[middlePointer:], target)\n"
   ]
  },
  {
   "cell_type": "code",
   "execution_count": 165,
   "metadata": {},
   "outputs": [
    {
     "name": "stdout",
     "output_type": "stream",
     "text": [
      "[1, 2, 3, 4, 5, 6, 7, 8, 9, 10, 11, 12, 13, 14, 15, 16] 16\n",
      "[9, 10, 11, 12, 13, 14, 15, 16] 16\n",
      "[13, 14, 15, 16] 16\n",
      "[15, 16] 16\n",
      "[16] 16\n"
     ]
    },
    {
     "data": {
      "text/plain": [
       "True"
      ]
     },
     "execution_count": 165,
     "metadata": {},
     "output_type": "execute_result"
    }
   ],
   "source": [
    "in_listYN([1, 2, 3, 4, 5, 6, 7, 8, 9, 10, 11, 12, 13, 14, 15,16], 16)"
   ]
  },
  {
   "cell_type": "code",
   "execution_count": 170,
   "metadata": {},
   "outputs": [
    {
     "name": "stdout",
     "output_type": "stream",
     "text": [
      "[1, 2, 3, 4, 5, 6, 7, 8, 9, 10, 11, 12, 13, 14, 15, 16] 22\n",
      "[9, 10, 11, 12, 13, 14, 15, 16] 22\n",
      "[13, 14, 15, 16] 22\n",
      "[15, 16] 22\n",
      "[16] 22\n"
     ]
    },
    {
     "data": {
      "text/plain": [
       "False"
      ]
     },
     "execution_count": 170,
     "metadata": {},
     "output_type": "execute_result"
    }
   ],
   "source": [
    "in_listYN([1, 2, 3, 4, 5, 6, 7, 8, 9, 10, 11, 12, 13, 14, 15,16], 22)"
   ]
  },
  {
   "cell_type": "code",
   "execution_count": 171,
   "metadata": {},
   "outputs": [],
   "source": [
    "def binarySearch (list, target):\n",
    "    \"\"\"\n",
    "        this function sets up the division recursively \n",
    "        input:\n",
    "            list: actual list of elements\n",
    "            target: desired value to search\n",
    "            returns: index position\n",
    "    \"\"\"\n",
    "    print(list,target)\n",
    "    leftPointer = 0\n",
    "    rightPointer = len(list)-1\n",
    "    middlePointer = int((leftPointer + rightPointer)/2)\n",
    "    \n",
    "    while leftPointer < rightPointer:\n",
    "        guess = list[middlePointer]\n",
    "        ##print(leftPointer, rightPointer, middlePointer, guess)  #uncomment for debug\n",
    "        if guess == target:\n",
    "            return middlePointer\n",
    "        elif guess < target:\n",
    "            rightPointer = middlePointer-1\n",
    "            return middlePointer + 1 + binarySearch(list[middlePointer+1:], target)\n",
    "        else: \n",
    "            return binarySearch(list[:middlePointer], target)\n",
    "    return middlePointer"
   ]
  },
  {
   "cell_type": "code",
   "execution_count": 172,
   "metadata": {},
   "outputs": [
    {
     "name": "stdout",
     "output_type": "stream",
     "text": [
      "[1, 2, 3, 4, 5, 6, 7, 8, 9, 10, 11, 12, 13, 14, 15, 16] 1\n",
      "[1, 2, 3, 4, 5, 6, 7] 1\n",
      "[1, 2, 3] 1\n",
      "[1] 1\n"
     ]
    },
    {
     "data": {
      "text/plain": [
       "0"
      ]
     },
     "execution_count": 172,
     "metadata": {},
     "output_type": "execute_result"
    }
   ],
   "source": [
    "binarySearch([1, 2, 3, 4, 5, 6, 7, 8, 9, 10, 11, 12, 13, 14, 15,16], 1)"
   ]
  },
  {
   "cell_type": "code",
   "execution_count": 173,
   "metadata": {},
   "outputs": [
    {
     "name": "stdout",
     "output_type": "stream",
     "text": [
      "[1, 2, 3, 4, 5, 6, 7, 8, 9, 10, 11, 12, 13, 14, 15, 16] 16\n",
      "[9, 10, 11, 12, 13, 14, 15, 16] 16\n",
      "[13, 14, 15, 16] 16\n",
      "[15, 16] 16\n",
      "[16] 16\n"
     ]
    },
    {
     "data": {
      "text/plain": [
       "15"
      ]
     },
     "execution_count": 173,
     "metadata": {},
     "output_type": "execute_result"
    }
   ],
   "source": [
    "binarySearch([1, 2, 3, 4, 5, 6, 7, 8, 9, 10, 11, 12, 13, 14, 15,16], 16)"
   ]
  },
  {
   "cell_type": "code",
   "execution_count": 174,
   "metadata": {},
   "outputs": [
    {
     "name": "stdout",
     "output_type": "stream",
     "text": [
      "[1, 2, 3, 4, 5, 6, 7, 8, 9, 10, 11, 12, 13, 14, 15, 16] 9\n",
      "[9, 10, 11, 12, 13, 14, 15, 16] 9\n",
      "[9, 10, 11] 9\n",
      "[9] 9\n"
     ]
    },
    {
     "data": {
      "text/plain": [
       "8"
      ]
     },
     "execution_count": 174,
     "metadata": {},
     "output_type": "execute_result"
    }
   ],
   "source": [
    "binarySearch([1, 2, 3, 4, 5, 6, 7, 8, 9, 10, 11, 12, 13, 14, 15,16], 9)"
   ]
  },
  {
   "cell_type": "code",
   "execution_count": null,
   "metadata": {},
   "outputs": [],
   "source": []
  }
 ],
 "metadata": {
  "kernelspec": {
   "display_name": "Python 3",
   "language": "python",
   "name": "python3"
  },
  "language_info": {
   "codemirror_mode": {
    "name": "ipython",
    "version": 3
   },
   "file_extension": ".py",
   "mimetype": "text/x-python",
   "name": "python",
   "nbconvert_exporter": "python",
   "pygments_lexer": "ipython3",
   "version": "3.7.4"
  }
 },
 "nbformat": 4,
 "nbformat_minor": 2
}
