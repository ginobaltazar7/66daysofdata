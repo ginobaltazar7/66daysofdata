{
 "cells": [
  {
   "cell_type": "markdown",
   "metadata": {},
   "source": [
    "\n",
    "# Binary Rotated\n",
    "\n",
    "May 2021\n",
    "\n",
    "Binary Search algorithm could still be used but we would first need to find out the point/index which divides the array into two parts such that we have two sorted arrays and then decide which part does target belongs to.  \n"
   ]
  },
  {
   "cell_type": "code",
   "execution_count": 11,
   "metadata": {},
   "outputs": [],
   "source": [
    "def binaryRotate (list, target):\n",
    "    \"\"\"\n",
    "        this function sets up the division recursively \n",
    "        input:\n",
    "            list: actual list of elements\n",
    "            target: desired value to search\n",
    "            returns: True or False boolean if element found\n",
    "    \"\"\"\n",
    "    print(list,target)\n",
    "    if len(list) == 0:\n",
    "        return False\n",
    "    mid = int(len(list)/2)\n",
    "    \n",
    "    if target == list[mid]:\n",
    "        return True\n",
    "    elif target > list[mid]:\n",
    "        if target <= list[len(list) -1] or list[mid] > list[len(list)-1]:\n",
    "            return binaryRotate(list[mid+1:],target)\n",
    "        else:\n",
    "            return binaryRotate(list[0:mid],target)\n",
    "    else: # target < list[mid]\n",
    "        if target >= list[0] or list[mid] < list[len(list)-1]:\n",
    "            return binaryRotate(list[0:mid],target)\n",
    "        else:\n",
    "            return binaryRotate(list[mid+1:],target)\n",
    "\n"
   ]
  },
  {
   "cell_type": "code",
   "execution_count": 12,
   "metadata": {},
   "outputs": [
    {
     "name": "stdout",
     "output_type": "stream",
     "text": [
      "[1, 2, 3, 12, 5, 6, 7, 8, 9, 10, 11, 4, 13, 14, 15, 16] 1\n",
      "[1, 2, 3, 12, 5, 6, 7, 8] 1\n",
      "[1, 2, 3, 12] 1\n",
      "[1, 2] 1\n",
      "[1] 1\n"
     ]
    },
    {
     "data": {
      "text/plain": [
       "True"
      ]
     },
     "execution_count": 12,
     "metadata": {},
     "output_type": "execute_result"
    }
   ],
   "source": [
    "binaryRotate([1, 2, 3, 12, 5, 6, 7, 8, 9, 10, 11, 4, 13, 14, 15,16], 1)"
   ]
  },
  {
   "cell_type": "code",
   "execution_count": 13,
   "metadata": {},
   "outputs": [
    {
     "name": "stdout",
     "output_type": "stream",
     "text": [
      "[1, 99, 3, 12, 5, 6, 7, 8, 9, 10, 11, 4, 13, 14, 15, 16] 99\n",
      "[1, 99, 3, 12, 5, 6, 7, 8] 99\n",
      "[1, 99, 3, 12] 99\n",
      "[1, 99] 99\n"
     ]
    },
    {
     "data": {
      "text/plain": [
       "True"
      ]
     },
     "execution_count": 13,
     "metadata": {},
     "output_type": "execute_result"
    }
   ],
   "source": [
    "binaryRotate([1, 99, 3, 12, 5, 6, 7, 8, 9, 10, 11, 4, 13, 14, 15,16], 99)"
   ]
  },
  {
   "cell_type": "code",
   "execution_count": 14,
   "metadata": {},
   "outputs": [
    {
     "name": "stdout",
     "output_type": "stream",
     "text": [
      "[1, 99, 3, 12, 5, 6, 7, 8, 9, 10, 11, 4, 13, 14, 15, 16] 98\n",
      "[1, 99, 3, 12, 5, 6, 7, 8] 98\n",
      "[1, 99, 3, 12] 98\n",
      "[1, 99] 98\n",
      "[1] 98\n",
      "[] 98\n"
     ]
    },
    {
     "data": {
      "text/plain": [
       "False"
      ]
     },
     "execution_count": 14,
     "metadata": {},
     "output_type": "execute_result"
    }
   ],
   "source": [
    "binaryRotate([1, 99, 3, 12, 5, 6, 7, 8, 9, 10, 11, 4, 13, 14, 15,16], 98)"
   ]
  },
  {
   "cell_type": "code",
   "execution_count": null,
   "metadata": {},
   "outputs": [],
   "source": []
  }
 ],
 "metadata": {
  "kernelspec": {
   "display_name": "Python 3",
   "language": "python",
   "name": "python3"
  },
  "language_info": {
   "codemirror_mode": {
    "name": "ipython",
    "version": 3
   },
   "file_extension": ".py",
   "mimetype": "text/x-python",
   "name": "python",
   "nbconvert_exporter": "python",
   "pygments_lexer": "ipython3",
   "version": "3.7.4"
  }
 },
 "nbformat": 4,
 "nbformat_minor": 2
}
